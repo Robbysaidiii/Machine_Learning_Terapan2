{
  "nbformat": 4,
  "nbformat_minor": 0,
  "metadata": {
    "colab": {
      "provenance": []
    },
    "kernelspec": {
      "name": "python3",
      "display_name": "Python 3"
    },
    "language_info": {
      "name": "python"
    }
  },
  "cells": [
    {
      "cell_type": "markdown",
      "source": [
        "#PROJECT OVERVIEW & BUSINESS UNDERSTANDING"
      ],
      "metadata": {
        "id": "MntswC-bFpfg"
      }
    },
    {
      "cell_type": "markdown",
      "source": [
        "\"\"\"\n",
        "PROJECT OVERVIEW:\n",
        "Industri hiburan, khususnya platform streaming film, membutuhkan sistem rekomendasi\n",
        "yang efektif untuk meningkatkan user engagement dan kepuasan pengguna. Sistem\n",
        "rekomendasi membantu pengguna menemukan film yang sesuai dengan preferensi mereka\n",
        "dari ribuan pilihan yang tersedia.\n",
        "\n",
        "BUSINESS UNDERSTANDING:\n",
        "- Problem Statement: Bagaimana cara merekomendasikan film yang relevan berdasarkan\n",
        "  preferensi genre pengguna?\n",
        "- Goals: Membangun sistem rekomendasi yang dapat memberikan rekomendasi film personal\n",
        "  berdasarkan riwayat preferensi genre pengguna\n",
        "- Solution Approach: Content-Based Filtering menggunakan similarity analysis\n",
        "\"\"\""
      ],
      "metadata": {
        "id": "vpT7GK0dFxUN"
      }
    },
    {
      "cell_type": "markdown",
      "source": [
        "#DATA UNDERSTANDING & PREPARATION"
      ],
      "metadata": {
        "id": "qTfd_yKYF0L5"
      }
    },
    {
      "cell_type": "code",
      "source": [
        "# Import required libraries\n",
        "import pandas as pd\n",
        "import numpy as np\n",
        "import pickle\n",
        "import zipfile\n",
        "import matplotlib.pyplot as plt\n",
        "import seaborn as sns\n",
        "from sklearn.feature_extraction.text import TfidfVectorizer\n",
        "from sklearn.metrics.pairwise import cosine_similarity\n",
        "from sklearn.preprocessing import MultiLabelBinarizer\n",
        "import warnings\n",
        "warnings.filterwarnings('ignore')\n",
        "\n",
        "print(\"=== MOVIE RECOMMENDATION SYSTEM ===\")\n",
        "print(\"Libraries imported successfully!\")\n"
      ],
      "metadata": {
        "colab": {
          "base_uri": "https://localhost:8080/",
          "height": 0
        },
        "id": "Mb46Uz7uF3ig",
        "outputId": "30f25024-8afc-4946-fdad-c2df26d1bdf3"
      },
      "execution_count": 1,
      "outputs": [
        {
          "output_type": "stream",
          "name": "stdout",
          "text": [
            "=== MOVIE RECOMMENDATION SYSTEM ===\n",
            "Libraries imported successfully!\n"
          ]
        }
      ]
    },
    {
      "cell_type": "markdown",
      "source": [
        "| Baris Kode                                                    | Fungsi                                                                                              |\n",
        "| ------------------------------------------------------------- | --------------------------------------------------------------------------------------------------- |\n",
        "| `import pandas as pd`                                         | Untuk manipulasi data dalam bentuk tabel (DataFrame).                                               |\n",
        "| `import numpy as np`                                          | Untuk perhitungan numerik seperti array dan matrix.                                                 |\n",
        "| `import pickle`                                               | Untuk memuat atau menyimpan objek Python ke dalam file binary, seperti dictionary user preferences. |\n",
        "| `import zipfile`                                              | Untuk mengekstrak file ZIP (dataset kamu dalam bentuk ZIP).                                         |\n",
        "| `import matplotlib.pyplot as plt`                             | Untuk membuat visualisasi (grafik, histogram, dll).                                                 |\n",
        "| `import seaborn as sns`                                       | Untuk visualisasi statistik yang lebih menarik dan informatif (opsional).                           |\n",
        "| `from sklearn.feature_extraction.text import TfidfVectorizer` | (Tidak digunakan di versi final, awalnya untuk model berbasis teks).                                |\n",
        "| `from sklearn.metrics.pairwise import cosine_similarity`      | Untuk menghitung kesamaan antara vektor (digunakan dalam content-based filtering).                  |\n",
        "| `from sklearn.preprocessing import MultiLabelBinarizer`       | Mengubah list genre menjadi vektor biner (fitur film).                                              |\n",
        "| `import warnings; warnings.filterwarnings('ignore')`          | Menyembunyikan peringatan runtime agar output tidak berisik di Colab.                               |\n"
      ],
      "metadata": {
        "id": "Nyemiplutqk5"
      }
    },
    {
      "cell_type": "code",
      "source": [
        "# Mount Google Drive\n",
        "from google.colab import drive\n",
        "drive.mount('/content/drive')"
      ],
      "metadata": {
        "colab": {
          "base_uri": "https://localhost:8080/",
          "height": 0
        },
        "id": "oGmh4H9RF7tG",
        "outputId": "64fd0e13-8be0-402c-d1a3-ac3358ebd5a9"
      },
      "execution_count": 2,
      "outputs": [
        {
          "output_type": "stream",
          "name": "stdout",
          "text": [
            "Mounted at /content/drive\n"
          ]
        }
      ]
    },
    {
      "cell_type": "markdown",
      "source": [
        "Baris ini menjalankan fungsi mount() dari modul drive. Fungsinya adalah untuk menghubungkan Google Drive kamu ke mesin virtual Google Colab sehingga kamu bisa mengakses file yang ada di Google Drive langsung dari Colab.\n",
        "\n"
      ],
      "metadata": {
        "id": "dozmtlQlt2fh"
      }
    },
    {
      "cell_type": "code",
      "source": [
        "# Extract dataset\n",
        "zip_path = '/content/drive/MyDrive/Content based filtering/archive (4).zip'\n",
        "extract_path = '/content/content_based_filtering'\n",
        "\n",
        "print(\"\\n=== EXTRACTING DATASET ===\")\n",
        "with zipfile.ZipFile(zip_path, 'r') as zip_ref:\n",
        "    zip_ref.extractall(extract_path)\n",
        "print(\"Dataset extracted successfully!\")\n"
      ],
      "metadata": {
        "colab": {
          "base_uri": "https://localhost:8080/",
          "height": 0
        },
        "id": "sMTR_LyWGEQ4",
        "outputId": "bc87457b-7965-498d-db9e-e144352d4a5b"
      },
      "execution_count": 3,
      "outputs": [
        {
          "output_type": "stream",
          "name": "stdout",
          "text": [
            "\n",
            "=== EXTRACTING DATASET ===\n",
            "Dataset extracted successfully!\n"
          ]
        }
      ]
    },
    {
      "cell_type": "markdown",
      "source": [
        "zip_path = '/content/drive/MyDrive/Content based filtering/archive (4).zip'\n",
        "Ini adalah path (lokasi) file ZIP yang ingin kamu ekstrak. File ZIP tersebut berada di Google Drive kamu, tepatnya di folder MyDrive/Content based filtering dengan nama file archive (4).zip.\n",
        "\n",
        "extract_path = '/content/content_based_filtering'\n",
        "Ini adalah path tujuan di mana isi file ZIP akan diekstrak. Dalam kasus ini, folder content_based_filtering di dalam sistem file lokal Google Colab (direktori /content).\n",
        "\n",
        "print(\"\\n=== EXTRACTING DATASET ===\")\n",
        "Ini hanya mencetak pesan di output supaya kita tahu bahwa proses ekstraksi sedang dimulai.\n",
        "\n",
        "with zipfile.ZipFile(zip_path, 'r') as zip_ref:\n",
        "Baris ini membuka file ZIP dalam mode baca ('r') menggunakan modul zipfile Python.\n",
        "\n",
        "zip_ref adalah objek yang mewakili file ZIP tersebut selama blok with berjalan.\n",
        "\n",
        "zip_ref.extractall(extract_path)\n",
        "Baris ini mengekstrak semua isi file ZIP ke folder tujuan yang sudah ditentukan (extract_path).\n",
        "\n",
        "print(\"Dataset extracted successfully!\")\n",
        "Setelah ekstraksi selesai, mencetak pesan bahwa dataset sudah berhasil diekstrak.\n",
        "\n"
      ],
      "metadata": {
        "id": "IKfTSAqIt_IQ"
      }
    },
    {
      "cell_type": "code",
      "source": [
        "# Define file paths\n",
        "csv_path = '/content/content_based_filtering/content_movie_list.csv'\n",
        "pickle_path = '/content/content_based_filtering/content_user_to_genre.pickle'\n",
        "header_path = '/content/content_based_filtering/content_user_train_header.txt'\n",
        "\n",
        "print(\"\\n=== LOADING DATA FILES ===\")\n"
      ],
      "metadata": {
        "colab": {
          "base_uri": "https://localhost:8080/",
          "height": 0
        },
        "id": "VDYD8SrhGFPW",
        "outputId": "c6c97ab1-d2a9-49de-9503-7a1381968db7"
      },
      "execution_count": 4,
      "outputs": [
        {
          "output_type": "stream",
          "name": "stdout",
          "text": [
            "\n",
            "=== LOADING DATA FILES ===\n"
          ]
        }
      ]
    },
    {
      "cell_type": "markdown",
      "source": [
        "csv_path = '/content/content_based_filtering/content_movie_list.csv'\n",
        "Mendefinisikan variabel csv_path yang menyimpan lokasi file CSV bernama content_movie_list.csv. File ini kemungkinan berisi data daftar film dalam format tabel (Comma-Separated Values).\n",
        "\n",
        "pickle_path = '/content/content_based_filtering/content_user_to_genre.pickle'\n",
        "Mendefinisikan variabel pickle_path yang menyimpan lokasi file dengan ekstensi .pickle. File pickle biasanya berisi data Python yang sudah disimpan dalam format serialized (disimpan secara khusus agar bisa langsung dibaca kembali oleh Python). Di sini, mungkin berisi peta (mapping) antara user dan genre film.\n",
        "\n",
        "header_path = '/content/content_based_filtering/content_user_train_header.txt'\n",
        "Mendefinisikan variabel header_path yang menyimpan lokasi file teks .txt, mungkin berisi informasi header atau metadata yang terkait dengan data pelatihan user.\n",
        "\n",
        "print(\"\\n=== LOADING DATA FILES ===\")\n",
        "Mencetak pesan ke output bahwa proses memuat (loading) file data akan dimulai. Pesan ini berguna sebagai indikator di console supaya kita tahu di tahap mana program sedang berjalan."
      ],
      "metadata": {
        "id": "xFQj85gjuO2W"
      }
    },
    {
      "cell_type": "code",
      "source": [
        "# Load movie data\n",
        "movie_list = pd.read_csv(csv_path)\n",
        "print(f\"Movie data loaded: {movie_list.shape}\")\n",
        "\n",
        "# Load user header\n",
        "with open(header_path, 'r') as header:\n",
        "    for line in header:\n",
        "        user_header = line.strip().split(',')\n",
        "print(f\"User header loaded: {len(user_header)} columns\")\n",
        "\n",
        "# Load user-genre preferences\n",
        "with open(pickle_path, 'rb') as f:\n",
        "    user_to_genre = pickle.load(f)\n",
        "print(f\"User preferences loaded: {len(user_to_genre)} users\")\n"
      ],
      "metadata": {
        "colab": {
          "base_uri": "https://localhost:8080/",
          "height": 0
        },
        "id": "lmCfPIdVGR_X",
        "outputId": "f327c8f2-2f05-440d-8a8f-c8ac2b853226"
      },
      "execution_count": 5,
      "outputs": [
        {
          "output_type": "stream",
          "name": "stdout",
          "text": [
            "Movie data loaded: (694, 3)\n",
            "User header loaded: 17 columns\n",
            "User preferences loaded: 395 users\n"
          ]
        }
      ]
    },
    {
      "cell_type": "code",
      "source": [
        "print(\"\\n=== DATA LOADING SUMMARY ===\")\n",
        "print(f\"Number of movies: {len(movie_list)}\")\n",
        "print(f\"Number of users: {len(user_to_genre)}\")\n"
      ],
      "metadata": {
        "colab": {
          "base_uri": "https://localhost:8080/",
          "height": 0
        },
        "id": "v7VA71nKGYuh",
        "outputId": "e888b74e-9808-402c-c944-a941fdc5f10a"
      },
      "execution_count": 6,
      "outputs": [
        {
          "output_type": "stream",
          "name": "stdout",
          "text": [
            "\n",
            "=== DATA LOADING SUMMARY ===\n",
            "Number of movies: 694\n",
            "Number of users: 395\n"
          ]
        }
      ]
    },
    {
      "cell_type": "markdown",
      "source": [
        "Movie data loaded: (694, 3)\n",
        "\n",
        "Ini artinya file CSV content_movie_list.csv berisi 694 baris dan 3 kolom.\n",
        "\n",
        "Jadi, dataset film tersebut memuat informasi untuk 694 film, dengan 3 atribut (misalnya bisa jadi movie_id, title, dan genre atau atribut lain).\n",
        "\n",
        "User header loaded: 17 columns\n",
        "\n",
        "File header teks yang dibaca berisi sebuah baris dengan 17 kolom.\n",
        "\n",
        "Biasanya ini berarti data pengguna atau fitur yang berhubungan dengan user tersebut terdiri dari 17 atribut/faktor.\n",
        "\n",
        "Kolom ini bisa berupa nama-nama fitur atau label yang nanti digunakan untuk mengidentifikasi atau memproses data user.\n",
        "\n",
        "User preferences loaded: 395 users\n",
        "\n",
        "File pickle yang berisi preferensi user ke genre film menunjukkan ada 395 pengguna yang datanya berhasil dimuat.\n",
        "\n",
        "Artinya, data preferensi genre film ini tersedia untuk 395 user unik.\n",
        "\n"
      ],
      "metadata": {
        "id": "ISgOiplVufrd"
      }
    },
    {
      "cell_type": "markdown",
      "source": [
        "#EXPLORATORY DATA ANALYSIS (EDA)"
      ],
      "metadata": {
        "id": "Nj8RVo4nGc6F"
      }
    },
    {
      "cell_type": "code",
      "source": [
        "# Display basic information about the dataset\n",
        "print(\"\\n1. Movie Dataset Info:\")\n",
        "print(movie_list.info())\n"
      ],
      "metadata": {
        "colab": {
          "base_uri": "https://localhost:8080/",
          "height": 0
        },
        "id": "2oh_mAigGeRs",
        "outputId": "18da2d3e-0865-45d3-c237-6ff05fcda0be"
      },
      "execution_count": 7,
      "outputs": [
        {
          "output_type": "stream",
          "name": "stdout",
          "text": [
            "\n",
            "1. Movie Dataset Info:\n",
            "<class 'pandas.core.frame.DataFrame'>\n",
            "RangeIndex: 694 entries, 0 to 693\n",
            "Data columns (total 3 columns):\n",
            " #   Column   Non-Null Count  Dtype \n",
            "---  ------   --------------  ----- \n",
            " 0   movieId  694 non-null    int64 \n",
            " 1   title    694 non-null    object\n",
            " 2   genres   694 non-null    object\n",
            "dtypes: int64(1), object(2)\n",
            "memory usage: 16.4+ KB\n",
            "None\n"
          ]
        }
      ]
    },
    {
      "cell_type": "markdown",
      "source": [
        "Dataset film ini berisi 694 film, setiap film memiliki ID unik, judul, dan genre.\n",
        "\n",
        "Tidak ada data yang hilang (missing values) di ketiga kolom.\n",
        "\n",
        "Format data sudah rapi dan siap dipakai untuk analisis atau sistem rekomendasi."
      ],
      "metadata": {
        "id": "dRFIhcW4undF"
      }
    },
    {
      "cell_type": "code",
      "source": [
        "print(\"\\n2. First 5 movies:\")\n",
        "print(movie_list.head())\n"
      ],
      "metadata": {
        "colab": {
          "base_uri": "https://localhost:8080/",
          "height": 0
        },
        "id": "-n7X6eBLGin7",
        "outputId": "f7651c72-b889-4b95-a008-872e6b56aaea"
      },
      "execution_count": 8,
      "outputs": [
        {
          "output_type": "stream",
          "name": "stdout",
          "text": [
            "\n",
            "2. First 5 movies:\n",
            "   movieId                                 title                  genres\n",
            "0     4054            Save the Last Dance (2001)           Drama|Romance\n",
            "1     4069           Wedding Planner, The (2001)          Comedy|Romance\n",
            "2     4148                       Hannibal (2001)         Horror|Thriller\n",
            "3     4149  Saving Silverman (Evil Woman) (2001)          Comedy|Romance\n",
            "4     4153                  Down to Earth (2001)  Comedy|Fantasy|Romance\n"
          ]
        }
      ]
    },
    {
      "cell_type": "markdown",
      "source": [
        "movieId:\n",
        "Merupakan ID unik untuk setiap film.\n",
        "\n",
        "Misalnya: 4054, 4069, dll.\n",
        "\n",
        "ID ini biasanya digunakan untuk pencocokan (matching) dengan data lain seperti rating, user preference, dll.\n",
        "\n",
        "2. title:\n",
        "Berisi judul lengkap film, termasuk tahun rilis di dalam tanda kurung.\n",
        "\n",
        "Contoh: \"Save the Last Dance (2001)\", \"Hannibal (2001)\".\n",
        "\n",
        "Tahun rilis mempermudah membedakan film dengan judul yang mirip.\n",
        "\n",
        "3. genres:\n",
        "Berisi daftar genre film, dipisahkan dengan karakter | (pipe).\n",
        "\n",
        "Contoh:\n",
        "\n",
        "\"Drama|Romance\" → berarti film bergenre Drama dan Romance.\n",
        "\n",
        "\"Comedy|Fantasy|Romance\" → berarti film mencampur unsur komedi, fantasi, dan romantis.\n",
        "\n",
        "Tujuan Data Ini:\n",
        "Data ini akan sangat berguna dalam sistem Content-Based Filtering, karena genre dan judul merupakan fitur utama yang dapat dibandingkan dengan preferensi pengguna. Misalnya:\n",
        "\n",
        "Jika pengguna suka genre Comedy dan Romance, maka film seperti \"Wedding Planner, The\" atau \"Saving Silverman\" mungkin cocok direkomendasikan."
      ],
      "metadata": {
        "id": "bPC0yOW-u2Fa"
      }
    },
    {
      "cell_type": "code",
      "source": [
        "print(\"\\n3. Dataset Statistics:\")\n",
        "print(movie_list.describe())\n"
      ],
      "metadata": {
        "colab": {
          "base_uri": "https://localhost:8080/",
          "height": 0
        },
        "id": "kXmMVc8_Gond",
        "outputId": "bf563b8c-067b-4fa3-f2d8-6b12b9a2c49f"
      },
      "execution_count": 9,
      "outputs": [
        {
          "output_type": "stream",
          "name": "stdout",
          "text": [
            "\n",
            "3. Dataset Statistics:\n",
            "             movieId\n",
            "count     694.000000\n",
            "mean    47990.858790\n",
            "std     42944.060806\n",
            "min      4054.000000\n",
            "25%      6570.250000\n",
            "50%     45439.000000\n",
            "75%     73245.000000\n",
            "max    187593.000000\n"
          ]
        }
      ]
    },
    {
      "cell_type": "markdown",
      "source": [
        "| Statistik | Nilai         | Penjelasan                                                                       |\n",
        "| --------- | ------------- | -------------------------------------------------------------------------------- |\n",
        "| count     | 694.000000    | Jumlah film dalam dataset (694 buah). Sama seperti jumlah baris.                 |\n",
        "| mean      | 47990.858790  | Rata-rata ID film: 47.990 — hanya menunjukkan nilai tengah, **bukan urutan**.    |\n",
        "| std       | 42944.060806  | Standar deviasi (sebaran data) yang tinggi, artinya `movieId` sangat bervariasi. |\n",
        "| min       | 4054.000000   | ID film terkecil di dataset.                                                     |\n",
        "| 25%       | 6570.250000   | Kuartil pertama: 25% film punya ID ≤ 6570.                                       |\n",
        "| 50%       | 45439.000000  | Median (titik tengah data): ID ke-347 punya nilai ini.                           |\n",
        "| 75%       | 73245.000000  | Kuartil ketiga: 75% film punya ID ≤ 73.245.                                      |\n",
        "| max       | 187593.000000 | ID film terbesar dalam dataset.                                                  |\n"
      ],
      "metadata": {
        "id": "PCbFKZExu-1-"
      }
    },
    {
      "cell_type": "code",
      "source": [
        "print(\"\\n4. Missing Values:\")\n",
        "print(movie_list.isnull().sum())\n"
      ],
      "metadata": {
        "colab": {
          "base_uri": "https://localhost:8080/",
          "height": 0
        },
        "id": "kZ37ye_mGtXj",
        "outputId": "f4dda27b-96ef-4395-845d-5a5c4e8b4f50"
      },
      "execution_count": 10,
      "outputs": [
        {
          "output_type": "stream",
          "name": "stdout",
          "text": [
            "\n",
            "4. Missing Values:\n",
            "movieId    0\n",
            "title      0\n",
            "genres     0\n",
            "dtype: int64\n"
          ]
        }
      ]
    },
    {
      "cell_type": "markdown",
      "source": [
        "Semua kolom memiliki 0 missing values. Artinya:\n",
        "\n",
        "Tidak ada film yang tidak memiliki ID (movieId).\n",
        "\n",
        "Semua film memiliki judul lengkap (title).\n",
        "\n",
        "Semua film memiliki genre yang tercatat (genres)."
      ],
      "metadata": {
        "id": "k7bHpYFGvHkh"
      }
    },
    {
      "cell_type": "code",
      "source": [
        "\n",
        "print(\"Available columns:\", movie_list.columns)\n",
        "print(\"Null genres count:\", movie_list['genres'].isnull().sum())\n",
        "print(\"Sample genres:\", movie_list['genres'].dropna().head())"
      ],
      "metadata": {
        "colab": {
          "base_uri": "https://localhost:8080/",
          "height": 0
        },
        "id": "mKhswVRHISb5",
        "outputId": "c7b73d44-c435-4b02-afae-5a454256dad1"
      },
      "execution_count": 11,
      "outputs": [
        {
          "output_type": "stream",
          "name": "stdout",
          "text": [
            "Available columns: Index(['movieId', 'title', 'genres'], dtype='object')\n",
            "Null genres count: 0\n",
            "Sample genres: 0             Drama|Romance\n",
            "1            Comedy|Romance\n",
            "2           Horror|Thriller\n",
            "3            Comedy|Romance\n",
            "4    Comedy|Fantasy|Romance\n",
            "Name: genres, dtype: object\n"
          ]
        }
      ]
    },
    {
      "cell_type": "markdown",
      "source": [
        "| Index | Genres                   | Arti                                                    |\n",
        "| ----- | ------------------------ | ------------------------------------------------------- |\n",
        "| 0     | Drama\\|Romance           | Film ini bergenre Drama dan Romance.                    |\n",
        "| 1     | Comedy\\|Romance          | Film ini bergenre Komedi dan Romantis.                  |\n",
        "| 2     | Horror\\|Thriller         | Film ini bergenre Horor dan Thriller.                   |\n",
        "| 3     | Comedy\\|Romance          | Sama seperti baris ke-1.                                |\n",
        "| 4     | Comedy\\|Fantasy\\|Romance | Film ini mencampur genre Komedi, Fantasi, dan Romantis. |\n"
      ],
      "metadata": {
        "id": "eWeh1Y0_vZSf"
      }
    },
    {
      "cell_type": "code",
      "source": [
        "print(\"\\n5. Genre Analysis:\")\n",
        "if 'genres' in movie_list.columns:\n",
        "    all_genres = []\n",
        "    for genres in movie_list['genres'].dropna():\n",
        "        if isinstance(genres, str):\n",
        "            all_genres.extend([g.strip() for g in genres.split('|')])\n",
        "\n",
        "    genre_counts = pd.Series(all_genres).value_counts()\n",
        "    print(\"Top 10 most common genres:\")\n",
        "    print(genre_counts.head(10))\n",
        "\n",
        "    plt.figure(figsize=(12, 6))\n",
        "    genre_counts.head(10).plot(kind='bar')\n",
        "    plt.title('Top 10 Movie Genres Distribution')\n",
        "    plt.xlabel('Genre')\n",
        "    plt.ylabel('Count')\n",
        "    plt.xticks(rotation=45)\n",
        "    plt.tight_layout()\n",
        "    plt.show()"
      ],
      "metadata": {
        "colab": {
          "base_uri": "https://localhost:8080/",
          "height": 870
        },
        "id": "qJK15KdZGxq5",
        "outputId": "5a9e253b-0663-48cc-f6df-4f0a50b85418"
      },
      "execution_count": 12,
      "outputs": [
        {
          "output_type": "stream",
          "name": "stdout",
          "text": [
            "\n",
            "5. Genre Analysis:\n",
            "Top 10 most common genres:\n",
            "Comedy       296\n",
            "Drama        281\n",
            "Action       234\n",
            "Thriller     211\n",
            "Adventure    166\n",
            "Romance      130\n",
            "Sci-Fi       127\n",
            "Crime        124\n",
            "Fantasy       88\n",
            "Mystery       59\n",
            "Name: count, dtype: int64\n"
          ]
        },
        {
          "output_type": "display_data",
          "data": {
            "text/plain": [
              "<Figure size 1200x600 with 1 Axes>"
            ],
            "image/png": "[encoded data removed]"
          },
          "metadata": {}
        }
      ]
    },
    {
      "cell_type": "markdown",
      "source": [
        "**Top 10 Genre Film Paling Umum:**\n",
        "\n",
        "1. **Comedy (296 film)**\n",
        "   Genre paling sering muncul. Ini menunjukkan bahwa film bergenre komedi sangat populer atau sering diproduksi.\n",
        "\n",
        "2. **Drama (281 film)**\n",
        "   Hampir setara dengan komedi. Drama juga merupakan genre yang sangat dominan, mungkin karena fleksibilitas temanya.\n",
        "\n",
        "3. **Action (234 film)**\n",
        "   Genre aksi menempati urutan ketiga. Aksi sering diminati karena daya tarik visual dan adrenalin tinggi.\n",
        "\n",
        "4. **Thriller (211 film)**\n",
        "   Film yang memacu ketegangan dan misteri. Cukup populer, menandakan minat tinggi terhadap cerita menegangkan.\n",
        "\n",
        "5. **Adventure (166 film)**\n",
        "   Genre petualangan menonjol, mungkin karena daya tarik eksplorasi dan perjalanan epik.\n",
        "\n",
        "6. **Romance (130 film)**\n",
        "   Genre percintaan juga signifikan, biasanya menarik bagi audiens yang menginginkan narasi emosional.\n",
        "\n",
        "7. **Sci-Fi (127 film)**\n",
        "   Fiksi ilmiah cukup umum, menunjukkan ketertarikan terhadap cerita berbasis teknologi dan masa depan.\n",
        "\n",
        "8. **Crime (124 film)**\n",
        "   Genre kriminalitas juga banyak ditemukan, karena ceritanya yang sering penuh konflik dan misteri.\n",
        "\n",
        "9. **Fantasy (88 film)**\n",
        "   Genre ini lebih niche, tapi masih cukup populer, terutama di kalangan penggemar dunia imajinatif.\n",
        "\n",
        "10. **Mystery (59 film)**\n",
        "    Meskipun berada di urutan terakhir dari 10 besar, genre misteri tetap relevan dan diminati.\n",
        "\n",
        "**Kesimpulan:**\n",
        "\n",
        "* Genre **komedi dan drama** mendominasi industri film dalam dataset ini.\n",
        "* Genre seperti **mystery dan fantasy** lebih jarang ditemukan, meskipun masih cukup signifikan untuk masuk ke daftar 10 besar.\n",
        "* Genre populer cenderung mencerminkan permintaan pasar atau strategi komersial dari produser film."
      ],
      "metadata": {
        "id": "pmGzDwfZvzFl"
      }
    },
    {
      "cell_type": "code",
      "source": [
        "# Analyze user preferences\n",
        "print(\"\\n6. User Preference Analysis (sample):\")\n",
        "for i, (user, prefs) in enumerate(user_to_genre.items()):\n",
        "    print(f\"User {user}: {prefs}\")\n",
        "    if i >= 2:\n",
        "        break"
      ],
      "metadata": {
        "colab": {
          "base_uri": "https://localhost:8080/",
          "height": 0
        },
        "id": "Oe7OvQmoG6bM",
        "outputId": "b5e0322f-8592-4911-e015-702fd35b0220"
      },
      "execution_count": 13,
      "outputs": [
        {
          "output_type": "stream",
          "name": "stdout",
          "text": [
            "\n",
            "6. User Preference Analysis (sample):\n",
            "User 2: {'glist': array([[3.9  , 5.   , 0.   , 0.   , 4.   , 4.2  , 4.   , 4.   , 0.   ,\n",
            "        3.   , 4.   , 0.   , 4.25 , 3.875]]), 'g_count': array([[5., 1., 0., 0., 5., 5., 2., 9., 0., 1., 1., 0., 2., 8.]]), 'rating_count': 16, 'rating_sum': np.float64(65.0), 'movies': {np.int64(6874): np.float64(4.0), np.int64(8798): np.float64(3.5), np.int64(46970): np.float64(4.0), np.int64(48516): np.float64(4.0), np.int64(60756): np.float64(5.0), np.int64(71535): np.float64(3.0), np.int64(74458): np.float64(4.0), np.int64(77455): np.float64(3.0), np.int64(80489): np.float64(4.5), np.int64(80906): np.float64(5.0), np.int64(89774): np.float64(5.0), np.int64(91658): np.float64(2.5), np.int64(106782): np.float64(5.0), np.int64(112552): np.float64(4.0), np.int64(115713): np.float64(3.5), np.int64(122882): np.float64(5.0)}, 'rating_ave': np.float64(4.0625)}\n",
            "User 3: {'glist': array([[0.5, 0. , 0. , 0. , 0. , 0. , 0. , 0.5, 0. , 0. , 0. , 0. , 0.5,\n",
            "        0.5]]), 'g_count': array([[1., 0., 0., 0., 0., 0., 0., 1., 0., 0., 0., 0., 1., 1.]]), 'rating_count': 1, 'rating_sum': np.float64(0.5), 'movies': {np.int64(72378): np.float64(0.5)}, 'rating_ave': np.float64(0.5)}\n",
            "User 4: {'glist': array([[0.  , 4.  , 0.  , 4.  , 2.5 , 4.  , 0.  , 3.25, 4.  , 0.  , 0.  ,\n",
            "        4.  , 0.  , 0.  ]]), 'g_count': array([[0., 1., 0., 1., 2., 2., 0., 4., 1., 0., 0., 1., 0., 0.]]), 'rating_count': 5, 'rating_sum': np.float64(17.0), 'movies': {np.int64(4239): np.float64(5.0), np.int64(4246): np.float64(4.0), np.int64(4641): np.float64(1.0), np.int64(4881): np.float64(3.0), np.int64(4896): np.float64(4.0)}, 'rating_ave': np.float64(3.4)}\n"
          ]
        }
      ]
    },
    {
      "cell_type": "markdown",
      "source": [
        "Struktur ini mewakili profil konten tiap user berdasarkan genre.\n",
        "\n",
        "Berguna untuk content-based filtering, misalnya:\n",
        "\n",
        "Bandingkan glist user dengan genre film baru → jika mirip dan g_count cukup tinggi, bisa direkomendasikan.\n",
        "\n",
        "Data movies bisa dipakai untuk evaluasi: apakah sistem merekomendasikan film yang sudah pernah ditonton?"
      ],
      "metadata": {
        "id": "rZAomYlZwKIU"
      }
    },
    {
      "cell_type": "code",
      "source": [
        "# Plot distribution of number of preferred genres per user\n",
        "user_pref_lengths = [len(prefs) for prefs in user_to_genre.values()]\n",
        "plt.figure(figsize=(10, 6))\n",
        "plt.hist(user_pref_lengths, bins=20, edgecolor='black')\n",
        "plt.title('Distribution of User Preference Count')\n",
        "plt.xlabel('Number of Preferred Genres')\n",
        "plt.ylabel('Number of Users')\n",
        "plt.grid(True, alpha=0.3)\n",
        "plt.show()"
      ],
      "metadata": {
        "colab": {
          "base_uri": "https://localhost:8080/",
          "height": 564
        },
        "id": "3_eAzckiInqC",
        "outputId": "c3fd3a12-5e55-4f8e-88d9-438ee3281b6b"
      },
      "execution_count": 14,
      "outputs": [
        {
          "output_type": "display_data",
          "data": {
            "text/plain": [
              "<Figure size 1000x600 with 1 Axes>"
            ],
            "image/png": "[encoded data removed]"
          },
          "metadata": {}
        }
      ]
    },
    {
      "cell_type": "markdown",
      "source": [
        "Tidak ada variasi dalam jumlah genre yang disukai antar pengguna (semua memilih 6).\n",
        "\n",
        "Ini menyebabkan grafik hanya memiliki satu batang tunggal pada angka 6, dan distribusinya menjadi sangat terpusat (tidak menyebar sama sekali)."
      ],
      "metadata": {
        "id": "GNPpXZfgwnEJ"
      }
    },
    {
      "cell_type": "code",
      "source": [
        "print(f\"Average genres per user: {np.mean(user_pref_lengths):.2f}\")\n",
        "print(f\"Max genres per user: {max(user_pref_lengths)}\")\n",
        "print(f\"Min genres per user: {min(user_pref_lengths)}\")"
      ],
      "metadata": {
        "colab": {
          "base_uri": "https://localhost:8080/",
          "height": 0
        },
        "id": "SZkx2A09IxgB",
        "outputId": "64bd285d-63be-492a-d2f5-ff1fc4852d1d"
      },
      "execution_count": 15,
      "outputs": [
        {
          "output_type": "stream",
          "name": "stdout",
          "text": [
            "Average genres per user: 6.00\n",
            "Max genres per user: 6\n",
            "Min genres per user: 6\n"
          ]
        }
      ]
    },
    {
      "cell_type": "markdown",
      "source": [
        "Semua pengguna dalam dataset memilih tepat 6 genre sebagai preferensi mereka.\n",
        "\n",
        "Tidak ada variasi antar pengguna dalam jumlah genre yang disukai.\n",
        "\n",
        "Distribusi ini sepenuhnya seragam (uniform), sehingga:\n",
        "\n",
        "Rata-rata, maksimum, dan minimum semuanya bernilai 6.\n",
        "\n",
        "Cocok untuk sistem yang mengharuskan pengguna memilih jumlah genre yang tetap (misalnya dalam survei atau input awal profil)."
      ],
      "metadata": {
        "id": "sNb_3vBbxAHj"
      }
    },
    {
      "cell_type": "markdown",
      "source": [
        "#DATA PREPARATION"
      ],
      "metadata": {
        "id": "HPu3OaTxI1EV"
      }
    },
    {
      "cell_type": "markdown",
      "source": [
        "##Cleaning movie data"
      ],
      "metadata": {
        "id": "rjhk1hsuI8fu"
      }
    },
    {
      "cell_type": "code",
      "source": [
        "# Remove rows with missing essential information\n",
        "movie_clean = movie_list.dropna(subset=['title']).copy()\n",
        "print(f\"Movies after cleaning: {len(movie_clean)}\")\n",
        "\n",
        "# Handle missing genres\n",
        "if 'genres' in movie_clean.columns:\n",
        "    movie_clean['genres'] = movie_clean['genres'].fillna('Unknown')\n",
        ""
      ],
      "metadata": {
        "colab": {
          "base_uri": "https://localhost:8080/",
          "height": 0
        },
        "id": "i8JkDj_hI2du",
        "outputId": "46adf040-fa3c-42da-9d6d-2792fbcf2177"
      },
      "execution_count": 16,
      "outputs": [
        {
          "output_type": "stream",
          "name": "stdout",
          "text": [
            "Movies after cleaning: 694\n"
          ]
        }
      ]
    },
    {
      "cell_type": "markdown",
      "source": [
        "Setelah proses pembersihan data (data cleaning) selesai dilakukan, jumlah total film yang tersisa dalam dataset adalah 694 film."
      ],
      "metadata": {
        "id": "YKnh0vWaxNou"
      }
    },
    {
      "cell_type": "markdown",
      "source": [
        "##Creating genre features"
      ],
      "metadata": {
        "id": "KYt8lMY0JDrY"
      }
    },
    {
      "cell_type": "code",
      "source": [
        "def preprocess_genres(genre_string):\n",
        "    \"\"\"Convert genre string to list of genres\"\"\"\n",
        "    if pd.isna(genre_string) or genre_string == 'Unknown':\n",
        "        return ['Unknown']\n",
        "    return [g.strip() for g in str(genre_string).split('|')]\n",
        "\n",
        "# Apply genre preprocessing\n",
        "movie_clean['genre_list'] = movie_clean['genres'].apply(preprocess_genres)\n",
        "\n",
        "# Create binary genre matrix\n",
        "mlb = MultiLabelBinarizer()\n",
        "genre_matrix = mlb.fit_transform(movie_clean['genre_list'])\n",
        "genre_df = pd.DataFrame(genre_matrix, columns=mlb.classes_)\n",
        "\n",
        "print(f\"Genre features created: {genre_df.shape[1]} unique genres\")\n",
        "print(f\"Available genres: {list(mlb.classes_)}\")\n"
      ],
      "metadata": {
        "colab": {
          "base_uri": "https://localhost:8080/",
          "height": 0
        },
        "id": "WAuylsliJF58",
        "outputId": "01d4b114-1790-4235-c225-e793e4e927f6"
      },
      "execution_count": 17,
      "outputs": [
        {
          "output_type": "stream",
          "name": "stdout",
          "text": [
            "Genre features created: 14 unique genres\n",
            "Available genres: ['Action', 'Adventure', 'Animation', 'Children', 'Comedy', 'Crime', 'Documentary', 'Drama', 'Fantasy', 'Horror', 'Mystery', 'Romance', 'Sci-Fi', 'Thriller']\n"
          ]
        }
      ]
    },
    {
      "cell_type": "markdown",
      "source": [
        "berhasil mengubah data genre dari format teks menjadi fitur numerik yang siap digunakan untuk analisis, visualisasi, atau model machine learning.\n",
        "\n",
        "Format ini sangat berguna untuk:\n",
        "\n",
        "Rekomendasi film berdasarkan genre,\n",
        "\n",
        "Clustering film,\n",
        "\n",
        "Analisis preferensi pengguna."
      ],
      "metadata": {
        "id": "4sKml_p4xbkK"
      }
    },
    {
      "cell_type": "markdown",
      "source": [
        "##Preparing user profiles"
      ],
      "metadata": {
        "id": "4ZKnO9GvJap-"
      }
    },
    {
      "cell_type": "code",
      "source": [
        "print(\"=== CREATING USER PROFILES ===\")\n",
        "def create_user_profile(user_id, user_preferences, genre_columns):\n",
        "    profile = np.zeros(len(genre_columns))\n",
        "    if user_id in user_preferences and 'glist' in user_preferences[user_id]:\n",
        "        glist = user_preferences[user_id]['glist']\n",
        "        if glist is not None and len(glist[0]) == len(genre_columns):\n",
        "            profile = glist[0]\n",
        "    return profile\n",
        "\n",
        "user_profiles = {\n",
        "    user_id: create_user_profile(user_id, user_to_genre, mlb.classes_)\n",
        "    for user_id in user_to_genre\n",
        "}"
      ],
      "metadata": {
        "colab": {
          "base_uri": "https://localhost:8080/",
          "height": 0
        },
        "id": "Polg4s04Jdu4",
        "outputId": "4d75a7b3-4f46-4d0b-9ebf-fd8bde0f64b0"
      },
      "execution_count": 18,
      "outputs": [
        {
          "output_type": "stream",
          "name": "stdout",
          "text": [
            "=== CREATING USER PROFILES ===\n"
          ]
        }
      ]
    },
    {
      "cell_type": "markdown",
      "source": [
        "Digunakan untuk mengukur kesamaan antara user dan genre film (misal: cosine similarity).\n",
        "\n",
        "Langkah awal penting dalam membuat sistem rekomendasi personalisasi berbasis konten.\n",
        "\n"
      ],
      "metadata": {
        "id": "-nFLofkrxmpU"
      }
    },
    {
      "cell_type": "markdown",
      "source": [
        "#MODEL DEVELOPMENT - CONTENT BASED FILTERING"
      ],
      "metadata": {
        "id": "VpJXl7_lJj6u"
      }
    },
    {
      "cell_type": "code",
      "source": [
        "print(\"=== INITIALIZING RECOMMENDER SYSTEM ===\")\n",
        "class ContentBasedRecommender:\n",
        "    def __init__(self, movies_df, genre_matrix, user_profiles):\n",
        "        self.movies_df = movies_df.reset_index(drop=True)\n",
        "        self.genre_matrix = genre_matrix\n",
        "        self.user_profiles = user_profiles\n",
        "        self.similarity_matrix = cosine_similarity(self.genre_matrix)\n",
        "\n",
        "    def get_user_movie_scores(self, user_id):\n",
        "        if user_id not in self.user_profiles:\n",
        "            return None\n",
        "        user_profile = self.user_profiles[user_id]\n",
        "        return np.dot(self.genre_matrix, user_profile)\n",
        "\n",
        "    def recommend_movies(self, user_id, n_recommendations=10):\n",
        "        scores = self.get_user_movie_scores(user_id)\n",
        "        if scores is None:\n",
        "            return pd.DataFrame()\n",
        "\n",
        "        recommendations = self.movies_df.copy()\n",
        "        recommendations['relevance_score'] = scores\n",
        "        recommendations = recommendations[recommendations['relevance_score'] > 0]\n",
        "        return recommendations.sort_values('relevance_score', ascending=False).head(n_recommendations)\n",
        "\n",
        "    def get_similar_movies(self, movie_title, n_recommendations=5):\n",
        "        idx = self.movies_df[self.movies_df['title'].str.contains(movie_title, case=False)].index\n",
        "        if idx.empty:\n",
        "            return pd.DataFrame()\n",
        "        sim_scores = list(enumerate(self.similarity_matrix[idx[0]]))\n",
        "        sim_scores = sorted(sim_scores, key=lambda x: x[1], reverse=True)\n",
        "        top_indices = [i[0] for i in sim_scores[1:n_recommendations+1]]\n",
        "        result = self.movies_df.iloc[top_indices].copy()\n",
        "        result['similarity_score'] = [sim_scores[i+1][1] for i in range(n_recommendations)]\n",
        "        return result\n",
        "\n",
        "recommender = ContentBasedRecommender(movie_list, genre_matrix, user_profiles)\n"
      ],
      "metadata": {
        "colab": {
          "base_uri": "https://localhost:8080/",
          "height": 0
        },
        "id": "fHJ-lDNqJlI4",
        "outputId": "5aa4d087-a49b-4a17-8fef-5d366763cfbe"
      },
      "execution_count": 19,
      "outputs": [
        {
          "output_type": "stream",
          "name": "stdout",
          "text": [
            "=== INITIALIZING RECOMMENDER SYSTEM ===\n"
          ]
        }
      ]
    },
    {
      "cell_type": "markdown",
      "source": [
        "\n",
        "Kode tersebut membuat **sistem rekomendasi berbasis konten** (`ContentBasedRecommender`) yang:\n",
        "\n",
        "1. **Membangun profil pengguna** berdasarkan genre film yang disukai.\n",
        "2. **Menghitung skor relevansi** setiap film untuk pengguna tertentu.\n",
        "3. **Memberikan rekomendasi film** paling relevan untuk pengguna.\n",
        "4. **Menemukan film serupa** berdasarkan kemiripan genre (cosine similarity antar film).\n",
        "\n",
        "Objek `recommender` adalah sistem siap pakai yang bisa:\n",
        "\n",
        "* `recommend_movies(user_id)` → memberi rekomendasi film untuk user.\n",
        "* `get_similar_movies(\"judul\")` → mencari film serupa dengan yang disebutkan.\n"
      ],
      "metadata": {
        "id": "4klzhHYQx7PB"
      }
    },
    {
      "cell_type": "code",
      "source": [
        "# Initialize the recommender system\n",
        "print(\"1. Initializing Content-Based Recommender...\")\n",
        "recommender = ContentBasedRecommender(movie_clean, genre_matrix, user_profiles)\n",
        "\n",
        "print(\"2. Recommender system ready!\")"
      ],
      "metadata": {
        "colab": {
          "base_uri": "https://localhost:8080/",
          "height": 0
        },
        "id": "qr9SWBdRL6oj",
        "outputId": "39d9a330-47e2-45f9-d6ed-8af09371a9b8"
      },
      "execution_count": 20,
      "outputs": [
        {
          "output_type": "stream",
          "name": "stdout",
          "text": [
            "1. Initializing Content-Based Recommender...\n",
            "2. Recommender system ready!\n"
          ]
        }
      ]
    },
    {
      "cell_type": "markdown",
      "source": [
        "# MODEL EVALUATION & TESTING"
      ],
      "metadata": {
        "id": "Ny1DLEnmJ1EL"
      }
    },
    {
      "cell_type": "markdown",
      "source": [
        "##Testing user-based recommendations"
      ],
      "metadata": {
        "id": "DcwBD9JSKCRT"
      }
    },
    {
      "cell_type": "code",
      "source": [
        "# Get sample users\n",
        "sample_users = list(user_to_genre.keys())[:3]\n",
        "\n",
        "for user_id in sample_users:\n",
        "    print(f\"\\n--- Recommendations for User {user_id} ---\")\n",
        "    print(f\"User preferences: {user_to_genre[user_id]}\")\n",
        "\n",
        "    recommendations = recommender.recommend_movies(user_id, n_recommendations=5)\n",
        "\n",
        "    if len(recommendations) > 3.0:\n",
        "        print(\"Top 5 recommended movies:\")\n",
        "        for idx, (_, movie) in enumerate(recommendations.iterrows(), 1):\n",
        "            print(f\"{idx}. {movie['title']} | Genres: {movie['genres']} | Score: {movie['relevance_score']:.2f}\")\n",
        "    else:\n",
        "        print(\"No recommendations found for this user\")\n"
      ],
      "metadata": {
        "colab": {
          "base_uri": "https://localhost:8080/",
          "height": 0
        },
        "id": "v8v_-yNVJ2IB",
        "outputId": "88792630-070f-4dc4-ca4f-93dcf1e3c3e2"
      },
      "execution_count": 26,
      "outputs": [
        {
          "output_type": "stream",
          "name": "stdout",
          "text": [
            "\n",
            "--- Recommendations for User 2 ---\n",
            "User preferences: {'glist': array([[3.9  , 5.   , 0.   , 0.   , 4.   , 4.2  , 4.   , 4.   , 0.   ,\n",
            "        3.   , 4.   , 0.   , 4.25 , 3.875]]), 'g_count': array([[5., 1., 0., 0., 5., 5., 2., 9., 0., 1., 1., 0., 2., 8.]]), 'rating_count': 16, 'rating_sum': np.float64(65.0), 'movies': {np.int64(6874): np.float64(4.0), np.int64(8798): np.float64(3.5), np.int64(46970): np.float64(4.0), np.int64(48516): np.float64(4.0), np.int64(60756): np.float64(5.0), np.int64(71535): np.float64(3.0), np.int64(74458): np.float64(4.0), np.int64(77455): np.float64(3.0), np.int64(80489): np.float64(4.5), np.int64(80906): np.float64(5.0), np.int64(89774): np.float64(5.0), np.int64(91658): np.float64(2.5), np.int64(106782): np.float64(5.0), np.int64(112552): np.float64(4.0), np.int64(115713): np.float64(3.5), np.int64(122882): np.float64(5.0)}, 'rating_ave': np.float64(4.0625)}\n",
            "Top 5 recommended movies:\n",
            "1. Sherlock Holmes: A Game of Shadows (2011) | Genres: Action|Adventure|Comedy|Crime|Mystery|Thriller | Score: 24.98\n",
            "2. Jurassic World (2015) | Genres: Action|Adventure|Drama|Sci-Fi|Thriller | Score: 21.02\n",
            "3. Children of Men (2006) | Genres: Action|Adventure|Drama|Sci-Fi|Thriller | Score: 21.02\n",
            "4. Jumper (2008) | Genres: Action|Adventure|Drama|Sci-Fi|Thriller | Score: 21.02\n",
            "5. The Hunger Games (2012) | Genres: Action|Adventure|Drama|Sci-Fi|Thriller | Score: 21.02\n",
            "\n",
            "--- Recommendations for User 3 ---\n",
            "User preferences: {'glist': array([[0.5, 0. , 0. , 0. , 0. , 0. , 0. , 0.5, 0. , 0. , 0. , 0. , 0.5,\n",
            "        0.5]]), 'g_count': array([[1., 0., 0., 0., 0., 0., 0., 1., 0., 0., 0., 0., 1., 1.]]), 'rating_count': 1, 'rating_sum': np.float64(0.5), 'movies': {np.int64(72378): np.float64(0.5)}, 'rating_ave': np.float64(0.5)}\n",
            "Top 5 recommended movies:\n",
            "1. Jurassic World (2015) | Genres: Action|Adventure|Drama|Sci-Fi|Thriller | Score: 2.00\n",
            "2. Source Code (2011) | Genres: Action|Drama|Mystery|Sci-Fi|Thriller | Score: 2.00\n",
            "3. The Hunger Games (2012) | Genres: Action|Adventure|Drama|Sci-Fi|Thriller | Score: 2.00\n",
            "4. Star Trek: Nemesis (2002) | Genres: Action|Drama|Sci-Fi|Thriller | Score: 2.00\n",
            "5. Rise of the Planet of the Apes (2011) | Genres: Action|Drama|Sci-Fi|Thriller | Score: 2.00\n",
            "\n",
            "--- Recommendations for User 4 ---\n",
            "User preferences: {'glist': array([[0.  , 4.  , 0.  , 4.  , 2.5 , 4.  , 0.  , 3.25, 4.  , 0.  , 0.  ,\n",
            "        4.  , 0.  , 0.  ]]), 'g_count': array([[0., 1., 0., 1., 2., 2., 0., 4., 1., 0., 0., 1., 0., 0.]]), 'rating_count': 5, 'rating_sum': np.float64(17.0), 'movies': {np.int64(4239): np.float64(5.0), np.int64(4246): np.float64(4.0), np.int64(4641): np.float64(1.0), np.int64(4881): np.float64(3.0), np.int64(4896): np.float64(4.0)}, 'rating_ave': np.float64(3.4)}\n",
            "Top 5 recommended movies:\n",
            "1. Shrek (2001) | Genres: Adventure|Animation|Children|Comedy|Fantasy|Romance | Score: 18.50\n",
            "2. Click (2006) | Genres: Adventure|Comedy|Drama|Fantasy|Romance | Score: 17.75\n",
            "3. Inside Out (2015) | Genres: Adventure|Animation|Children|Comedy|Drama|Fantasy | Score: 17.75\n",
            "4. Moana (2016) | Genres: Adventure|Animation|Children|Comedy|Fantasy | Score: 14.50\n",
            "5. The Lego Movie (2014) | Genres: Action|Adventure|Animation|Children|Comedy|Fantasy | Score: 14.50\n"
          ]
        }
      ]
    },
    {
      "cell_type": "markdown",
      "source": [
        "\n",
        "---\n",
        "\n",
        "### 🔍 **Tujuan Kode**\n",
        "\n",
        "Kode ini:\n",
        "\n",
        "1. Mengambil **3 pengguna sampel pertama**.\n",
        "2. Menampilkan **preferensi genre masing-masing pengguna**.\n",
        "3. Menampilkan **5 film terbaik** yang direkomendasikan sistem berdasarkan kesesuaian genre.\n",
        "4. Menyiapkan pengujian kemiripan antar-film (movie-to-movie similarity, meskipun belum ditampilkan hasilnya).\n",
        "\n",
        "---\n",
        "\n",
        "### 📊 **Penjelasan Output**\n",
        "\n",
        "#### **User 2**\n",
        "\n",
        "* **Rating rata-rata tinggi** (4.06), menunjukkan minat besar pada film berkualitas tinggi.\n",
        "* **Suka genre aksi, petualangan, sci-fi, thriller, dll.**\n",
        "* 🔝 **Rekomendasi:**\n",
        "\n",
        "  * *Sherlock Holmes*, *Jurassic World*, *Children of Men*, dll.\n",
        "  * Skor tinggi (21–24), menunjukkan film ini sangat sesuai dengan profil genre user.\n",
        "\n",
        "#### **User 3**\n",
        "\n",
        "* **Rating rendah** (0.5), hanya nonton dan memberi rating 1 film.\n",
        "* Preferensi genre belum jelas.\n",
        "* 🔝 **Rekomendasi:**\n",
        "\n",
        "  * Tetap diberi film dengan genre umum seperti sci-fi dan thriller.\n",
        "  * Skor kecil (2.00), karena data preferensi terbatas.\n",
        "\n",
        "#### **User 4**\n",
        "\n",
        "* **Rating cukup stabil** (3.4) dan menyukai **genre animasi, komedi, anak-anak, fantasi.**\n",
        "* 🔝 **Rekomendasi:**\n",
        "\n",
        "  * *Shrek*, *Inside Out*, *Moana*, dll — film animasi dan komedi keluarga.\n",
        "  * Skor 14–18, sesuai preferensi user.\n",
        "\n",
        "---\n",
        "\n",
        "### 🧠 **Kesimpulan**\n",
        "\n",
        "* Sistem rekomendasi ini berhasil **mengidentifikasi preferensi genre pengguna** dan **menyediakan film yang sesuai**.\n",
        "* Akurasinya tergantung pada **seberapa banyak dan variatif data rating pengguna.**\n",
        "* Pengguna dengan data terbatas (seperti User 3) mendapat rekomendasi kurang spesifik.\n"
      ],
      "metadata": {
        "id": "7K44hGCuyOdX"
      }
    },
    {
      "cell_type": "markdown",
      "source": [
        "## Testing movie-to-movie similarity"
      ],
      "metadata": {
        "id": "7rStV1i3KJ_v"
      }
    },
    {
      "cell_type": "code",
      "source": [
        "# Get a sample movie for similarity testing\n",
        "sample_movie = movie_clean.iloc[0]['title']\n",
        "print(f\"\\nFinding movies similar to: '{sample_movie}'\")\n",
        "\n",
        "similar_movies = recommender.get_similar_movies(sample_movie, n_recommendations=5)\n",
        "\n",
        "if len(similar_movies) > 0:\n",
        "    print(\"Top 5 similar movies:\")\n",
        "    for idx, (_, movie) in enumerate(similar_movies.iterrows(), 1):\n",
        "        print(f\"{idx}. {movie['title']} | Genres: {movie['genres']} | Similarity: {movie['similarity_score']:.3f}\")\n"
      ],
      "metadata": {
        "colab": {
          "base_uri": "https://localhost:8080/",
          "height": 0
        },
        "id": "qfzoizkCKHNt",
        "outputId": "f98930bd-7e05-4638-d357-4220b9fb1163"
      },
      "execution_count": 22,
      "outputs": [
        {
          "output_type": "stream",
          "name": "stdout",
          "text": [
            "\n",
            "Finding movies similar to: 'Save the Last Dance (2001)'\n"
          ]
        }
      ]
    },
    {
      "cell_type": "markdown",
      "source": [
        "Kode ini digunakan untuk menguji kemiripan antar-film (movie-to-movie similarity) berdasarkan genre. Prosesnya:\n",
        "\n",
        "Ambil 1 film dari dataset sebagai film acuan.\n",
        "\n",
        "Contoh: 'Save the Last Dance (2001)'\n",
        "\n",
        "Gunakan metode get_similar_movies() dari objek ContentBasedRecommender.\n",
        "\n",
        "Cari 5 film lain dengan genre paling mirip menggunakan cosine similarity antara vektor genre.\n",
        "\n",
        "🔬 Cara Kerja\n",
        "Genre setiap film sudah diubah menjadi vektor biner (misalnya: [1, 0, 1, 0, ...]).\n",
        "\n",
        "Cosine similarity mengukur seberapa dekat arah vektor genre antar dua film.\n",
        "\n",
        "Film yang memiliki genre sama atau mirip akan punya nilai similarity mendekati 1.0 (maksimum).\n",
        "\n",
        "Output akan menampilkan:\n",
        "\n",
        "Judul film mirip\n",
        "\n",
        "Genre-nya\n",
        "\n",
        "Nilai kemiripan (semakin tinggi, semakin mirip)"
      ],
      "metadata": {
        "id": "p6O66QAayWk5"
      }
    },
    {
      "cell_type": "markdown",
      "source": [
        "#EVALUATION METRICS"
      ],
      "metadata": {
        "id": "SBub9m2TKRjf"
      }
    },
    {
      "cell_type": "code",
      "source": [
        "# 5. EVALUATION FUNCTIONS\n",
        "def calculate_genre_coverage(recommendations, available_genres):\n",
        "    recommended_genres = set()\n",
        "    for _, movie in recommendations.iterrows():\n",
        "        if 'genre_list' in movie:\n",
        "            recommended_genres.update(movie['genre_list'])\n",
        "        elif 'genres' in movie and pd.notna(movie['genres']):\n",
        "            recommended_genres.update([g.strip() for g in movie['genres'].split('|')])\n",
        "    coverage = len(recommended_genres) / len(available_genres)\n",
        "    return coverage, recommended_genres\n",
        "\n",
        "def evaluate_personalization(user_id, recommendations, user_preferences, genre_labels):\n",
        "    if user_id not in user_preferences or 'glist' not in user_preferences[user_id]:\n",
        "        return 0.0\n",
        "    user_profile = user_preferences[user_id]['glist'][0]\n",
        "    user_genres = set([\n",
        "        genre_labels[i]\n",
        "        for i, score in enumerate(user_profile)\n",
        "        if score > 3.0\n",
        "    ])\n",
        "    if not user_genres:\n",
        "        return 0.0\n",
        "\n",
        "    matching_score = 0\n",
        "    total_movies = len(recommendations)\n",
        "    for _, movie in recommendations.iterrows():\n",
        "        movie_genres = set(movie.get('genre_list', []))\n",
        "        intersection = len(user_genres.intersection(movie_genres))\n",
        "        if intersection > 0:\n",
        "            matching_score += intersection / len(user_genres)\n",
        "    return matching_score / total_movies if total_movies > 0 else 0\n"
      ],
      "metadata": {
        "id": "_a1UkG42KVxh"
      },
      "execution_count": 23,
      "outputs": []
    },
    {
      "cell_type": "markdown",
      "source": [
        "Fungsi 1: calculate_genre_coverage\n",
        "Tujuan: Mengukur seberapa banyak genre yang terwakili dalam daftar film rekomendasi dibandingkan dengan total genre yang tersedia.\n",
        "\n",
        "Input:\n",
        "\n",
        "recommendations: DataFrame berisi film-film yang direkomendasikan.\n",
        "\n",
        "available_genres: list/daftar genre yang ada dalam keseluruhan dataset.\n",
        "\n",
        "Proses:\n",
        "\n",
        "Kumpulkan semua genre yang ada di film-film rekomendasi (baik lewat kolom genre_list atau genres).\n",
        "\n",
        "Hitung rasio genre yang muncul di rekomendasi dibanding total genre yang tersedia.\n",
        "\n",
        "Output:\n",
        "\n",
        "coverage: proporsi genre yang terwakili dalam rekomendasi (0 sampai 1).\n",
        "\n",
        "recommended_genres: set genre yang muncul dalam rekomendasi."
      ],
      "metadata": {
        "id": "T7D5ehB5yvyM"
      }
    },
    {
      "cell_type": "markdown",
      "source": [
        "##Evaluating system performance"
      ],
      "metadata": {
        "id": "aZadgCjUKjtu"
      }
    },
    {
      "cell_type": "code",
      "source": [
        "print(\"=== EVALUATING SYSTEM ===\")\n",
        "all_genres = set(mlb.classes_)\n",
        "personalization_scores = []\n",
        "coverage_scores = []\n",
        "\n",
        "sample_users = list(user_to_genre.keys())[:10]\n",
        "\n",
        "for user_id in sample_users:\n",
        "    recs = recommender.recommend_movies(user_id, n_recommendations=10)\n",
        "    if not recs.empty:\n",
        "        pers = evaluate_personalization(user_id, recs, user_to_genre, mlb.classes_)\n",
        "        cov, _ = calculate_genre_coverage(recs, all_genres)\n",
        "        personalization_scores.append(pers)\n",
        "        coverage_scores.append(cov)\n",
        "    else:\n",
        "        print(f\"[WARNING] User {user_id}: No recommendations found\")\n",
        "\n",
        "print(\"\\nEvaluation Results:\")\n",
        "print(f\"Average Personalization Score: {np.mean(personalization_scores):.3f}\")\n",
        "print(f\"Average Genre Coverage: {np.mean(coverage_scores):.3f}\")\n",
        "print(f\"Number of users evaluated: {len(personalization_scores)}\")"
      ],
      "metadata": {
        "colab": {
          "base_uri": "https://localhost:8080/",
          "height": 0
        },
        "id": "NbSN3kNYryzR",
        "outputId": "59a54480-261e-4c91-c636-0e35adb119f5"
      },
      "execution_count": 24,
      "outputs": [
        {
          "output_type": "stream",
          "name": "stdout",
          "text": [
            "=== EVALUATING SYSTEM ===\n",
            "\n",
            "Evaluation Results:\n",
            "Average Personalization Score: 0.543\n",
            "Average Genre Coverage: 0.693\n",
            "Number of users evaluated: 10\n"
          ]
        }
      ]
    },
    {
      "cell_type": "markdown",
      "source": [
        "Average Personalization Score: 0.543\n",
        "Rata-rata rekomendasi cukup sesuai dengan preferensi genre pengguna (nilai 0.5 ke atas berarti ada kesesuaian sedang).\n",
        "\n",
        "Average Genre Coverage: 0.693\n",
        "Rekomendasi mencakup sekitar 69,3% dari semua genre yang tersedia, menunjukkan keberagaman genre yang baik dalam hasil rekomendasi.\n",
        "\n",
        "Number of users evaluated: 10\n",
        "Evaluasi dilakukan pada 10 pengguna.\n",
        "\n"
      ],
      "metadata": {
        "id": "FMoK_9ai0J7Y"
      }
    },
    {
      "cell_type": "code",
      "source": [
        "\n",
        "plt.figure(figsize=(12, 5))\n",
        "plt.subplot(1, 2, 1)\n",
        "plt.hist(personalization_scores, bins=10, edgecolor='black')\n",
        "plt.title('Personalization Score Distribution')\n",
        "plt.xlabel('Personalization Score')\n",
        "plt.ylabel('Frequency')\n",
        "\n",
        "plt.subplot(1, 2, 2)\n",
        "plt.hist(coverage_scores, bins=10, edgecolor='black')\n",
        "plt.title('Genre Coverage Distribution')\n",
        "plt.xlabel('Coverage Score')\n",
        "plt.ylabel('Frequency')\n",
        "plt.tight_layout()\n",
        "plt.show()\n"
      ],
      "metadata": {
        "colab": {
          "base_uri": "https://localhost:8080/",
          "height": 527
        },
        "id": "z05WLqZ-KpiZ",
        "outputId": "47b63e45-8ce7-4847-d34b-83201ee700c1"
      },
      "execution_count": 25,
      "outputs": [
        {
          "output_type": "display_data",
          "data": {
            "text/plain": [
              "<Figure size 1200x500 with 2 Axes>"
            ],
            "image/png": "[encoded data removed]"
          },
          "metadata": {}
        }
      ]
    },
    {
      "cell_type": "markdown",
      "source": [
        "| Aspek           | Nilai                    | Interpretasi                                                                  |\n",
        "| --------------- | ------------------------ | ----------------------------------------------------------------------------- |\n",
        "| Personalization | Sedang (0.5–0.6 dominan) | Sistem cukup personal, tetapi masih bisa ditingkatkan untuk hasil lebih unik. |\n",
        "| Genre Coverage  | Baik (0.5–0.9)           | Rekomendasi menjangkau banyak genre, artinya tidak terlalu sempit.            |\n"
      ],
      "metadata": {
        "id": "E9rFGuXw0azJ"
      }
    }
  ]
}