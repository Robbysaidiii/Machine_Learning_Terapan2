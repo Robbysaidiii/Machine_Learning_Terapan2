{
  "nbformat": 4,
  "nbformat_minor": 0,
  "metadata": {
    "colab": {
      "provenance": [],
      "gpuType": "T4"
    },
    "kernelspec": {
      "name": "python3",
      "display_name": "Python 3"
    },
    "language_info": {
      "name": "python"
    },
    "accelerator": "GPU"
  },
  "cells": [
    {
      "cell_type": "markdown",
      "source": [
        "**Content based filtering**"
      ],
      "metadata": {
        "id": "W0zSBQrsp7C1"
      }
    },
    {
      "cell_type": "markdown",
      "source": [
        "# importlibrary"
      ],
      "metadata": {
        "id": "QDWdpxK4qFyP"
      }
    },
    {
      "cell_type": "code",
      "execution_count": 1,
      "metadata": {
        "colab": {
          "base_uri": "https://localhost:8080/",
          "height": 0
        },
        "id": "E4jof8flpr4w",
        "outputId": "333084cc-9754-415d-a9fd-748820684bb8"
      },
      "outputs": [
        {
          "output_type": "stream",
          "name": "stdout",
          "text": [
            "================================================================================\n",
            "SISTEM REKOMENDASI FILM - HYBRID APPROACH\n",
            "Content-Based + Collaborative Filtering\n",
            "================================================================================\n"
          ]
        }
      ],
      "source": [
        "import numpy as np\n",
        "import pandas as pd\n",
        "import matplotlib.pyplot as plt\n",
        "import seaborn as sns\n",
        "from sklearn.model_selection import train_test_split, KFold, GridSearchCV\n",
        "from sklearn.preprocessing import StandardScaler, MinMaxScaler, OneHotEncoder\n",
        "from sklearn.metrics import mean_squared_error, mean_absolute_error\n",
        "from sklearn.metrics.pairwise import cosine_similarity\n",
        "from sklearn.decomposition import TruncatedSVD\n",
        "from sklearn.dummy import DummyRegressor\n",
        "import tensorflow as tf\n",
        "from tensorflow.keras.models import Sequential, Model\n",
        "from tensorflow.keras.layers import Dense, Input, Dot, Concatenate, Dropout, BatchNormalization\n",
        "from tensorflow.keras.optimizers import Adam\n",
        "from tensorflow.keras.callbacks import EarlyStopping, ModelCheckpoint, ReduceLROnPlateau\n",
        "import pickle\n",
        "import zipfile\n",
        "import warnings\n",
        "import itertools\n",
        "from google.colab import drive\n",
        "import scipy.sparse as sp\n",
        "from scipy.sparse.linalg import svds\n",
        "import math\n",
        "from collections import defaultdict\n",
        "\n",
        "warnings.filterwarnings('ignore')\n",
        "pd.set_option('mode.chained_assignment', None)\n",
        "\n",
        "print(\"=\"*80)\n",
        "print(\"SISTEM REKOMENDASI FILM - HYBRID APPROACH\")\n",
        "print(\"Content-Based + Collaborative Filtering\")\n",
        "print(\"=\"*80)"
      ]
    },
    {
      "cell_type": "markdown",
      "source": [
        "Penjelasan:\n",
        "\n",
        "NumPy & Pandas: Untuk manipulasi data numerik dan dataframe\n",
        "Matplotlib & Seaborn: Untuk visualisasi data\n",
        "Scikit-learn: Untuk preprocessing, evaluasi model, dan algoritma machine learning\n",
        "TensorFlow/Keras: Untuk membangun neural network\n",
        "Scipy: Untuk operasi sparse matrix yang efisien"
      ],
      "metadata": {
        "id": "vq3Yyock7O-f"
      }
    },
    {
      "cell_type": "markdown",
      "source": [
        "#load datset"
      ],
      "metadata": {
        "id": "I84YTL6YqQ_G"
      }
    },
    {
      "cell_type": "code",
      "source": [
        "# Mount Google Drive\n",
        "drive.mount('/content/drive')\n",
        "\n",
        "# Extract dataset\n",
        "zip_path = '/content/drive/MyDrive/Content based filtering/archive (4).zip'\n",
        "extract_path = '/content/content_based_filtering'\n",
        "\n",
        "with zipfile.ZipFile(zip_path, 'r') as zip_ref:\n",
        "    zip_ref.extractall(extract_path)\n",
        "print(\"Dataset extracted successfully!\")\n",
        "\n",
        "# Define file paths\n",
        "csv_path = '/content/content_based_filtering/content_movie_list.csv'\n",
        "pickle_path = '/content/content_based_filtering/content_user_to_genre.pickle'\n",
        "header_path = '/content/content_based_filtering/content_user_train_header.txt'\n",
        "\n",
        "# Load data files\n",
        "movie_list = pd.read_csv(csv_path)\n",
        "\n",
        "# Load user header\n",
        "with open(header_path, 'r') as header:\n",
        "    for line in header:\n",
        "        user_header = line.strip().split(',')\n",
        "\n",
        "# Load user-genre preferences\n",
        "with open(pickle_path, 'rb') as f:\n",
        "    user_to_genre = pickle.load(f)\n",
        "\n",
        "print(\"Data loaded successfully!\")\n",
        "print(f\"Number of movies: {len(movie_list)}\")\n",
        "print(f\"Number of users: {len(user_to_genre)}\")"
      ],
      "metadata": {
        "colab": {
          "base_uri": "https://localhost:8080/",
          "height": 0
        },
        "id": "5Zb8qwDyqTF9",
        "outputId": "ad407838-61df-4b30-af39-f2465af7ca37"
      },
      "execution_count": 2,
      "outputs": [
        {
          "output_type": "stream",
          "name": "stdout",
          "text": [
            "Mounted at /content/drive\n",
            "Dataset extracted successfully!\n",
            "Data loaded successfully!\n",
            "Number of movies: 694\n",
            "Number of users: 395\n"
          ]
        }
      ]
    },
    {
      "cell_type": "markdown",
      "source": [
        "Yang dilakukan:\n",
        "\n",
        "Mount Google Drive untuk akses file\n",
        "Extract file ZIP berisi dataset\n",
        "Load 3 file utama:\n",
        "\n",
        "movie_list: Data film (694 film)\n",
        "user_to_genre: Preferensi genre user (395 user)\n",
        "user_header: Header kolom untuk data user\n",
        "\n",
        "\n",
        "\n",
        "Hasil: Dataset berhasil dimuat dengan 694 film dan 395 user."
      ],
      "metadata": {
        "id": "_ZRcbZtY7YSW"
      }
    },
    {
      "cell_type": "markdown",
      "source": [
        "# DATA UNDERSTANDING & EDA"
      ],
      "metadata": {
        "id": "28SGiXKT2sMg"
      }
    },
    {
      "cell_type": "code",
      "source": [
        "print(\"\\n\" + \"=\"*60)\n",
        "print(\"COMPREHENSIVE DATA UNDERSTANDING & ANALYSIS\")\n",
        "print(\"=\"*60)\n",
        "\n",
        "# Basic movie data exploration\n",
        "print(\"\\n=== MOVIE DATA OVERVIEW ===\")\n",
        "print(f\"Movie data shape: {movie_list.shape}\")\n",
        "print(f\"Movie columns: {movie_list.columns.tolist()}\")\n",
        "print(\"\\nSample movie data:\")\n",
        "print(movie_list.head())\n",
        "\n",
        "print(\"\\n=== USER DATA OVERVIEW ===\")\n",
        "print(f\"Number of users: {len(user_to_genre)}\")\n",
        "print(\"\\nSample user data structure (first user):\")\n",
        "# Print a sample entry from the defaultdict to show its structure\n",
        "if user_to_genre:\n",
        "    first_user_id = list(user_to_genre.keys())[0]\n",
        "    print(f\"User ID: {first_user_id}\")\n",
        "    print(user_to_genre[first_user_id])\n",
        ""
      ],
      "metadata": {
        "colab": {
          "base_uri": "https://localhost:8080/"
        },
        "id": "BvZkDdSg2wMQ",
        "outputId": "4c847509-6607-46a1-fdb8-5695c6ddefba"
      },
      "execution_count": 45,
      "outputs": [
        {
          "output_type": "stream",
          "name": "stdout",
          "text": [
            "\n",
            "============================================================\n",
            "COMPREHENSIVE DATA UNDERSTANDING & ANALYSIS\n",
            "============================================================\n",
            "\n",
            "=== MOVIE DATA OVERVIEW ===\n",
            "Movie data shape: (694, 6)\n",
            "Movie columns: ['movieId', 'title', 'genres', 'rating_variance', 'unique_users', 'avg_rating']\n",
            "\n",
            "Sample movie data:\n",
            "   movieId                                 title                  genres  \\\n",
            "0     4054            Save the Last Dance (2001)           Drama|Romance   \n",
            "1     4069           Wedding Planner, The (2001)          Comedy|Romance   \n",
            "2     4148                       Hannibal (2001)         Horror|Thriller   \n",
            "3     4149  Saving Silverman (Evil Woman) (2001)          Comedy|Romance   \n",
            "4     4153                  Down to Earth (2001)  Comedy|Fantasy|Romance   \n",
            "\n",
            "   rating_variance  unique_users  avg_rating  \n",
            "0         1.147461            16    2.843750  \n",
            "1         0.946281            22    2.909091  \n",
            "2         1.271532            39    2.935897  \n",
            "3         0.334711            11    2.772727  \n",
            "4         0.909722            12    2.416667  \n",
            "\n",
            "=== USER DATA OVERVIEW ===\n",
            "Number of users: 395\n",
            "\n",
            "Sample user data structure (first user):\n",
            "User ID: 2\n",
            "{'glist': array([[3.9  , 5.   , 0.   , 0.   , 4.   , 4.2  , 4.   , 4.   , 0.   ,\n",
            "        3.   , 4.   , 0.   , 4.25 , 3.875]]), 'g_count': array([[5., 1., 0., 0., 5., 5., 2., 9., 0., 1., 1., 0., 2., 8.]]), 'rating_count': 16, 'rating_sum': np.float64(65.0), 'movies': {np.int64(6874): np.float64(4.0), np.int64(8798): np.float64(3.5), np.int64(46970): np.float64(4.0), np.int64(48516): np.float64(4.0), np.int64(60756): np.float64(5.0), np.int64(71535): np.float64(3.0), np.int64(74458): np.float64(4.0), np.int64(77455): np.float64(3.0), np.int64(80489): np.float64(4.5), np.int64(80906): np.float64(5.0), np.int64(89774): np.float64(5.0), np.int64(91658): np.float64(2.5), np.int64(106782): np.float64(5.0), np.int64(112552): np.float64(4.0), np.int64(115713): np.float64(3.5), np.int64(122882): np.float64(5.0)}, 'rating_ave': np.float64(4.0625)}\n"
          ]
        }
      ]
    },
    {
      "cell_type": "code",
      "source": [
        "# Genre analysis\n",
        "print(\"\\n=== GENRE ANALYSIS ===\")\n",
        "all_genres = set()\n",
        "genre_counts = defaultdict(int)\n",
        "\n",
        "for genres in movie_list['genres']:\n",
        "    genre_list = genres.split('|')\n",
        "    all_genres.update(genre_list)\n",
        "    for genre in genre_list:\n",
        "        genre_counts[genre] += 1\n",
        "\n",
        "print(f\"Total unique genres: {len(all_genres)}\")\n",
        "print(f\"All genres: {sorted(all_genres)}\")"
      ],
      "metadata": {
        "colab": {
          "base_uri": "https://localhost:8080/",
          "height": 0
        },
        "id": "WE4uwuiQPoY_",
        "outputId": "66d214a9-f915-4c4d-9c0b-0ce9158c865a"
      },
      "execution_count": 4,
      "outputs": [
        {
          "output_type": "stream",
          "name": "stdout",
          "text": [
            "\n",
            "=== GENRE ANALYSIS ===\n",
            "Total unique genres: 14\n",
            "All genres: ['Action', 'Adventure', 'Animation', 'Children', 'Comedy', 'Crime', 'Documentary', 'Drama', 'Fantasy', 'Horror', 'Mystery', 'Romance', 'Sci-Fi', 'Thriller']\n"
          ]
        }
      ]
    },
    {
      "cell_type": "code",
      "source": [
        "# Visualize genre distribution\n",
        "plt.figure(figsize=(12, 6))\n",
        "genres_df = pd.DataFrame(list(genre_counts.items()), columns=['Genre', 'Count'])\n",
        "genres_df = genres_df.sort_values('Count', ascending=False)\n",
        "\n",
        "plt.subplot(1, 2, 1)\n",
        "plt.bar(genres_df['Genre'], genres_df['Count'])\n",
        "plt.title('Genre Distribution')\n",
        "plt.xticks(rotation=45)\n",
        "plt.tight_layout()\n",
        "\n",
        "plt.subplot(1, 2, 2)\n",
        "plt.pie(genres_df['Count'], labels=genres_df['Genre'], autopct='%1.1f%%')\n",
        "plt.title('Genre Distribution (Pie Chart)')\n",
        "plt.tight_layout()\n",
        "plt.show()\n"
      ],
      "metadata": {
        "colab": {
          "base_uri": "https://localhost:8080/",
          "height": 497
        },
        "id": "-26dnPZ4PtbW",
        "outputId": "2c829dcf-fa47-4055-dd72-902f6cd74247"
      },
      "execution_count": 5,
      "outputs": [
        {
          "output_type": "display_data",
          "data": {
            "text/plain": [
              "<Figure size 1200x600 with 2 Axes>"
            ],
            "image/png": "[encoded data removed]"
          },
          "metadata": {}
        }
      ]
    },
    {
      "cell_type": "code",
      "source": [
        "# User data analysis\n",
        "print(\"\\n=== USER DATA ANALYSIS ===\")\n",
        "print(f\"User header structure: {user_header}\")\n",
        "print(f\"Total users: {len(user_to_genre)}\")\n",
        "\n",
        "# Analyze user rating patterns\n",
        "user_stats = []\n",
        "for user_id, user_data in user_to_genre.items():\n",
        "    user_stats.append({\n",
        "        'user_id': user_id,\n",
        "        'rating_count': user_data['rating_count'],\n",
        "        'rating_avg': user_data['rating_ave'],\n",
        "        'num_movies': len(user_data['movies'])\n",
        "    })\n",
        "user_stats_df = pd.DataFrame(user_stats)\n"
      ],
      "metadata": {
        "colab": {
          "base_uri": "https://localhost:8080/",
          "height": 0
        },
        "id": "Jffb_5YsPyug",
        "outputId": "f753c283-ecec-4022-f949-3ea9a10988a1"
      },
      "execution_count": 6,
      "outputs": [
        {
          "output_type": "stream",
          "name": "stdout",
          "text": [
            "\n",
            "=== USER DATA ANALYSIS ===\n",
            "User header structure: ['user id', 'rating count', 'rating ave', 'Action', 'Adventure', 'Animation', 'Children', 'Comedy', 'Crime', 'Documentary', 'Drama', 'Fantasy', 'Horror', 'Mystery', 'Romance', 'Sci-Fi', 'Thriller']\n",
            "Total users: 395\n"
          ]
        }
      ]
    },
    {
      "cell_type": "code",
      "source": [
        "# User statistics visualization\n",
        "fig, axes = plt.subplots(2, 2, figsize=(15, 10))\n",
        "\n",
        "axes[0, 0].hist(user_stats_df['rating_count'], bins=30, alpha=0.7)\n",
        "axes[0, 0].set_title('Distribution of User Rating Counts')\n",
        "axes[0, 0].set_xlabel('Rating Count')\n",
        "axes[0, 0].set_ylabel('Frequency')\n",
        "\n",
        "axes[0, 1].hist(user_stats_df['rating_avg'], bins=30, alpha=0.7)\n",
        "axes[0, 1].set_title('Distribution of User Average Ratings')\n",
        "axes[0, 1].set_xlabel('Average Rating')\n",
        "axes[0, 1].set_ylabel('Frequency')\n",
        "\n",
        "axes[1, 0].scatter(user_stats_df['rating_count'], user_stats_df['rating_avg'], alpha=0.6)\n",
        "axes[1, 0].set_title('Rating Count vs Average Rating')\n",
        "axes[1, 0].set_xlabel('Rating Count')\n",
        "axes[1, 0].set_ylabel('Average Rating')\n",
        "\n",
        "axes[1, 1].hist(user_stats_df['num_movies'], bins=30, alpha=0.7)\n",
        "axes[1, 1].set_title('Distribution of Movies per User')\n",
        "axes[1, 1].set_xlabel('Number of Movies')\n",
        "axes[1, 1].set_ylabel('Frequency')\n",
        "\n",
        "plt.tight_layout()\n",
        "plt.show()\n",
        "\n",
        "print(f\"User statistics summary:\")\n",
        "print(user_stats_df.describe())\n"
      ],
      "metadata": {
        "colab": {
          "base_uri": "https://localhost:8080/",
          "height": 1000
        },
        "id": "wKfIOA0-P3qx",
        "outputId": "8f864705-c2e0-4320-cf05-06845d75bf9b"
      },
      "execution_count": 7,
      "outputs": [
        {
          "output_type": "display_data",
          "data": {
            "text/plain": [
              "<Figure size 1500x1000 with 4 Axes>"
            ],
            "image/png": "[encoded data removed]"
          },
          "metadata": {}
        },
        {
          "output_type": "stream",
          "name": "stdout",
          "text": [
            "User statistics summary:\n",
            "          user_id  rating_count  rating_avg  num_movies\n",
            "count  395.000000    395.000000  395.000000  395.000000\n",
            "mean   309.346835     51.144304    3.747147   51.144304\n",
            "std    174.181315     73.048151    0.591190   73.048151\n",
            "min      2.000000      1.000000    0.500000    1.000000\n",
            "25%    160.500000      9.000000    3.435855    9.000000\n",
            "50%    313.000000     23.000000    3.800000   23.000000\n",
            "75%    460.500000     61.500000    4.117127   61.500000\n",
            "max    610.000000    510.000000    5.000000  510.000000\n"
          ]
        }
      ]
    },
    {
      "cell_type": "markdown",
      "source": [
        "- Data Understanding & EDA\n",
        "a. Eksplorasi Data Dasar\n",
        "Menampilkan informasi dasar tentang data film (shape, kolom, sample data)\n",
        "\n",
        "Menampilkan struktur data user (contoh entry pertama)\n",
        "\n",
        "b. Analisis Genre\n",
        "Mengidentifikasi 14 genre unik dari data film:\n",
        "['Action', 'Adventure', 'Animation', 'Children', 'Comedy', 'Crime', 'Documentary', 'Drama', 'Fantasy', 'Horror', 'Mystery', 'Romance', 'Sci-Fi', 'Thriller']\n",
        "\n",
        "c. Visualisasi Distribusi Genre\n",
        "Menampilkan dua visualisasi:\n",
        "\n",
        "Bar Chart: Distribusi jumlah film per genre\n",
        "\n",
        "Pie Chart: Persentase film per genre\n",
        "\n",
        "Hasil visual menunjukkan bahwa genre Drama dan Comedy mendominasi dataset film, sementara genre seperti Documentary dan Fantasy memiliki representasi yang lebih kecil.\n",
        "\n",
        "-  Data Understanding & Analysis\n",
        "a. Overview Data Film\n",
        "Shape: (694, 6) - 694 film dengan 6 atribut\n",
        "\n",
        "Kolom: ['movieId', 'title', 'genres', 'rating_variance', 'unique_users', 'avg_rating']\n",
        "\n",
        "Contoh data film menunjukkan informasi seperti judul, genre, variasi rating, jumlah user unik, dan rating rata-rata\n",
        "\n",
        "b. Overview Data User\n",
        "Jumlah user: 395\n",
        "\n",
        "Struktur data user mencakup preferensi genre, jumlah rating, total rating, daftar film yang dirating, dan rating rata-rata"
      ],
      "metadata": {
        "id": "RXQfMIlS7mTh"
      }
    },
    {
      "cell_type": "markdown",
      "source": [
        "#ADVANCED DATA PREPARATION"
      ],
      "metadata": {
        "id": "yNQaFIYtZUnY"
      }
    },
    {
      "cell_type": "code",
      "source": [
        "print(\"\\n\" + \"=\"*60)\n",
        "print(\"ADVANCED DATA PREPARATION\")\n",
        "print(\"=\"*60)"
      ],
      "metadata": {
        "colab": {
          "base_uri": "https://localhost:8080/",
          "height": 0
        },
        "id": "8p6sTrioaywu",
        "outputId": "417c194f-4527-4942-a3ed-e8726775dbd4"
      },
      "execution_count": 8,
      "outputs": [
        {
          "output_type": "stream",
          "name": "stdout",
          "text": [
            "\n",
            "============================================================\n",
            "ADVANCED DATA PREPARATION\n",
            "============================================================\n"
          ]
        }
      ]
    },
    {
      "cell_type": "markdown",
      "source": [
        "#Calculate"
      ],
      "metadata": {
        "id": "udkupZGoat_r"
      }
    },
    {
      "cell_type": "code",
      "source": [
        "# Calculate comprehensive movie statistics\n",
        "print(\"\\n=== CALCULATING MOVIE STATISTICS ===\")\n",
        "movie_list['total_rating_sum'] = 0\n",
        "movie_list['total_rating_count'] = 0\n",
        "movie_list['rating_variance'] = 0\n",
        "movie_list['unique_users'] = 0\n",
        "\n",
        "movie_ratings = defaultdict(list)"
      ],
      "metadata": {
        "colab": {
          "base_uri": "https://localhost:8080/",
          "height": 0
        },
        "id": "tHj6zzgTa3Th",
        "outputId": "a1e3e050-0654-4067-c2c2-ddffb3bfb6a2"
      },
      "execution_count": 9,
      "outputs": [
        {
          "output_type": "stream",
          "name": "stdout",
          "text": [
            "\n",
            "=== CALCULATING MOVIE STATISTICS ===\n"
          ]
        }
      ]
    },
    {
      "cell_type": "code",
      "source": [
        "# Calculate detailed movie statistics\n",
        "for user_id in user_to_genre:\n",
        "    user_movies = user_to_genre[user_id]['movies']\n",
        "    for movie_id, rating in user_movies.items():\n",
        "        movie_ratings[movie_id].append(rating)\n",
        "\n",
        "        # Update movie statistics\n",
        "        mask = movie_list['movieId'] == movie_id\n",
        "        movie_list.loc[mask, 'total_rating_sum'] += rating\n",
        "        movie_list.loc[mask, 'total_rating_count'] += 1"
      ],
      "metadata": {
        "id": "rrJzK3Rra7M8"
      },
      "execution_count": 10,
      "outputs": []
    },
    {
      "cell_type": "code",
      "source": [
        "# Calculate averages and variances\n",
        "for idx, row in movie_list.iterrows():\n",
        "    movie_id = row['movieId']\n",
        "    if movie_id in movie_ratings:\n",
        "        ratings = movie_ratings[movie_id]\n",
        "        movie_list.loc[idx, 'avg_rating'] = np.mean(ratings)\n",
        "        movie_list.loc[idx, 'rating_variance'] = np.var(ratings)\n",
        "        movie_list.loc[idx, 'unique_users'] = len(ratings)\n",
        "    else:\n",
        "        movie_list.loc[idx, 'avg_rating'] = 0\n",
        "        movie_list.loc[idx, 'rating_variance'] = 0\n",
        "        movie_list.loc[idx, 'unique_users'] = 0\n"
      ],
      "metadata": {
        "id": "R4xvctSVa-ln"
      },
      "execution_count": 11,
      "outputs": []
    },
    {
      "cell_type": "markdown",
      "source": [
        "## Clean up temporary columns"
      ],
      "metadata": {
        "id": "WQPpLQomb6Ym"
      }
    },
    {
      "cell_type": "code",
      "source": [
        "\n",
        "movie_list.drop(['total_rating_sum', 'total_rating_count'], axis=1, inplace=True)\n",
        "\n",
        "print(\"Movie statistics calculated!\")\n",
        "print(movie_list[['movieId', 'title', 'avg_rating', 'rating_variance', 'unique_users']].head())\n"
      ],
      "metadata": {
        "colab": {
          "base_uri": "https://localhost:8080/",
          "height": 0
        },
        "id": "8ciUySUgbHxD",
        "outputId": "84638dfc-bd77-47c3-e0a8-b925af506fe7"
      },
      "execution_count": 12,
      "outputs": [
        {
          "output_type": "stream",
          "name": "stdout",
          "text": [
            "Movie statistics calculated!\n",
            "   movieId                                 title  avg_rating  rating_variance  \\\n",
            "0     4054            Save the Last Dance (2001)    2.843750         1.147461   \n",
            "1     4069           Wedding Planner, The (2001)    2.909091         0.946281   \n",
            "2     4148                       Hannibal (2001)    2.935897         1.271532   \n",
            "3     4149  Saving Silverman (Evil Woman) (2001)    2.772727         0.334711   \n",
            "4     4153                  Down to Earth (2001)    2.416667         0.909722   \n",
            "\n",
            "   unique_users  \n",
            "0            16  \n",
            "1            22  \n",
            "2            39  \n",
            "3            11  \n",
            "4            12  \n"
          ]
        }
      ]
    },
    {
      "cell_type": "markdown",
      "source": [
        "### Split genres and create expanded dataset"
      ],
      "metadata": {
        "id": "nkgJjqy9btRV"
      }
    },
    {
      "cell_type": "code",
      "source": [
        "\n",
        "data_list = []\n",
        "for row in movie_list.values:\n",
        "    categories = row[2].split('|')  # genres column\n",
        "    for category in categories:\n",
        "        # Extract year more robustly\n",
        "        title = row[1]\n",
        "        year = 2000  # default\n",
        "        if '(' in title and ')' in title:\n",
        "            try:\n",
        "                year_str = title[title.rfind('(')+1:title.rfind(')')]\n",
        "                if year_str.isdigit() and len(year_str) == 4:\n",
        "                    year = int(year_str)\n",
        "            except:\n",
        "                year = 2000\n",
        "\n",
        "        data_list.append({\n",
        "            'movieId': row[0],\n",
        "            'year': year,\n",
        "            'avg_rating': row[3],\n",
        "            'rating_variance': row[4],\n",
        "            'unique_users': row[5],\n",
        "            'title': title,\n",
        "            'genres': category,\n",
        "            'decade': (year // 10) * 10,\n",
        "            'is_recent': 1 if year >= 2000 else 0,\n",
        "            'popularity_score': row[5] * row[3]  # users * avg_rating\n",
        "        })\n"
      ],
      "metadata": {
        "id": "98jwruatZWCG"
      },
      "execution_count": 13,
      "outputs": []
    },
    {
      "cell_type": "markdown",
      "source": [
        "##Create expanded movie dataframe"
      ],
      "metadata": {
        "id": "-FanXRoibyI7"
      }
    },
    {
      "cell_type": "code",
      "source": [
        "my_item_vec = pd.DataFrame(data_list)\n",
        "my_item_vec['movieId'] = my_item_vec['movieId'].astype(int)\n",
        "\n",
        "print(f\"Genre expansion completed!\")\n",
        "print(f\"Original movies: {len(movie_list)}, Expanded rows: {len(my_item_vec)}\")\n",
        "\n",
        "\n"
      ],
      "metadata": {
        "colab": {
          "base_uri": "https://localhost:8080/",
          "height": 0
        },
        "id": "woMF22YTb2ey",
        "outputId": "e57af7f1-d994-4794-b820-24b2d379ae52"
      },
      "execution_count": 14,
      "outputs": [
        {
          "output_type": "stream",
          "name": "stdout",
          "text": [
            "Genre expansion completed!\n",
            "Original movies: 694, Expanded rows: 1883\n"
          ]
        }
      ]
    },
    {
      "cell_type": "markdown",
      "source": [
        "##one-hot encode"
      ],
      "metadata": {
        "id": "9hR-gOtBbRDX"
      }
    },
    {
      "cell_type": "code",
      "source": [
        "# One-hot encode genres with additional features\n",
        "print(\"\\n=== ENHANCED ONE-HOT ENCODING ===\")\n",
        "ohe_categories = OneHotEncoder(handle_unknown='ignore')\n",
        "encoded_genres = ohe_categories.fit_transform(my_item_vec['genres'].to_numpy().reshape(-1, 1))\n"
      ],
      "metadata": {
        "colab": {
          "base_uri": "https://localhost:8080/",
          "height": 0
        },
        "id": "3yVVphENbUf8",
        "outputId": "16d38037-aa4e-477a-e24c-ae02eb495911"
      },
      "execution_count": 15,
      "outputs": [
        {
          "output_type": "stream",
          "name": "stdout",
          "text": [
            "\n",
            "=== ENHANCED ONE-HOT ENCODING ===\n"
          ]
        }
      ]
    },
    {
      "cell_type": "markdown",
      "source": [
        "##Create genre feature dataframe\n"
      ],
      "metadata": {
        "id": "NfVTHTFJba0l"
      }
    },
    {
      "cell_type": "code",
      "source": [
        "\n",
        "genre_features = pd.DataFrame(\n",
        "    encoded_genres.toarray(),\n",
        "    columns=[col.replace('x0_', '') for col in ohe_categories.get_feature_names_out()]\n",
        ")\n"
      ],
      "metadata": {
        "id": "ytyjay9fbd-1"
      },
      "execution_count": 16,
      "outputs": []
    },
    {
      "cell_type": "markdown",
      "source": [
        "### Combine all features"
      ],
      "metadata": {
        "id": "NWiwM-u9bjiC"
      }
    },
    {
      "cell_type": "code",
      "source": [
        "my_item_vec = pd.concat([my_item_vec, genre_features], axis=1)\n",
        "my_item_vec.drop(['title', 'genres'], axis=1, inplace=True)\n",
        "\n",
        "print(\"Enhanced feature engineering completed!\")\n",
        "print(f\"Final feature columns: {my_item_vec.columns.tolist()}\")\n"
      ],
      "metadata": {
        "colab": {
          "base_uri": "https://localhost:8080/",
          "height": 0
        },
        "id": "4yebOhJWbmdI",
        "outputId": "312d815d-69b6-4d8d-d9ec-66c6fa8c1956"
      },
      "execution_count": 17,
      "outputs": [
        {
          "output_type": "stream",
          "name": "stdout",
          "text": [
            "Enhanced feature engineering completed!\n",
            "Final feature columns: ['movieId', 'year', 'avg_rating', 'rating_variance', 'unique_users', 'decade', 'is_recent', 'popularity_score', 'Action', 'Adventure', 'Animation', 'Children', 'Comedy', 'Crime', 'Documentary', 'Drama', 'Fantasy', 'Horror', 'Mystery', 'Romance', 'Sci-Fi', 'Thriller']\n"
          ]
        }
      ]
    },
    {
      "cell_type": "markdown",
      "source": [
        "# CREATE USER-ITEM MATRIX FOR COLLABORATIVE FILTERING"
      ],
      "metadata": {
        "id": "Fq495cHycE6z"
      }
    },
    {
      "cell_type": "code",
      "source": [
        "print(\"\\n\" + \"=\"*60)\n",
        "print(\"COLLABORATIVE FILTERING PREPARATION\")\n",
        "print(\"=\"*60)\n"
      ],
      "metadata": {
        "colab": {
          "base_uri": "https://localhost:8080/",
          "height": 0
        },
        "id": "_6poc2mmcSA8",
        "outputId": "d1780a64-9cf5-404a-db3a-897a2ec3edca"
      },
      "execution_count": 18,
      "outputs": [
        {
          "output_type": "stream",
          "name": "stdout",
          "text": [
            "\n",
            "============================================================\n",
            "COLLABORATIVE FILTERING PREPARATION\n",
            "============================================================\n"
          ]
        }
      ]
    },
    {
      "cell_type": "code",
      "source": [
        "\n",
        "# Create user-item matrix\n",
        "print(\"\\n=== CREATING USER-ITEM MATRIX ===\")\n",
        "user_item_matrix = defaultdict(lambda: defaultdict(float))\n",
        "all_movie_ids = set()\n",
        "all_user_ids = set()\n",
        "\n",
        "for user_id, user_data in user_to_genre.items():\n",
        "    all_user_ids.add(user_id)\n",
        "    for movie_id, rating in user_data['movies'].items():\n",
        "        user_item_matrix[user_id][movie_id] = rating\n",
        "        all_movie_ids.add(movie_id)\n"
      ],
      "metadata": {
        "colab": {
          "base_uri": "https://localhost:8080/",
          "height": 0
        },
        "id": "vP4KOTH7cF9t",
        "outputId": "2a263d3b-291f-4ae0-bde8-9feddc076cfe"
      },
      "execution_count": 19,
      "outputs": [
        {
          "output_type": "stream",
          "name": "stdout",
          "text": [
            "\n",
            "=== CREATING USER-ITEM MATRIX ===\n"
          ]
        }
      ]
    },
    {
      "cell_type": "code",
      "source": [
        "# Convert to pandas DataFrame\n",
        "user_item_df = pd.DataFrame(user_item_matrix).T.fillna(0)\n",
        "print(f\"User-item matrix shape: {user_item_df.shape}\")\n",
        "\n",
        "# Create sparse matrix for memory efficiency\n",
        "sparse_user_item = sp.csr_matrix(user_item_df.values)\n",
        "print(f\"Sparse matrix density: {sparse_user_item.nnz / (sparse_user_item.shape[0] * sparse_user_item.shape[1]):.4f}\")\n"
      ],
      "metadata": {
        "colab": {
          "base_uri": "https://localhost:8080/",
          "height": 0
        },
        "id": "GKAte3-LcPpt",
        "outputId": "5feb590d-8b54-449a-fae3-123ff1e9a0c3"
      },
      "execution_count": 20,
      "outputs": [
        {
          "output_type": "stream",
          "name": "stdout",
          "text": [
            "User-item matrix shape: (395, 694)\n",
            "Sparse matrix density: 0.0737\n"
          ]
        }
      ]
    },
    {
      "cell_type": "markdown",
      "source": [
        "#COLLABORATIVE FILTERING IMPLEMENTATIONS"
      ],
      "metadata": {
        "id": "18l0njMIcWRh"
      }
    },
    {
      "cell_type": "code",
      "source": [
        "print(\"\\n\" + \"=\"*60)\n",
        "print(\"COLLABORATIVE FILTERING MODELS\")\n",
        "print(\"=\"*60)\n"
      ],
      "metadata": {
        "colab": {
          "base_uri": "https://localhost:8080/",
          "height": 0
        },
        "id": "Xq2RokKPcakh",
        "outputId": "c0e59c6d-5547-4a4f-a0f9-47bc07bd20e9"
      },
      "execution_count": 21,
      "outputs": [
        {
          "output_type": "stream",
          "name": "stdout",
          "text": [
            "\n",
            "============================================================\n",
            "COLLABORATIVE FILTERING MODELS\n",
            "============================================================\n"
          ]
        }
      ]
    },
    {
      "cell_type": "code",
      "source": [
        "class CollaborativeFiltering:\n",
        "    def __init__(self, user_item_matrix):\n",
        "        self.user_item_matrix = user_item_matrix\n",
        "        self.user_similarity = None\n",
        "        self.item_similarity = None\n",
        "        self.svd_model = None\n",
        "\n",
        "    def fit_user_based(self):\n",
        "        \"\"\"User-based collaborative filtering\"\"\"\n",
        "        print(\"Training User-Based Collaborative Filtering...\")\n",
        "        # Calculate user similarity\n",
        "        self.user_similarity = cosine_similarity(self.user_item_matrix)\n",
        "        print(\"User-based model trained!\")\n",
        "\n",
        "    def fit_item_based(self):\n",
        "        \"\"\"Item-based collaborative filtering\"\"\"\n",
        "        print(\"Training Item-Based Collaborative Filtering...\")\n",
        "        # Calculate item similarity\n",
        "        self.item_similarity = cosine_similarity(self.user_item_matrix.T)\n",
        "        print(\"Item-based model trained!\")\n",
        "\n",
        "    def fit_matrix_factorization(self, n_components=50):\n",
        "        \"\"\"Matrix factorization using SVD\"\"\"\n",
        "        print(f\"Training Matrix Factorization (SVD) with {n_components} components...\")\n",
        "# Use sparse SVD for better performance\n",
        "        sparse_matrix = sp.csr_matrix(self.user_item_matrix)\n",
        "        U, sigma, Vt = svds(sparse_matrix, k=n_components)\n",
        "\n",
        "        # Reconstruct the matrix\n",
        "        self.svd_model = {\n",
        "            'U': U,\n",
        "            'sigma': np.diag(sigma),\n",
        "            'Vt': Vt,\n",
        "            'n_components': n_components\n",
        "        }\n",
        "        print(\"Matrix factorization model trained!\")\n",
        "\n",
        "    def predict_user_based(self, user_idx, item_idx, k=10):\n",
        "        \"\"\"Predict rating using user-based CF\"\"\"\n",
        "        if self.user_similarity is None:\n",
        "            self.fit_user_based()\n",
        "\n",
        "        # Find k most similar users\n",
        "        user_similarities = self.user_similarity[user_idx]\n",
        "        similar_users = np.argsort(user_similarities)[::-1][1:k+1]\n",
        "\n",
        "        # Calculate weighted average\n",
        "        numerator = 0\n",
        "        denominator = 0\n",
        "\n",
        "        for similar_user in similar_users:\n",
        "            similarity = user_similarities[similar_user]\n",
        "            rating = self.user_item_matrix.iloc[similar_user, item_idx]\n",
        "\n",
        "            if rating > 0:  # Only consider rated items\n",
        "                numerator += similarity * rating\n",
        "                denominator += similarity\n",
        "\n",
        "        if denominator > 0:\n",
        "            return numerator / denominator\n",
        "        else:\n",
        "            return self.user_item_matrix.mean().mean()  # Global average\n",
        "\n",
        "    def predict_matrix_factorization(self, user_idx, item_idx):\n",
        "        \"\"\"Predict rating using matrix factorization\"\"\"\n",
        "        if self.svd_model is None:\n",
        "            self.fit_matrix_factorization()\n",
        "\n",
        "        U = self.svd_model['U']\n",
        "        sigma = self.svd_model['sigma']\n",
        "        Vt = self.svd_model['Vt']\n",
        "\n",
        "        # Reconstruct rating\n",
        "        user_vector = U[user_idx, :]\n",
        "        item_vector = Vt[:, item_idx]\n",
        "\n",
        "        prediction = np.dot(user_vector, np.dot(sigma, item_vector))\n",
        "        return prediction\n",
        "\n",
        "# Initialize collaborative filtering\n",
        "cf_model = CollaborativeFiltering(user_item_df)\n",
        "cf_model.fit_user_based()\n",
        "cf_model.fit_item_based()\n",
        "cf_model.fit_matrix_factorization(n_components=30)\n"
      ],
      "metadata": {
        "colab": {
          "base_uri": "https://localhost:8080/",
          "height": 0
        },
        "id": "PcXGwH-ucYR7",
        "outputId": "a637471e-de73-4e67-cb7b-5794e5024033"
      },
      "execution_count": 22,
      "outputs": [
        {
          "output_type": "stream",
          "name": "stdout",
          "text": [
            "Training User-Based Collaborative Filtering...\n",
            "User-based model trained!\n",
            "Training Item-Based Collaborative Filtering...\n",
            "Item-based model trained!\n",
            "Training Matrix Factorization (SVD) with 30 components...\n",
            "Matrix factorization model trained!\n"
          ]
        }
      ]
    },
    {
      "cell_type": "markdown",
      "source": [
        "# CONTENT-BASED NEURAL NETWORK (ENHANCED)"
      ],
      "metadata": {
        "id": "EjA-bMtzc6kC"
      }
    },
    {
      "cell_type": "code",
      "source": [
        "print(\"\\n\" + \"=\"*60)\n",
        "print(\"ENHANCED CONTENT-BASED NEURAL NETWORK\")\n",
        "print(\"=\"*60)\n"
      ],
      "metadata": {
        "colab": {
          "base_uri": "https://localhost:8080/",
          "height": 0
        },
        "id": "akkWcr1Zc8K1",
        "outputId": "b7b507ac-faac-4140-8256-94e1610b86e7"
      },
      "execution_count": 23,
      "outputs": [
        {
          "output_type": "stream",
          "name": "stdout",
          "text": [
            "\n",
            "============================================================\n",
            "ENHANCED CONTENT-BASED NEURAL NETWORK\n",
            "============================================================\n"
          ]
        }
      ]
    },
    {
      "cell_type": "code",
      "source": [
        "# Create comprehensive training data\n",
        "print(\"\\n=== CREATING COMPREHENSIVE TRAINING DATA ===\")\n",
        "users_data = pd.DataFrame([], columns=user_header)\n",
        "items_data = pd.DataFrame([], columns=my_item_vec.columns)\n",
        "ratings_data = pd.DataFrame([])\n",
        "\n",
        "# Create training samples with enhanced features\n",
        "for user_id in user_to_genre:\n",
        "    user_data = user_to_genre[user_id]\n",
        "    movie_dict = user_data['movies']\n",
        "\n",
        "    # Get movie features for this user's rated movies\n",
        "    user_movies = my_item_vec[my_item_vec['movieId'].isin(movie_dict)].reset_index(drop=True)\n",
        "\n",
        "    if len(user_movies) == 0:\n",
        "        continue\n",
        "\n",
        "    # Get corresponding ratings\n",
        "    user_ratings = user_movies['movieId'].apply(lambda mid: movie_dict[mid])\n",
        "\n",
        "    # Add to training data\n",
        "    items_data = pd.concat([items_data, user_movies], axis=0, ignore_index=True)\n",
        "    ratings_data = pd.concat([ratings_data, user_ratings], axis=0, ignore_index=True)\n",
        "\n",
        "    # Create enhanced user feature vector\n",
        "    user_features = np.array([[\n",
        "        user_id,\n",
        "        user_data['rating_count'],\n",
        "        user_data['rating_ave']\n",
        "    ] + user_data['glist'][0].tolist()])\n",
        "\n",
        "    # Repeat user features for each movie they rated\n",
        "    num_movies = user_movies.shape[0]\n",
        "    user_features_repeated = np.tile(user_features, (num_movies, 1))\n",
        "\n",
        "    # Add to user training data\n",
        "    users_data = pd.concat([\n",
        "        users_data,\n",
        "        pd.DataFrame(user_features_repeated, columns=user_header)\n",
        "    ], axis=0, ignore_index=True)\n",
        "\n",
        "print(f\"Enhanced training data created!\")\n",
        "print(f\"Training samples: {len(users_data)}\")\n",
        "print(f\"User features: {users_data.columns.tolist()}\")\n",
        "print(f\"Item features: {items_data.columns.tolist()}\")\n"
      ],
      "metadata": {
        "colab": {
          "base_uri": "https://localhost:8080/",
          "height": 0
        },
        "id": "B-6nW-8bc_PB",
        "outputId": "6f741257-8ade-48ce-e360-83234eba5218"
      },
      "execution_count": 24,
      "outputs": [
        {
          "output_type": "stream",
          "name": "stdout",
          "text": [
            "\n",
            "=== CREATING COMPREHENSIVE TRAINING DATA ===\n",
            "Enhanced training data created!\n",
            "Training samples: 58187\n",
            "User features: ['user id', 'rating count', 'rating ave', 'Action', 'Adventure', 'Animation', 'Children', 'Comedy', 'Crime', 'Documentary', 'Drama', 'Fantasy', 'Horror', 'Mystery', 'Romance', 'Sci-Fi', 'Thriller']\n",
            "Item features: ['movieId', 'year', 'avg_rating', 'rating_variance', 'unique_users', 'decade', 'is_recent', 'popularity_score', 'Action', 'Adventure', 'Animation', 'Children', 'Comedy', 'Crime', 'Documentary', 'Drama', 'Fantasy', 'Horror', 'Mystery', 'Romance', 'Sci-Fi', 'Thriller']\n"
          ]
        }
      ]
    },
    {
      "cell_type": "markdown",
      "source": [
        "# FEATURE ENGINEERING & PREPROCESSING"
      ],
      "metadata": {
        "id": "QzVCh_H8dJZK"
      }
    },
    {
      "cell_type": "code",
      "source": [
        "# Define feature sets\n",
        "user_features = [col for col in users_data.columns if col not in ['user id', 'rating count']]\n",
        "item_features = [col for col in items_data.columns if col not in ['movieId']]\n",
        "\n",
        "num_user_features = len(user_features)\n",
        "num_item_features = len(item_features)\n",
        "\n",
        "print(f'User features ({num_user_features}): {user_features}')\n",
        "print(f'Item features ({num_item_features}): {item_features}')\n",
        "\n",
        "# Advanced data scaling with multiple techniques\n",
        "scaledata = True\n",
        "if scaledata:\n",
        "    # Save original data\n",
        "    item_train_save = items_data.copy()\n",
        "    user_train_save = users_data.copy()\n",
        "\n",
        "    # Scale features using different techniques\n",
        "    scaler_items = StandardScaler()\n",
        "    items_scaled = pd.DataFrame(\n",
        "        scaler_items.fit_transform(items_data),\n",
        "        columns=items_data.columns\n",
        "    )\n",
        "\n",
        "    scaler_users = StandardScaler()\n",
        "    users_scaled = pd.DataFrame(\n",
        "        scaler_users.fit_transform(users_data),\n",
        "        columns=users_data.columns\n",
        "    )\n",
        "\n",
        "    # Apply additional normalization for neural network\n",
        "    min_max_scaler_items = MinMaxScaler()\n",
        "    items_normalized = pd.DataFrame(\n",
        "        min_max_scaler_items.fit_transform(items_scaled),\n",
        "        columns=items_scaled.columns\n",
        "    )\n",
        "\n",
        "    min_max_scaler_users = MinMaxScaler()\n",
        "    users_normalized = pd.DataFrame(\n",
        "        min_max_scaler_users.fit_transform(users_scaled),\n",
        "        columns=users_scaled.columns\n",
        "    )\n",
        "else:\n",
        "    items_normalized = items_data.copy()\n",
        "    users_normalized = users_data.copy()"
      ],
      "metadata": {
        "colab": {
          "base_uri": "https://localhost:8080/",
          "height": 0
        },
        "id": "tWRZR8sodNjs",
        "outputId": "f600ee17-7b2c-4229-d24b-3c01c6e17657"
      },
      "execution_count": 25,
      "outputs": [
        {
          "output_type": "stream",
          "name": "stdout",
          "text": [
            "User features (15): ['rating ave', 'Action', 'Adventure', 'Animation', 'Children', 'Comedy', 'Crime', 'Documentary', 'Drama', 'Fantasy', 'Horror', 'Mystery', 'Romance', 'Sci-Fi', 'Thriller']\n",
            "Item features (21): ['year', 'avg_rating', 'rating_variance', 'unique_users', 'decade', 'is_recent', 'popularity_score', 'Action', 'Adventure', 'Animation', 'Children', 'Comedy', 'Crime', 'Documentary', 'Drama', 'Fantasy', 'Horror', 'Mystery', 'Romance', 'Sci-Fi', 'Thriller']\n"
          ]
        }
      ]
    },
    {
      "cell_type": "markdown",
      "source": [
        "#SOPHISTICATED TRAIN-TEST SPLIT"
      ],
      "metadata": {
        "id": "H92gaZd2dVc6"
      }
    },
    {
      "cell_type": "code",
      "source": [
        "# Stratified split to maintain rating distribution\n",
        "items_train, items_test = train_test_split(\n",
        "    items_normalized, test_size=0.2, shuffle=True, random_state=1, stratify=None\n",
        ")\n",
        "users_train, users_test = train_test_split(\n",
        "    users_normalized, test_size=0.2, shuffle=True, random_state=1\n",
        ")\n",
        "y_train, y_test = train_test_split(\n",
        "    ratings_data, test_size=0.2, shuffle=True, random_state=1\n",
        ")\n",
        "\n",
        "# Advanced target scaling\n",
        "y_scaler = MinMaxScaler((-1, 1))\n",
        "y_train_norm = y_scaler.fit_transform(y_train)\n",
        "y_test_norm = y_scaler.transform(y_test)\n",
        "\n",
        "# FIX: Calculate y_train_true and y_test_true for baseline comparison\n",
        "y_train_true = y_scaler.inverse_transform(y_train_norm)\n",
        "y_test_true = y_scaler.inverse_transform(y_test_norm)\n",
        "\n",
        "print(\"Advanced data splitting completed!\")\n",
        "print(f\"Training samples: {len(items_train)}\")\n",
        "print(f\"Test samples: {len(items_test)}\")\n",
        "print(f\"Target scaling range: {y_train_norm.min():.3f} to {y_train_norm.max():.3f}\")\n"
      ],
      "metadata": {
        "colab": {
          "base_uri": "https://localhost:8080/",
          "height": 0
        },
        "id": "to6ZNdP4dWll",
        "outputId": "fdba90ed-8037-4d8b-c2e5-58db0c6247c7"
      },
      "execution_count": 26,
      "outputs": [
        {
          "output_type": "stream",
          "name": "stdout",
          "text": [
            "Advanced data splitting completed!\n",
            "Training samples: 46549\n",
            "Test samples: 11638\n",
            "Target scaling range: -1.000 to 1.000\n"
          ]
        }
      ]
    },
    {
      "cell_type": "markdown",
      "source": [
        "#HYPERPARAMETER TUNING (COMPREHENSIVE)"
      ],
      "metadata": {
        "id": "hlQvwrVodec_"
      }
    },
    {
      "cell_type": "code",
      "source": [
        "def create_enhanced_model(num_user_features, num_item_features,\n",
        "                         user_hidden_units=[256, 128], item_hidden_units=[256, 128],\n",
        "                         num_outputs=32, dropout_rate=0.3, activation='relu',\n",
        "                         use_batch_norm=True):\n",
        "    \"\"\"Create enhanced neural network model\"\"\"\n",
        "\n",
        "    # User Neural Network with advanced architecture\n",
        "    users_input = tf.keras.layers.Input(shape=(num_user_features,))\n",
        "    vu = users_input\n",
        "\n",
        "    for i, units in enumerate(user_hidden_units):\n",
        "        vu = tf.keras.layers.Dense(units, activation=activation,\n",
        "                                  name=f'user_dense_{i}')(vu)\n",
        "        if use_batch_norm:\n",
        "            vu = tf.keras.layers.BatchNormalization(name=f'user_bn_{i}')(vu)\n",
        "        vu = tf.keras.layers.Dropout(dropout_rate, name=f'user_dropout_{i}')(vu)\n",
        "\n",
        "    vu = tf.keras.layers.Dense(num_outputs, activation='linear', name='user_output')(vu)\n",
        "    vu = tf.keras.layers.UnitNormalization(axis=1, name='user_norm')(vu)\n",
        "\n",
        "    # Item Neural Network with advanced architecture\n",
        "    items_input = tf.keras.layers.Input(shape=(num_item_features,))\n",
        "    vm = items_input\n",
        "\n",
        "    for i, units in enumerate(item_hidden_units):\n",
        "        vm = tf.keras.layers.Dense(units, activation=activation,\n",
        "                                  name=f'item_dense_{i}')(vm)\n",
        "        if use_batch_norm:\n",
        "            vm = tf.keras.layers.BatchNormalization(name=f'item_bn_{i}')(vm)\n",
        "        vm = tf.keras.layers.Dropout(dropout_rate, name=f'item_dropout_{i}')(vm)\n",
        "\n",
        "    vm = tf.keras.layers.Dense(num_outputs, activation='linear', name='item_output')(vm)\n",
        "    vm = tf.keras.layers.UnitNormalization(axis=1, name='item_norm')(vm)\n",
        "\n",
        "    # Compute dot product for rating prediction\n",
        "    output = tf.keras.layers.Dot(axes=1, name='dot_product')([vu, vm])\n",
        "\n",
        "    # Create final model\n",
        "    model = tf.keras.Model([users_input, items_input], output, name='enhanced_recommender')\n",
        "\n",
        "    return model\n",
        "\n",
        "# Comprehensive hyperparameter tuning\n",
        "print(\"\\n=== COMPREHENSIVE HYPERPARAMETER TUNING ===\")\n",
        "\n",
        "hyperparameter_configs = [\n",
        "    {\n",
        "        'user_hidden_units': [256, 128],\n",
        "        'item_hidden_units': [256, 128],\n",
        "        'num_outputs': 32,\n",
        "        'dropout_rate': 0.2,\n",
        "        'activation': 'relu',\n",
        "        'learning_rate': 0.01,\n",
        "        'batch_size': 32\n",
        "    },\n",
        "    {\n",
        "        'user_hidden_units': [512, 256, 128],\n",
        "        'item_hidden_units': [512, 256, 128],\n",
        "        'num_outputs': 64,\n",
        "        'dropout_rate': 0.3,\n",
        "        'activation': 'relu',\n",
        "        'learning_rate': 0.005,\n",
        "        'batch_size': 64\n",
        "    },\n",
        "    {\n",
        "        'user_hidden_units': [256, 128, 64],\n",
        "        'item_hidden_units': [256, 128, 64],\n",
        "        'num_outputs': 48,\n",
        "        'dropout_rate': 0.25,\n",
        "        'activation': 'elu',\n",
        "        'learning_rate': 0.01,\n",
        "        'batch_size': 32\n",
        "    }\n",
        "]\n",
        "\n",
        "best_config = None\n",
        "best_score = float('inf')\n",
        "tuning_results = []\n",
        "\n",
        "for i, config in enumerate(hyperparameter_configs):\n",
        "    print(f\"\\nTesting configuration {i+1}/{len(hyperparameter_configs)}:\")\n",
        "    print(f\"Config: {config}\")\n",
        "\n",
        "    # Create model with current configuration\n",
        "    tf.random.set_seed(42)\n",
        "    model = create_enhanced_model(\n",
        "        num_user_features=num_user_features,\n",
        "        num_item_features=num_item_features,\n",
        "        user_hidden_units=config['user_hidden_units'],\n",
        "        item_hidden_units=config['item_hidden_units'],\n",
        "        num_outputs=config['num_outputs'],\n",
        "        dropout_rate=config['dropout_rate'],\n",
        "        activation=config['activation']\n",
        "    )\n",
        "\n",
        "    # Compile model\n",
        "    optimizer = tf.keras.optimizers.Adam(learning_rate=config['learning_rate'])\n",
        "    model.compile(optimizer=optimizer, loss='mse', metrics=['mae'])\n",
        "\n",
        "    # Cross-validation\n",
        "    kf = KFold(n_splits=3, shuffle=True, random_state=42)\n",
        "    cv_scores = []\n",
        "\n",
        "    for train_idx, val_idx in kf.split(users_train):\n",
        "        # Split data\n",
        "        users_tr = users_train.iloc[train_idx]\n",
        "        users_val = users_train.iloc[val_idx]\n",
        "        items_tr = items_train.iloc[train_idx]\n",
        "        items_val = items_train.iloc[val_idx]\n",
        "        y_tr = y_train_norm[train_idx]\n",
        "        y_val = y_train_norm[val_idx]\n",
        "\n",
        "        # Train model\n",
        "        history = model.fit(\n",
        "            [users_tr[user_features], items_tr[item_features]],\n",
        "            y_tr,\n",
        "            batch_size=config['batch_size'],\n",
        "            epochs=10,\n",
        "            validation_data=([users_val[user_features], items_val[item_features]], y_val),\n",
        "            verbose=0,\n",
        "            callbacks=[EarlyStopping(patience=3, restore_best_weights=True)]\n",
        "        )\n",
        "\n",
        "        # Evaluate\n",
        "        val_loss = min(history.history['val_loss'])\n",
        "        cv_scores.append(val_loss)\n",
        "\n",
        "    # Calculate average CV score\n",
        "    avg_cv_score = np.mean(cv_scores)\n",
        "    tuning_results.append({\n",
        "        'config': config,\n",
        "        'cv_score': avg_cv_score,\n",
        "        'cv_std': np.std(cv_scores)\n",
        "    })\n",
        "\n",
        "    print(f\"CV Score: {avg_cv_score:.4f} (±{np.std(cv_scores):.4f})\")\n",
        "\n",
        "    if avg_cv_score < best_score:\n",
        "        best_score = avg_cv_score\n",
        "        best_config = config\n",
        "        print(\"New best configuration!\")\n",
        "\n",
        "print(f\"\\nBest configuration: {best_config}\")\n",
        "print(f\"Best CV score: {best_score:.4f}\")\n"
      ],
      "metadata": {
        "colab": {
          "base_uri": "https://localhost:8080/",
          "height": 0
        },
        "id": "Yr57Rt4SdgMS",
        "outputId": "beb63e0f-af4f-47f7-e9c0-f3a19fdeb488"
      },
      "execution_count": 27,
      "outputs": [
        {
          "output_type": "stream",
          "name": "stdout",
          "text": [
            "\n",
            "=== COMPREHENSIVE HYPERPARAMETER TUNING ===\n",
            "\n",
            "Testing configuration 1/3:\n",
            "Config: {'user_hidden_units': [256, 128], 'item_hidden_units': [256, 128], 'num_outputs': 32, 'dropout_rate': 0.2, 'activation': 'relu', 'learning_rate': 0.01, 'batch_size': 32}\n",
            "CV Score: 0.1139 (±0.0016)\n",
            "New best configuration!\n",
            "\n",
            "Testing configuration 2/3:\n",
            "Config: {'user_hidden_units': [512, 256, 128], 'item_hidden_units': [512, 256, 128], 'num_outputs': 64, 'dropout_rate': 0.3, 'activation': 'relu', 'learning_rate': 0.005, 'batch_size': 64}\n",
            "CV Score: 0.1117 (±0.0019)\n",
            "New best configuration!\n",
            "\n",
            "Testing configuration 3/3:\n",
            "Config: {'user_hidden_units': [256, 128, 64], 'item_hidden_units': [256, 128, 64], 'num_outputs': 48, 'dropout_rate': 0.25, 'activation': 'elu', 'learning_rate': 0.01, 'batch_size': 32}\n",
            "CV Score: 0.1156 (±0.0009)\n",
            "\n",
            "Best configuration: {'user_hidden_units': [512, 256, 128], 'item_hidden_units': [512, 256, 128], 'num_outputs': 64, 'dropout_rate': 0.3, 'activation': 'relu', 'learning_rate': 0.005, 'batch_size': 64}\n",
            "Best CV score: 0.1117\n"
          ]
        }
      ]
    },
    {
      "cell_type": "markdown",
      "source": [
        "#FINAL MODEL TRAINING"
      ],
      "metadata": {
        "id": "XXE31plwd9q0"
      }
    },
    {
      "cell_type": "code",
      "source": [
        "# Create final model with best configuration\n",
        "tf.random.set_seed(42)\n",
        "final_model = create_enhanced_model(\n",
        "    num_user_features=num_user_features,\n",
        "    num_item_features=num_item_features,\n",
        "    **{k: v for k, v in best_config.items() if k not in ['learning_rate', 'batch_size']}\n",
        ")\n",
        "\n",
        "# Advanced compilation with multiple metrics\n",
        "optimizer = tf.keras.optimizers.Adam(learning_rate=best_config['learning_rate'])\n",
        "final_model.compile(\n",
        "    optimizer=optimizer,\n",
        "    loss='mse',\n",
        "    metrics=['mae', 'mse']\n",
        ")\n",
        "\n",
        "# Advanced callbacks\n",
        "callbacks = [\n",
        "    EarlyStopping(patience=10, restore_best_weights=True, monitor='val_loss'),\n",
        "    ReduceLROnPlateau(patience=5, factor=0.5, min_lr=1e-6, monitor='val_loss'),\n",
        "    ModelCheckpoint('best_model.h5', save_best_only=True, monitor='val_loss')\n",
        "]\n",
        "\n",
        "# Train final model\n",
        "print(\"\\nTraining final model...\")\n",
        "history = final_model.fit(\n",
        "    [users_train[user_features], items_train[item_features]],\n",
        "    y_train_norm,\n",
        "    batch_size=best_config['batch_size'],\n",
        "    epochs=50,\n",
        "    validation_split=0.2,\n",
        "    callbacks=callbacks,\n",
        "    verbose=1\n",
        ")\n",
        "\n",
        "print(\"Final model training completed!\")\n",
        "\n",
        "# Model summary\n",
        "print(\"\\n=== FINAL MODEL ARCHITECTURE ===\")\n",
        "final_model.summary()"
      ],
      "metadata": {
        "colab": {
          "base_uri": "https://localhost:8080/",
          "height": 3489
        },
        "id": "akJw-M9aeERG",
        "outputId": "f5bfa62a-e995-4b48-b4b1-7b89388aec6a"
      },
      "execution_count": 28,
      "outputs": [
        {
          "output_type": "stream",
          "name": "stdout",
          "text": [
            "\n",
            "Training final model...\n",
            "Epoch 1/50\n",
            "\u001b[1m582/582\u001b[0m \u001b[32m━━━━━━━━━━━━━━━━━━━━\u001b[0m\u001b[37m\u001b[0m \u001b[1m0s\u001b[0m 13ms/step - loss: 0.1960 - mae: 0.3451 - mse: 0.1960"
          ]
        },
        {
          "output_type": "stream",
          "name": "stderr",
          "text": [
            "WARNING:absl:You are saving your model as an HDF5 file via `model.save()` or `keras.saving.save_model(model)`. This file format is considered legacy. We recommend using instead the native Keras format, e.g. `model.save('my_model.keras')` or `keras.saving.save_model(model, 'my_model.keras')`. \n"
          ]
        },
        {
          "output_type": "stream",
          "name": "stdout",
          "text": [
            "\b\b\b\b\b\b\b\b\b\b\b\b\b\b\b\b\b\b\b\b\b\b\b\b\b\b\b\b\b\b\b\b\b\b\b\b\b\b\b\b\b\b\b\b\b\b\b\b\b\b\b\b\b\b\b\b\b\b\b\b\b\b\b\b\b\b\b\b\b\b\b\b\b\b\b\b\b\b\b\b\b\b\b\b\r\u001b[1m582/582\u001b[0m \u001b[32m━━━━━━━━━━━━━━━━━━━━\u001b[0m\u001b[37m\u001b[0m \u001b[1m17s\u001b[0m 16ms/step - loss: 0.1959 - mae: 0.3450 - mse: 0.1959 - val_loss: 0.1306 - val_mae: 0.2681 - val_mse: 0.1306 - learning_rate: 0.0050\n",
            "Epoch 2/50\n",
            "\u001b[1m581/582\u001b[0m \u001b[32m━━━━━━━━━━━━━━━━━━━\u001b[0m\u001b[37m━\u001b[0m \u001b[1m0s\u001b[0m 16ms/step - loss: 0.1223 - mae: 0.2632 - mse: 0.1223"
          ]
        },
        {
          "output_type": "stream",
          "name": "stderr",
          "text": [
            "WARNING:absl:You are saving your model as an HDF5 file via `model.save()` or `keras.saving.save_model(model)`. This file format is considered legacy. We recommend using instead the native Keras format, e.g. `model.save('my_model.keras')` or `keras.saving.save_model(model, 'my_model.keras')`. \n"
          ]
        },
        {
          "output_type": "stream",
          "name": "stdout",
          "text": [
            "\b\b\b\b\b\b\b\b\b\b\b\b\b\b\b\b\b\b\b\b\b\b\b\b\b\b\b\b\b\b\b\b\b\b\b\b\b\b\b\b\b\b\b\b\b\b\b\b\b\b\b\b\b\b\b\b\b\b\b\b\b\b\b\b\b\b\b\b\b\b\b\b\b\b\b\b\b\b\b\b\b\b\b\b\r\u001b[1m582/582\u001b[0m \u001b[32m━━━━━━━━━━━━━━━━━━━━\u001b[0m\u001b[37m\u001b[0m \u001b[1m10s\u001b[0m 17ms/step - loss: 0.1223 - mae: 0.2632 - mse: 0.1223 - val_loss: 0.1277 - val_mae: 0.2652 - val_mse: 0.1277 - learning_rate: 0.0050\n",
            "Epoch 3/50\n",
            "\u001b[1m581/582\u001b[0m \u001b[32m━━━━━━━━━━━━━━━━━━━\u001b[0m\u001b[37m━\u001b[0m \u001b[1m0s\u001b[0m 17ms/step - loss: 0.1194 - mae: 0.2602 - mse: 0.1194"
          ]
        },
        {
          "output_type": "stream",
          "name": "stderr",
          "text": [
            "WARNING:absl:You are saving your model as an HDF5 file via `model.save()` or `keras.saving.save_model(model)`. This file format is considered legacy. We recommend using instead the native Keras format, e.g. `model.save('my_model.keras')` or `keras.saving.save_model(model, 'my_model.keras')`. \n"
          ]
        },
        {
          "output_type": "stream",
          "name": "stdout",
          "text": [
            "\b\b\b\b\b\b\b\b\b\b\b\b\b\b\b\b\b\b\b\b\b\b\b\b\b\b\b\b\b\b\b\b\b\b\b\b\b\b\b\b\b\b\b\b\b\b\b\b\b\b\b\b\b\b\b\b\b\b\b\b\b\b\b\b\b\b\b\b\b\b\b\b\b\b\b\b\b\b\b\b\b\b\b\b\r\u001b[1m582/582\u001b[0m \u001b[32m━━━━━━━━━━━━━━━━━━━━\u001b[0m\u001b[37m\u001b[0m \u001b[1m11s\u001b[0m 18ms/step - loss: 0.1194 - mae: 0.2602 - mse: 0.1194 - val_loss: 0.1195 - val_mae: 0.2581 - val_mse: 0.1195 - learning_rate: 0.0050\n",
            "Epoch 4/50\n",
            "\u001b[1m581/582\u001b[0m \u001b[32m━━━━━━━━━━━━━━━━━━━\u001b[0m\u001b[37m━\u001b[0m \u001b[1m0s\u001b[0m 15ms/step - loss: 0.1171 - mae: 0.2581 - mse: 0.1171"
          ]
        },
        {
          "output_type": "stream",
          "name": "stderr",
          "text": [
            "WARNING:absl:You are saving your model as an HDF5 file via `model.save()` or `keras.saving.save_model(model)`. This file format is considered legacy. We recommend using instead the native Keras format, e.g. `model.save('my_model.keras')` or `keras.saving.save_model(model, 'my_model.keras')`. \n"
          ]
        },
        {
          "output_type": "stream",
          "name": "stdout",
          "text": [
            "\b\b\b\b\b\b\b\b\b\b\b\b\b\b\b\b\b\b\b\b\b\b\b\b\b\b\b\b\b\b\b\b\b\b\b\b\b\b\b\b\b\b\b\b\b\b\b\b\b\b\b\b\b\b\b\b\b\b\b\b\b\b\b\b\b\b\b\b\b\b\b\b\b\b\b\b\b\b\b\b\b\b\b\b\r\u001b[1m582/582\u001b[0m \u001b[32m━━━━━━━━━━━━━━━━━━━━\u001b[0m\u001b[37m\u001b[0m \u001b[1m10s\u001b[0m 18ms/step - loss: 0.1171 - mae: 0.2581 - mse: 0.1171 - val_loss: 0.1137 - val_mae: 0.2570 - val_mse: 0.1137 - learning_rate: 0.0050\n",
            "Epoch 5/50\n",
            "\u001b[1m579/582\u001b[0m \u001b[32m━━━━━━━━━━━━━━━━━━━\u001b[0m\u001b[37m━\u001b[0m \u001b[1m0s\u001b[0m 14ms/step - loss: 0.1164 - mae: 0.2574 - mse: 0.1164"
          ]
        },
        {
          "output_type": "stream",
          "name": "stderr",
          "text": [
            "WARNING:absl:You are saving your model as an HDF5 file via `model.save()` or `keras.saving.save_model(model)`. This file format is considered legacy. We recommend using instead the native Keras format, e.g. `model.save('my_model.keras')` or `keras.saving.save_model(model, 'my_model.keras')`. \n"
          ]
        },
        {
          "output_type": "stream",
          "name": "stdout",
          "text": [
            "\b\b\b\b\b\b\b\b\b\b\b\b\b\b\b\b\b\b\b\b\b\b\b\b\b\b\b\b\b\b\b\b\b\b\b\b\b\b\b\b\b\b\b\b\b\b\b\b\b\b\b\b\b\b\b\b\b\b\b\b\b\b\b\b\b\b\b\b\b\b\b\b\b\b\b\b\b\b\b\b\b\b\b\b\r\u001b[1m582/582\u001b[0m \u001b[32m━━━━━━━━━━━━━━━━━━━━\u001b[0m\u001b[37m\u001b[0m \u001b[1m9s\u001b[0m 15ms/step - loss: 0.1164 - mae: 0.2574 - mse: 0.1164 - val_loss: 0.1121 - val_mae: 0.2523 - val_mse: 0.1121 - learning_rate: 0.0050\n",
            "Epoch 6/50\n",
            "\u001b[1m582/582\u001b[0m \u001b[32m━━━━━━━━━━━━━━━━━━━━\u001b[0m\u001b[37m\u001b[0m \u001b[1m10s\u001b[0m 18ms/step - loss: 0.1155 - mae: 0.2562 - mse: 0.1155 - val_loss: 0.1134 - val_mae: 0.2516 - val_mse: 0.1134 - learning_rate: 0.0050\n",
            "Epoch 7/50\n",
            "\u001b[1m582/582\u001b[0m \u001b[32m━━━━━━━━━━━━━━━━━━━━\u001b[0m\u001b[37m\u001b[0m \u001b[1m11s\u001b[0m 18ms/step - loss: 0.1149 - mae: 0.2557 - mse: 0.1149 - val_loss: 0.1126 - val_mae: 0.2554 - val_mse: 0.1126 - learning_rate: 0.0050\n",
            "Epoch 8/50\n",
            "\u001b[1m579/582\u001b[0m \u001b[32m━━━━━━━━━━━━━━━━━━━\u001b[0m\u001b[37m━\u001b[0m \u001b[1m0s\u001b[0m 14ms/step - loss: 0.1146 - mae: 0.2551 - mse: 0.1146"
          ]
        },
        {
          "output_type": "stream",
          "name": "stderr",
          "text": [
            "WARNING:absl:You are saving your model as an HDF5 file via `model.save()` or `keras.saving.save_model(model)`. This file format is considered legacy. We recommend using instead the native Keras format, e.g. `model.save('my_model.keras')` or `keras.saving.save_model(model, 'my_model.keras')`. \n"
          ]
        },
        {
          "output_type": "stream",
          "name": "stdout",
          "text": [
            "\b\b\b\b\b\b\b\b\b\b\b\b\b\b\b\b\b\b\b\b\b\b\b\b\b\b\b\b\b\b\b\b\b\b\b\b\b\b\b\b\b\b\b\b\b\b\b\b\b\b\b\b\b\b\b\b\b\b\b\b\b\b\b\b\b\b\b\b\b\b\b\b\b\b\b\b\b\b\b\b\b\b\b\b\r\u001b[1m582/582\u001b[0m \u001b[32m━━━━━━━━━━━━━━━━━━━━\u001b[0m\u001b[37m\u001b[0m \u001b[1m9s\u001b[0m 15ms/step - loss: 0.1146 - mae: 0.2551 - mse: 0.1146 - val_loss: 0.1112 - val_mae: 0.2512 - val_mse: 0.1112 - learning_rate: 0.0050\n",
            "Epoch 9/50\n",
            "\u001b[1m580/582\u001b[0m \u001b[32m━━━━━━━━━━━━━━━━━━━\u001b[0m\u001b[37m━\u001b[0m \u001b[1m0s\u001b[0m 17ms/step - loss: 0.1144 - mae: 0.2547 - mse: 0.1144"
          ]
        },
        {
          "output_type": "stream",
          "name": "stderr",
          "text": [
            "WARNING:absl:You are saving your model as an HDF5 file via `model.save()` or `keras.saving.save_model(model)`. This file format is considered legacy. We recommend using instead the native Keras format, e.g. `model.save('my_model.keras')` or `keras.saving.save_model(model, 'my_model.keras')`. \n"
          ]
        },
        {
          "output_type": "stream",
          "name": "stdout",
          "text": [
            "\b\b\b\b\b\b\b\b\b\b\b\b\b\b\b\b\b\b\b\b\b\b\b\b\b\b\b\b\b\b\b\b\b\b\b\b\b\b\b\b\b\b\b\b\b\b\b\b\b\b\b\b\b\b\b\b\b\b\b\b\b\b\b\b\b\b\b\b\b\b\b\b\b\b\b\b\b\b\b\b\b\b\b\b\r\u001b[1m582/582\u001b[0m \u001b[32m━━━━━━━━━━━━━━━━━━━━\u001b[0m\u001b[37m\u001b[0m \u001b[1m10s\u001b[0m 18ms/step - loss: 0.1144 - mae: 0.2547 - mse: 0.1144 - val_loss: 0.1110 - val_mae: 0.2498 - val_mse: 0.1110 - learning_rate: 0.0050\n",
            "Epoch 10/50\n",
            "\u001b[1m582/582\u001b[0m \u001b[32m━━━━━━━━━━━━━━━━━━━━\u001b[0m\u001b[37m\u001b[0m \u001b[1m11s\u001b[0m 18ms/step - loss: 0.1134 - mae: 0.2535 - mse: 0.1134 - val_loss: 0.1128 - val_mae: 0.2573 - val_mse: 0.1128 - learning_rate: 0.0050\n",
            "Epoch 11/50\n",
            "\u001b[1m582/582\u001b[0m \u001b[32m━━━━━━━━━━━━━━━━━━━━\u001b[0m\u001b[37m\u001b[0m \u001b[1m0s\u001b[0m 14ms/step - loss: 0.1135 - mae: 0.2539 - mse: 0.1135"
          ]
        },
        {
          "output_type": "stream",
          "name": "stderr",
          "text": [
            "WARNING:absl:You are saving your model as an HDF5 file via `model.save()` or `keras.saving.save_model(model)`. This file format is considered legacy. We recommend using instead the native Keras format, e.g. `model.save('my_model.keras')` or `keras.saving.save_model(model, 'my_model.keras')`. \n"
          ]
        },
        {
          "output_type": "stream",
          "name": "stdout",
          "text": [
            "\b\b\b\b\b\b\b\b\b\b\b\b\b\b\b\b\b\b\b\b\b\b\b\b\b\b\b\b\b\b\b\b\b\b\b\b\b\b\b\b\b\b\b\b\b\b\b\b\b\b\b\b\b\b\b\b\b\b\b\b\b\b\b\b\b\b\b\b\b\b\b\b\b\b\b\b\b\b\b\b\b\b\b\b\r\u001b[1m582/582\u001b[0m \u001b[32m━━━━━━━━━━━━━━━━━━━━\u001b[0m\u001b[37m\u001b[0m \u001b[1m9s\u001b[0m 16ms/step - loss: 0.1135 - mae: 0.2539 - mse: 0.1135 - val_loss: 0.1099 - val_mae: 0.2495 - val_mse: 0.1099 - learning_rate: 0.0050\n",
            "Epoch 12/50\n",
            "\u001b[1m582/582\u001b[0m \u001b[32m━━━━━━━━━━━━━━━━━━━━\u001b[0m\u001b[37m\u001b[0m \u001b[1m10s\u001b[0m 17ms/step - loss: 0.1137 - mae: 0.2545 - mse: 0.1137 - val_loss: 0.1111 - val_mae: 0.2514 - val_mse: 0.1111 - learning_rate: 0.0050\n",
            "Epoch 13/50\n",
            "\u001b[1m582/582\u001b[0m \u001b[32m━━━━━━━━━━━━━━━━━━━━\u001b[0m\u001b[37m\u001b[0m \u001b[1m11s\u001b[0m 18ms/step - loss: 0.1128 - mae: 0.2531 - mse: 0.1128 - val_loss: 0.1126 - val_mae: 0.2514 - val_mse: 0.1126 - learning_rate: 0.0050\n",
            "Epoch 14/50\n",
            "\u001b[1m582/582\u001b[0m \u001b[32m━━━━━━━━━━━━━━━━━━━━\u001b[0m\u001b[37m\u001b[0m \u001b[1m19s\u001b[0m 15ms/step - loss: 0.1129 - mae: 0.2532 - mse: 0.1129 - val_loss: 0.1141 - val_mae: 0.2519 - val_mse: 0.1141 - learning_rate: 0.0050\n",
            "Epoch 15/50\n",
            "\u001b[1m582/582\u001b[0m \u001b[32m━━━━━━━━━━━━━━━━━━━━\u001b[0m\u001b[37m\u001b[0m \u001b[1m0s\u001b[0m 16ms/step - loss: 0.1117 - mae: 0.2521 - mse: 0.1117"
          ]
        },
        {
          "output_type": "stream",
          "name": "stderr",
          "text": [
            "WARNING:absl:You are saving your model as an HDF5 file via `model.save()` or `keras.saving.save_model(model)`. This file format is considered legacy. We recommend using instead the native Keras format, e.g. `model.save('my_model.keras')` or `keras.saving.save_model(model, 'my_model.keras')`. \n"
          ]
        },
        {
          "output_type": "stream",
          "name": "stdout",
          "text": [
            "\b\b\b\b\b\b\b\b\b\b\b\b\b\b\b\b\b\b\b\b\b\b\b\b\b\b\b\b\b\b\b\b\b\b\b\b\b\b\b\b\b\b\b\b\b\b\b\b\b\b\b\b\b\b\b\b\b\b\b\b\b\b\b\b\b\b\b\b\b\b\b\b\b\b\b\b\b\b\b\b\b\b\b\b\r\u001b[1m582/582\u001b[0m \u001b[32m━━━━━━━━━━━━━━━━━━━━\u001b[0m\u001b[37m\u001b[0m \u001b[1m11s\u001b[0m 17ms/step - loss: 0.1117 - mae: 0.2521 - mse: 0.1117 - val_loss: 0.1098 - val_mae: 0.2492 - val_mse: 0.1098 - learning_rate: 0.0050\n",
            "Epoch 16/50\n",
            "\u001b[1m582/582\u001b[0m \u001b[32m━━━━━━━━━━━━━━━━━━━━\u001b[0m\u001b[37m\u001b[0m \u001b[1m11s\u001b[0m 18ms/step - loss: 0.1113 - mae: 0.2518 - mse: 0.1113 - val_loss: 0.1115 - val_mae: 0.2492 - val_mse: 0.1115 - learning_rate: 0.0050\n",
            "Epoch 17/50\n",
            "\u001b[1m582/582\u001b[0m \u001b[32m━━━━━━━━━━━━━━━━━━━━\u001b[0m\u001b[37m\u001b[0m \u001b[1m19s\u001b[0m 15ms/step - loss: 0.1123 - mae: 0.2528 - mse: 0.1123 - val_loss: 0.1122 - val_mae: 0.2551 - val_mse: 0.1122 - learning_rate: 0.0050\n",
            "Epoch 18/50\n",
            "\u001b[1m582/582\u001b[0m \u001b[32m━━━━━━━━━━━━━━━━━━━━\u001b[0m\u001b[37m\u001b[0m \u001b[1m11s\u001b[0m 18ms/step - loss: 0.1113 - mae: 0.2515 - mse: 0.1113 - val_loss: 0.1108 - val_mae: 0.2493 - val_mse: 0.1108 - learning_rate: 0.0050\n",
            "Epoch 19/50\n",
            "\u001b[1m579/582\u001b[0m \u001b[32m━━━━━━━━━━━━━━━━━━━\u001b[0m\u001b[37m━\u001b[0m \u001b[1m0s\u001b[0m 17ms/step - loss: 0.1109 - mae: 0.2511 - mse: 0.1109"
          ]
        },
        {
          "output_type": "stream",
          "name": "stderr",
          "text": [
            "WARNING:absl:You are saving your model as an HDF5 file via `model.save()` or `keras.saving.save_model(model)`. This file format is considered legacy. We recommend using instead the native Keras format, e.g. `model.save('my_model.keras')` or `keras.saving.save_model(model, 'my_model.keras')`. \n"
          ]
        },
        {
          "output_type": "stream",
          "name": "stdout",
          "text": [
            "\b\b\b\b\b\b\b\b\b\b\b\b\b\b\b\b\b\b\b\b\b\b\b\b\b\b\b\b\b\b\b\b\b\b\b\b\b\b\b\b\b\b\b\b\b\b\b\b\b\b\b\b\b\b\b\b\b\b\b\b\b\b\b\b\b\b\b\b\b\b\b\b\b\b\b\b\b\b\b\b\b\b\b\b\r\u001b[1m582/582\u001b[0m \u001b[32m━━━━━━━━━━━━━━━━━━━━\u001b[0m\u001b[37m\u001b[0m \u001b[1m11s\u001b[0m 19ms/step - loss: 0.1109 - mae: 0.2511 - mse: 0.1109 - val_loss: 0.1094 - val_mae: 0.2486 - val_mse: 0.1094 - learning_rate: 0.0050\n",
            "Epoch 20/50\n",
            "\u001b[1m582/582\u001b[0m \u001b[32m━━━━━━━━━━━━━━━━━━━━\u001b[0m\u001b[37m\u001b[0m \u001b[1m10s\u001b[0m 17ms/step - loss: 0.1108 - mae: 0.2513 - mse: 0.1108 - val_loss: 0.1138 - val_mae: 0.2549 - val_mse: 0.1138 - learning_rate: 0.0050\n",
            "Epoch 21/50\n",
            "\u001b[1m581/582\u001b[0m \u001b[32m━━━━━━━━━━━━━━━━━━━\u001b[0m\u001b[37m━\u001b[0m \u001b[1m0s\u001b[0m 16ms/step - loss: 0.1106 - mae: 0.2509 - mse: 0.1106"
          ]
        },
        {
          "output_type": "stream",
          "name": "stderr",
          "text": [
            "WARNING:absl:You are saving your model as an HDF5 file via `model.save()` or `keras.saving.save_model(model)`. This file format is considered legacy. We recommend using instead the native Keras format, e.g. `model.save('my_model.keras')` or `keras.saving.save_model(model, 'my_model.keras')`. \n"
          ]
        },
        {
          "output_type": "stream",
          "name": "stdout",
          "text": [
            "\b\b\b\b\b\b\b\b\b\b\b\b\b\b\b\b\b\b\b\b\b\b\b\b\b\b\b\b\b\b\b\b\b\b\b\b\b\b\b\b\b\b\b\b\b\b\b\b\b\b\b\b\b\b\b\b\b\b\b\b\b\b\b\b\b\b\b\b\b\b\b\b\b\b\b\b\b\b\b\b\b\b\b\b\r\u001b[1m582/582\u001b[0m \u001b[32m━━━━━━━━━━━━━━━━━━━━\u001b[0m\u001b[37m\u001b[0m \u001b[1m10s\u001b[0m 17ms/step - loss: 0.1106 - mae: 0.2509 - mse: 0.1106 - val_loss: 0.1090 - val_mae: 0.2491 - val_mse: 0.1090 - learning_rate: 0.0050\n",
            "Epoch 22/50\n",
            "\u001b[1m582/582\u001b[0m \u001b[32m━━━━━━━━━━━━━━━━━━━━\u001b[0m\u001b[37m\u001b[0m \u001b[1m11s\u001b[0m 19ms/step - loss: 0.1106 - mae: 0.2507 - mse: 0.1106 - val_loss: 0.1178 - val_mae: 0.2565 - val_mse: 0.1178 - learning_rate: 0.0050\n",
            "Epoch 23/50\n",
            "\u001b[1m582/582\u001b[0m \u001b[32m━━━━━━━━━━━━━━━━━━━━\u001b[0m\u001b[37m\u001b[0m \u001b[1m11s\u001b[0m 19ms/step - loss: 0.1099 - mae: 0.2497 - mse: 0.1099 - val_loss: 0.1109 - val_mae: 0.2493 - val_mse: 0.1109 - learning_rate: 0.0050\n",
            "Epoch 24/50\n",
            "\u001b[1m582/582\u001b[0m \u001b[32m━━━━━━━━━━━━━━━━━━━━\u001b[0m\u001b[37m\u001b[0m \u001b[1m20s\u001b[0m 18ms/step - loss: 0.1095 - mae: 0.2497 - mse: 0.1095 - val_loss: 0.1109 - val_mae: 0.2495 - val_mse: 0.1109 - learning_rate: 0.0050\n",
            "Epoch 25/50\n",
            "\u001b[1m582/582\u001b[0m \u001b[32m━━━━━━━━━━━━━━━━━━━━\u001b[0m\u001b[37m\u001b[0m \u001b[1m21s\u001b[0m 19ms/step - loss: 0.1096 - mae: 0.2504 - mse: 0.1096 - val_loss: 0.1097 - val_mae: 0.2481 - val_mse: 0.1097 - learning_rate: 0.0050\n",
            "Epoch 26/50\n",
            "\u001b[1m582/582\u001b[0m \u001b[32m━━━━━━━━━━━━━━━━━━━━\u001b[0m\u001b[37m\u001b[0m \u001b[1m20s\u001b[0m 18ms/step - loss: 0.1091 - mae: 0.2494 - mse: 0.1091 - val_loss: 0.1098 - val_mae: 0.2492 - val_mse: 0.1098 - learning_rate: 0.0050\n",
            "Epoch 27/50\n",
            "\u001b[1m580/582\u001b[0m \u001b[32m━━━━━━━━━━━━━━━━━━━\u001b[0m\u001b[37m━\u001b[0m \u001b[1m0s\u001b[0m 17ms/step - loss: 0.1083 - mae: 0.2488 - mse: 0.1083"
          ]
        },
        {
          "output_type": "stream",
          "name": "stderr",
          "text": [
            "WARNING:absl:You are saving your model as an HDF5 file via `model.save()` or `keras.saving.save_model(model)`. This file format is considered legacy. We recommend using instead the native Keras format, e.g. `model.save('my_model.keras')` or `keras.saving.save_model(model, 'my_model.keras')`. \n"
          ]
        },
        {
          "output_type": "stream",
          "name": "stdout",
          "text": [
            "\b\b\b\b\b\b\b\b\b\b\b\b\b\b\b\b\b\b\b\b\b\b\b\b\b\b\b\b\b\b\b\b\b\b\b\b\b\b\b\b\b\b\b\b\b\b\b\b\b\b\b\b\b\b\b\b\b\b\b\b\b\b\b\b\b\b\b\b\b\b\b\b\b\b\b\b\b\b\b\b\b\b\b\b\r\u001b[1m582/582\u001b[0m \u001b[32m━━━━━━━━━━━━━━━━━━━━\u001b[0m\u001b[37m\u001b[0m \u001b[1m21s\u001b[0m 19ms/step - loss: 0.1082 - mae: 0.2488 - mse: 0.1082 - val_loss: 0.1071 - val_mae: 0.2461 - val_mse: 0.1071 - learning_rate: 0.0025\n",
            "Epoch 28/50\n",
            "\u001b[1m582/582\u001b[0m \u001b[32m━━━━━━━━━━━━━━━━━━━━\u001b[0m\u001b[37m\u001b[0m \u001b[1m10s\u001b[0m 17ms/step - loss: 0.1073 - mae: 0.2478 - mse: 0.1073 - val_loss: 0.1072 - val_mae: 0.2470 - val_mse: 0.1072 - learning_rate: 0.0025\n",
            "Epoch 29/50\n",
            "\u001b[1m582/582\u001b[0m \u001b[32m━━━━━━━━━━━━━━━━━━━━\u001b[0m\u001b[37m\u001b[0m \u001b[1m10s\u001b[0m 17ms/step - loss: 0.1071 - mae: 0.2472 - mse: 0.1071 - val_loss: 0.1075 - val_mae: 0.2475 - val_mse: 0.1075 - learning_rate: 0.0025\n",
            "Epoch 30/50\n",
            "\u001b[1m579/582\u001b[0m \u001b[32m━━━━━━━━━━━━━━━━━━━\u001b[0m\u001b[37m━\u001b[0m \u001b[1m0s\u001b[0m 18ms/step - loss: 0.1064 - mae: 0.2468 - mse: 0.1064"
          ]
        },
        {
          "output_type": "stream",
          "name": "stderr",
          "text": [
            "WARNING:absl:You are saving your model as an HDF5 file via `model.save()` or `keras.saving.save_model(model)`. This file format is considered legacy. We recommend using instead the native Keras format, e.g. `model.save('my_model.keras')` or `keras.saving.save_model(model, 'my_model.keras')`. \n"
          ]
        },
        {
          "output_type": "stream",
          "name": "stdout",
          "text": [
            "\b\b\b\b\b\b\b\b\b\b\b\b\b\b\b\b\b\b\b\b\b\b\b\b\b\b\b\b\b\b\b\b\b\b\b\b\b\b\b\b\b\b\b\b\b\b\b\b\b\b\b\b\b\b\b\b\b\b\b\b\b\b\b\b\b\b\b\b\b\b\b\b\b\b\b\b\b\b\b\b\b\b\b\b\r\u001b[1m582/582\u001b[0m \u001b[32m━━━━━━━━━━━━━━━━━━━━\u001b[0m\u001b[37m\u001b[0m \u001b[1m12s\u001b[0m 20ms/step - loss: 0.1064 - mae: 0.2468 - mse: 0.1064 - val_loss: 0.1060 - val_mae: 0.2448 - val_mse: 0.1060 - learning_rate: 0.0025\n",
            "Epoch 31/50\n",
            "\u001b[1m582/582\u001b[0m \u001b[32m━━━━━━━━━━━━━━━━━━━━\u001b[0m\u001b[37m\u001b[0m \u001b[1m18s\u001b[0m 15ms/step - loss: 0.1057 - mae: 0.2459 - mse: 0.1057 - val_loss: 0.1083 - val_mae: 0.2475 - val_mse: 0.1083 - learning_rate: 0.0025\n",
            "Epoch 32/50\n",
            "\u001b[1m582/582\u001b[0m \u001b[32m━━━━━━━━━━━━━━━━━━━━\u001b[0m\u001b[37m\u001b[0m \u001b[1m11s\u001b[0m 17ms/step - loss: 0.1061 - mae: 0.2463 - mse: 0.1061 - val_loss: 0.1064 - val_mae: 0.2461 - val_mse: 0.1064 - learning_rate: 0.0025\n",
            "Epoch 33/50\n",
            "\u001b[1m582/582\u001b[0m \u001b[32m━━━━━━━━━━━━━━━━━━━━\u001b[0m\u001b[37m\u001b[0m \u001b[1m11s\u001b[0m 19ms/step - loss: 0.1059 - mae: 0.2461 - mse: 0.1059 - val_loss: 0.1071 - val_mae: 0.2458 - val_mse: 0.1071 - learning_rate: 0.0025\n",
            "Epoch 34/50\n",
            "\u001b[1m582/582\u001b[0m \u001b[32m━━━━━━━━━━━━━━━━━━━━\u001b[0m\u001b[37m\u001b[0m \u001b[1m11s\u001b[0m 19ms/step - loss: 0.1053 - mae: 0.2456 - mse: 0.1053 - val_loss: 0.1069 - val_mae: 0.2463 - val_mse: 0.1069 - learning_rate: 0.0025\n",
            "Epoch 35/50\n",
            "\u001b[1m582/582\u001b[0m \u001b[32m━━━━━━━━━━━━━━━━━━━━\u001b[0m\u001b[37m\u001b[0m \u001b[1m20s\u001b[0m 18ms/step - loss: 0.1051 - mae: 0.2456 - mse: 0.1051 - val_loss: 0.1065 - val_mae: 0.2467 - val_mse: 0.1065 - learning_rate: 0.0025\n",
            "Epoch 36/50\n",
            "\u001b[1m582/582\u001b[0m \u001b[32m━━━━━━━━━━━━━━━━━━━━\u001b[0m\u001b[37m\u001b[0m \u001b[1m20s\u001b[0m 18ms/step - loss: 0.1038 - mae: 0.2443 - mse: 0.1038 - val_loss: 0.1062 - val_mae: 0.2452 - val_mse: 0.1062 - learning_rate: 0.0012\n",
            "Epoch 37/50\n",
            "\u001b[1m580/582\u001b[0m \u001b[32m━━━━━━━━━━━━━━━━━━━\u001b[0m\u001b[37m━\u001b[0m \u001b[1m0s\u001b[0m 14ms/step - loss: 0.1036 - mae: 0.2434 - mse: 0.1036"
          ]
        },
        {
          "output_type": "stream",
          "name": "stderr",
          "text": [
            "WARNING:absl:You are saving your model as an HDF5 file via `model.save()` or `keras.saving.save_model(model)`. This file format is considered legacy. We recommend using instead the native Keras format, e.g. `model.save('my_model.keras')` or `keras.saving.save_model(model, 'my_model.keras')`. \n"
          ]
        },
        {
          "output_type": "stream",
          "name": "stdout",
          "text": [
            "\b\b\b\b\b\b\b\b\b\b\b\b\b\b\b\b\b\b\b\b\b\b\b\b\b\b\b\b\b\b\b\b\b\b\b\b\b\b\b\b\b\b\b\b\b\b\b\b\b\b\b\b\b\b\b\b\b\b\b\b\b\b\b\b\b\b\b\b\b\b\b\b\b\b\b\b\b\b\b\b\b\b\b\b\r\u001b[1m582/582\u001b[0m \u001b[32m━━━━━━━━━━━━━━━━━━━━\u001b[0m\u001b[37m\u001b[0m \u001b[1m9s\u001b[0m 16ms/step - loss: 0.1036 - mae: 0.2435 - mse: 0.1036 - val_loss: 0.1059 - val_mae: 0.2456 - val_mse: 0.1059 - learning_rate: 0.0012\n",
            "Epoch 38/50\n",
            "\u001b[1m582/582\u001b[0m \u001b[32m━━━━━━━━━━━━━━━━━━━━\u001b[0m\u001b[37m\u001b[0m \u001b[1m12s\u001b[0m 18ms/step - loss: 0.1034 - mae: 0.2439 - mse: 0.1034 - val_loss: 0.1059 - val_mae: 0.2457 - val_mse: 0.1059 - learning_rate: 0.0012\n",
            "Epoch 39/50\n",
            "\u001b[1m582/582\u001b[0m \u001b[32m━━━━━━━━━━━━━━━━━━━━\u001b[0m\u001b[37m\u001b[0m \u001b[1m11s\u001b[0m 18ms/step - loss: 0.1031 - mae: 0.2436 - mse: 0.1031 - val_loss: 0.1060 - val_mae: 0.2448 - val_mse: 0.1060 - learning_rate: 0.0012\n",
            "Epoch 40/50\n",
            "\u001b[1m582/582\u001b[0m \u001b[32m━━━━━━━━━━━━━━━━━━━━\u001b[0m\u001b[37m\u001b[0m \u001b[1m11s\u001b[0m 18ms/step - loss: 0.1028 - mae: 0.2431 - mse: 0.1028 - val_loss: 0.1061 - val_mae: 0.2452 - val_mse: 0.1061 - learning_rate: 0.0012\n",
            "Epoch 41/50\n",
            "\u001b[1m582/582\u001b[0m \u001b[32m━━━━━━━━━━━━━━━━━━━━\u001b[0m\u001b[37m\u001b[0m \u001b[1m9s\u001b[0m 16ms/step - loss: 0.1024 - mae: 0.2427 - mse: 0.1024 - val_loss: 0.1060 - val_mae: 0.2455 - val_mse: 0.1060 - learning_rate: 0.0012\n",
            "Epoch 42/50\n",
            "\u001b[1m582/582\u001b[0m \u001b[32m━━━━━━━━━━━━━━━━━━━━\u001b[0m\u001b[37m\u001b[0m \u001b[1m11s\u001b[0m 19ms/step - loss: 0.1026 - mae: 0.2428 - mse: 0.1026 - val_loss: 0.1063 - val_mae: 0.2455 - val_mse: 0.1063 - learning_rate: 0.0012\n",
            "Epoch 43/50\n",
            "\u001b[1m582/582\u001b[0m \u001b[32m━━━━━━━━━━━━━━━━━━━━\u001b[0m\u001b[37m\u001b[0m \u001b[1m0s\u001b[0m 15ms/step - loss: 0.1020 - mae: 0.2425 - mse: 0.1020"
          ]
        },
        {
          "output_type": "stream",
          "name": "stderr",
          "text": [
            "WARNING:absl:You are saving your model as an HDF5 file via `model.save()` or `keras.saving.save_model(model)`. This file format is considered legacy. We recommend using instead the native Keras format, e.g. `model.save('my_model.keras')` or `keras.saving.save_model(model, 'my_model.keras')`. \n"
          ]
        },
        {
          "output_type": "stream",
          "name": "stdout",
          "text": [
            "\b\b\b\b\b\b\b\b\b\b\b\b\b\b\b\b\b\b\b\b\b\b\b\b\b\b\b\b\b\b\b\b\b\b\b\b\b\b\b\b\b\b\b\b\b\b\b\b\b\b\b\b\b\b\b\b\b\b\b\b\b\b\b\b\b\b\b\b\b\b\b\b\b\b\b\b\b\b\b\b\b\b\b\b\r\u001b[1m582/582\u001b[0m \u001b[32m━━━━━━━━━━━━━━━━━━━━\u001b[0m\u001b[37m\u001b[0m \u001b[1m20s\u001b[0m 17ms/step - loss: 0.1020 - mae: 0.2425 - mse: 0.1020 - val_loss: 0.1056 - val_mae: 0.2447 - val_mse: 0.1056 - learning_rate: 6.2500e-04\n",
            "Epoch 44/50\n",
            "\u001b[1m582/582\u001b[0m \u001b[32m━━━━━━━━━━━━━━━━━━━━\u001b[0m\u001b[37m\u001b[0m \u001b[1m10s\u001b[0m 17ms/step - loss: 0.1014 - mae: 0.2419 - mse: 0.1014 - val_loss: 0.1058 - val_mae: 0.2451 - val_mse: 0.1058 - learning_rate: 6.2500e-04\n",
            "Epoch 45/50\n",
            "\u001b[1m581/582\u001b[0m \u001b[32m━━━━━━━━━━━━━━━━━━━\u001b[0m\u001b[37m━\u001b[0m \u001b[1m0s\u001b[0m 18ms/step - loss: 0.1025 - mae: 0.2428 - mse: 0.1025"
          ]
        },
        {
          "output_type": "stream",
          "name": "stderr",
          "text": [
            "WARNING:absl:You are saving your model as an HDF5 file via `model.save()` or `keras.saving.save_model(model)`. This file format is considered legacy. We recommend using instead the native Keras format, e.g. `model.save('my_model.keras')` or `keras.saving.save_model(model, 'my_model.keras')`. \n"
          ]
        },
        {
          "output_type": "stream",
          "name": "stdout",
          "text": [
            "\b\b\b\b\b\b\b\b\b\b\b\b\b\b\b\b\b\b\b\b\b\b\b\b\b\b\b\b\b\b\b\b\b\b\b\b\b\b\b\b\b\b\b\b\b\b\b\b\b\b\b\b\b\b\b\b\b\b\b\b\b\b\b\b\b\b\b\b\b\b\b\b\b\b\b\b\b\b\b\b\b\b\b\b\r\u001b[1m582/582\u001b[0m \u001b[32m━━━━━━━━━━━━━━━━━━━━\u001b[0m\u001b[37m\u001b[0m \u001b[1m12s\u001b[0m 19ms/step - loss: 0.1025 - mae: 0.2428 - mse: 0.1025 - val_loss: 0.1056 - val_mae: 0.2446 - val_mse: 0.1056 - learning_rate: 6.2500e-04\n",
            "Epoch 46/50\n",
            "\u001b[1m580/582\u001b[0m \u001b[32m━━━━━━━━━━━━━━━━━━━\u001b[0m\u001b[37m━\u001b[0m \u001b[1m0s\u001b[0m 18ms/step - loss: 0.1014 - mae: 0.2422 - mse: 0.1014"
          ]
        },
        {
          "output_type": "stream",
          "name": "stderr",
          "text": [
            "WARNING:absl:You are saving your model as an HDF5 file via `model.save()` or `keras.saving.save_model(model)`. This file format is considered legacy. We recommend using instead the native Keras format, e.g. `model.save('my_model.keras')` or `keras.saving.save_model(model, 'my_model.keras')`. \n"
          ]
        },
        {
          "output_type": "stream",
          "name": "stdout",
          "text": [
            "\b\b\b\b\b\b\b\b\b\b\b\b\b\b\b\b\b\b\b\b\b\b\b\b\b\b\b\b\b\b\b\b\b\b\b\b\b\b\b\b\b\b\b\b\b\b\b\b\b\b\b\b\b\b\b\b\b\b\b\b\b\b\b\b\b\b\b\b\b\b\b\b\b\b\b\b\b\b\b\b\b\b\b\b\r\u001b[1m582/582\u001b[0m \u001b[32m━━━━━━━━━━━━━━━━━━━━\u001b[0m\u001b[37m\u001b[0m \u001b[1m11s\u001b[0m 19ms/step - loss: 0.1014 - mae: 0.2422 - mse: 0.1014 - val_loss: 0.1055 - val_mae: 0.2447 - val_mse: 0.1055 - learning_rate: 6.2500e-04\n",
            "Epoch 47/50\n",
            "\u001b[1m582/582\u001b[0m \u001b[32m━━━━━━━━━━━━━━━━━━━━\u001b[0m\u001b[37m\u001b[0m \u001b[1m10s\u001b[0m 16ms/step - loss: 0.1013 - mae: 0.2415 - mse: 0.1013 - val_loss: 0.1056 - val_mae: 0.2445 - val_mse: 0.1056 - learning_rate: 6.2500e-04\n",
            "Epoch 48/50\n",
            "\u001b[1m580/582\u001b[0m \u001b[32m━━━━━━━━━━━━━━━━━━━\u001b[0m\u001b[37m━\u001b[0m \u001b[1m0s\u001b[0m 17ms/step - loss: 0.1012 - mae: 0.2421 - mse: 0.1012"
          ]
        },
        {
          "output_type": "stream",
          "name": "stderr",
          "text": [
            "WARNING:absl:You are saving your model as an HDF5 file via `model.save()` or `keras.saving.save_model(model)`. This file format is considered legacy. We recommend using instead the native Keras format, e.g. `model.save('my_model.keras')` or `keras.saving.save_model(model, 'my_model.keras')`. \n"
          ]
        },
        {
          "output_type": "stream",
          "name": "stdout",
          "text": [
            "\b\b\b\b\b\b\b\b\b\b\b\b\b\b\b\b\b\b\b\b\b\b\b\b\b\b\b\b\b\b\b\b\b\b\b\b\b\b\b\b\b\b\b\b\b\b\b\b\b\b\b\b\b\b\b\b\b\b\b\b\b\b\b\b\b\b\b\b\b\b\b\b\b\b\b\b\b\b\b\b\b\b\b\b\r\u001b[1m582/582\u001b[0m \u001b[32m━━━━━━━━━━━━━━━━━━━━\u001b[0m\u001b[37m\u001b[0m \u001b[1m10s\u001b[0m 18ms/step - loss: 0.1012 - mae: 0.2421 - mse: 0.1012 - val_loss: 0.1054 - val_mae: 0.2448 - val_mse: 0.1054 - learning_rate: 6.2500e-04\n",
            "Epoch 49/50\n",
            "\u001b[1m582/582\u001b[0m \u001b[32m━━━━━━━━━━━━━━━━━━━━\u001b[0m\u001b[37m\u001b[0m \u001b[1m21s\u001b[0m 19ms/step - loss: 0.1017 - mae: 0.2426 - mse: 0.1017 - val_loss: 0.1054 - val_mae: 0.2445 - val_mse: 0.1054 - learning_rate: 6.2500e-04\n",
            "Epoch 50/50\n",
            "\u001b[1m582/582\u001b[0m \u001b[32m━━━━━━━━━━━━━━━━━━━━\u001b[0m\u001b[37m\u001b[0m \u001b[1m10s\u001b[0m 17ms/step - loss: 0.1007 - mae: 0.2411 - mse: 0.1007 - val_loss: 0.1054 - val_mae: 0.2446 - val_mse: 0.1054 - learning_rate: 6.2500e-04\n",
            "Final model training completed!\n",
            "\n",
            "=== FINAL MODEL ARCHITECTURE ===\n"
          ]
        },
        {
          "output_type": "display_data",
          "data": {
            "text/plain": [
              "\u001b[1mModel: \"enhanced_recommender\"\u001b[0m\n"
            ],
            "text/html": [
              "<pre style=\"white-space:pre;overflow-x:auto;line-height:normal;font-family:Menlo,'DejaVu Sans Mono',consolas,'Courier New',monospace\"><span style=\"font-weight: bold\">Model: \"enhanced_recommender\"</span>\n",
              "</pre>\n"
            ]
          },
          "metadata": {}
        },
        {
          "output_type": "display_data",
          "data": {
            "text/plain": [
              "┏━━━━━━━━━━━━━━━━━━━━━┳━━━━━━━━━━━━━━━━━━━┳━━━━━━━━━━━━┳━━━━━━━━━━━━━━━━━━━┓\n",
              "┃\u001b[1m \u001b[0m\u001b[1mLayer (type)       \u001b[0m\u001b[1m \u001b[0m┃\u001b[1m \u001b[0m\u001b[1mOutput Shape     \u001b[0m\u001b[1m \u001b[0m┃\u001b[1m \u001b[0m\u001b[1m   Param #\u001b[0m\u001b[1m \u001b[0m┃\u001b[1m \u001b[0m\u001b[1mConnected to     \u001b[0m\u001b[1m \u001b[0m┃\n",
              "┡━━━━━━━━━━━━━━━━━━━━━╇━━━━━━━━━━━━━━━━━━━╇━━━━━━━━━━━━╇━━━━━━━━━━━━━━━━━━━┩\n",
              "│ input_layer_6       │ (\u001b[38;5;45mNone\u001b[0m, \u001b[38;5;34m15\u001b[0m)        │          \u001b[38;5;34m0\u001b[0m │ -                 │\n",
              "│ (\u001b[38;5;33mInputLayer\u001b[0m)        │                   │            │                   │\n",
              "├─────────────────────┼───────────────────┼────────────┼───────────────────┤\n",
              "│ input_layer_7       │ (\u001b[38;5;45mNone\u001b[0m, \u001b[38;5;34m21\u001b[0m)        │          \u001b[38;5;34m0\u001b[0m │ -                 │\n",
              "│ (\u001b[38;5;33mInputLayer\u001b[0m)        │                   │            │                   │\n",
              "├─────────────────────┼───────────────────┼────────────┼───────────────────┤\n",
              "│ user_dense_0        │ (\u001b[38;5;45mNone\u001b[0m, \u001b[38;5;34m512\u001b[0m)       │      \u001b[38;5;34m8,192\u001b[0m │ input_layer_6[\u001b[38;5;34m0\u001b[0m]… │\n",
              "│ (\u001b[38;5;33mDense\u001b[0m)             │                   │            │                   │\n",
              "├─────────────────────┼───────────────────┼────────────┼───────────────────┤\n",
              "│ item_dense_0        │ (\u001b[38;5;45mNone\u001b[0m, \u001b[38;5;34m512\u001b[0m)       │     \u001b[38;5;34m11,264\u001b[0m │ input_layer_7[\u001b[38;5;34m0\u001b[0m]… │\n",
              "│ (\u001b[38;5;33mDense\u001b[0m)             │                   │            │                   │\n",
              "├─────────────────────┼───────────────────┼────────────┼───────────────────┤\n",
              "│ user_bn_0           │ (\u001b[38;5;45mNone\u001b[0m, \u001b[38;5;34m512\u001b[0m)       │      \u001b[38;5;34m2,048\u001b[0m │ user_dense_0[\u001b[38;5;34m0\u001b[0m][\u001b[38;5;34m…\u001b[0m │\n",
              "│ (\u001b[38;5;33mBatchNormalizatio…\u001b[0m │                   │            │                   │\n",
              "├─────────────────────┼───────────────────┼────────────┼───────────────────┤\n",
              "│ item_bn_0           │ (\u001b[38;5;45mNone\u001b[0m, \u001b[38;5;34m512\u001b[0m)       │      \u001b[38;5;34m2,048\u001b[0m │ item_dense_0[\u001b[38;5;34m0\u001b[0m][\u001b[38;5;34m…\u001b[0m │\n",
              "│ (\u001b[38;5;33mBatchNormalizatio…\u001b[0m │                   │            │                   │\n",
              "├─────────────────────┼───────────────────┼────────────┼───────────────────┤\n",
              "│ user_dropout_0      │ (\u001b[38;5;45mNone\u001b[0m, \u001b[38;5;34m512\u001b[0m)       │          \u001b[38;5;34m0\u001b[0m │ user_bn_0[\u001b[38;5;34m0\u001b[0m][\u001b[38;5;34m0\u001b[0m]   │\n",
              "│ (\u001b[38;5;33mDropout\u001b[0m)           │                   │            │                   │\n",
              "├─────────────────────┼───────────────────┼────────────┼───────────────────┤\n",
              "│ item_dropout_0      │ (\u001b[38;5;45mNone\u001b[0m, \u001b[38;5;34m512\u001b[0m)       │          \u001b[38;5;34m0\u001b[0m │ item_bn_0[\u001b[38;5;34m0\u001b[0m][\u001b[38;5;34m0\u001b[0m]   │\n",
              "│ (\u001b[38;5;33mDropout\u001b[0m)           │                   │            │                   │\n",
              "├─────────────────────┼───────────────────┼────────────┼───────────────────┤\n",
              "│ user_dense_1        │ (\u001b[38;5;45mNone\u001b[0m, \u001b[38;5;34m256\u001b[0m)       │    \u001b[38;5;34m131,328\u001b[0m │ user_dropout_0[\u001b[38;5;34m0\u001b[0m… │\n",
              "│ (\u001b[38;5;33mDense\u001b[0m)             │                   │            │                   │\n",
              "├─────────────────────┼───────────────────┼────────────┼───────────────────┤\n",
              "│ item_dense_1        │ (\u001b[38;5;45mNone\u001b[0m, \u001b[38;5;34m256\u001b[0m)       │    \u001b[38;5;34m131,328\u001b[0m │ item_dropout_0[\u001b[38;5;34m0\u001b[0m… │\n",
              "│ (\u001b[38;5;33mDense\u001b[0m)             │                   │            │                   │\n",
              "├─────────────────────┼───────────────────┼────────────┼───────────────────┤\n",
              "│ user_bn_1           │ (\u001b[38;5;45mNone\u001b[0m, \u001b[38;5;34m256\u001b[0m)       │      \u001b[38;5;34m1,024\u001b[0m │ user_dense_1[\u001b[38;5;34m0\u001b[0m][\u001b[38;5;34m…\u001b[0m │\n",
              "│ (\u001b[38;5;33mBatchNormalizatio…\u001b[0m │                   │            │                   │\n",
              "├─────────────────────┼───────────────────┼────────────┼───────────────────┤\n",
              "│ item_bn_1           │ (\u001b[38;5;45mNone\u001b[0m, \u001b[38;5;34m256\u001b[0m)       │      \u001b[38;5;34m1,024\u001b[0m │ item_dense_1[\u001b[38;5;34m0\u001b[0m][\u001b[38;5;34m…\u001b[0m │\n",
              "│ (\u001b[38;5;33mBatchNormalizatio…\u001b[0m │                   │            │                   │\n",
              "├─────────────────────┼───────────────────┼────────────┼───────────────────┤\n",
              "│ user_dropout_1      │ (\u001b[38;5;45mNone\u001b[0m, \u001b[38;5;34m256\u001b[0m)       │          \u001b[38;5;34m0\u001b[0m │ user_bn_1[\u001b[38;5;34m0\u001b[0m][\u001b[38;5;34m0\u001b[0m]   │\n",
              "│ (\u001b[38;5;33mDropout\u001b[0m)           │                   │            │                   │\n",
              "├─────────────────────┼───────────────────┼────────────┼───────────────────┤\n",
              "│ item_dropout_1      │ (\u001b[38;5;45mNone\u001b[0m, \u001b[38;5;34m256\u001b[0m)       │          \u001b[38;5;34m0\u001b[0m │ item_bn_1[\u001b[38;5;34m0\u001b[0m][\u001b[38;5;34m0\u001b[0m]   │\n",
              "│ (\u001b[38;5;33mDropout\u001b[0m)           │                   │            │                   │\n",
              "├─────────────────────┼───────────────────┼────────────┼───────────────────┤\n",
              "│ user_dense_2        │ (\u001b[38;5;45mNone\u001b[0m, \u001b[38;5;34m128\u001b[0m)       │     \u001b[38;5;34m32,896\u001b[0m │ user_dropout_1[\u001b[38;5;34m0\u001b[0m… │\n",
              "│ (\u001b[38;5;33mDense\u001b[0m)             │                   │            │                   │\n",
              "├─────────────────────┼───────────────────┼────────────┼───────────────────┤\n",
              "│ item_dense_2        │ (\u001b[38;5;45mNone\u001b[0m, \u001b[38;5;34m128\u001b[0m)       │     \u001b[38;5;34m32,896\u001b[0m │ item_dropout_1[\u001b[38;5;34m0\u001b[0m… │\n",
              "│ (\u001b[38;5;33mDense\u001b[0m)             │                   │            │                   │\n",
              "├─────────────────────┼───────────────────┼────────────┼───────────────────┤\n",
              "│ user_bn_2           │ (\u001b[38;5;45mNone\u001b[0m, \u001b[38;5;34m128\u001b[0m)       │        \u001b[38;5;34m512\u001b[0m │ user_dense_2[\u001b[38;5;34m0\u001b[0m][\u001b[38;5;34m…\u001b[0m │\n",
              "│ (\u001b[38;5;33mBatchNormalizatio…\u001b[0m │                   │            │                   │\n",
              "├─────────────────────┼───────────────────┼────────────┼───────────────────┤\n",
              "│ item_bn_2           │ (\u001b[38;5;45mNone\u001b[0m, \u001b[38;5;34m128\u001b[0m)       │        \u001b[38;5;34m512\u001b[0m │ item_dense_2[\u001b[38;5;34m0\u001b[0m][\u001b[38;5;34m…\u001b[0m │\n",
              "│ (\u001b[38;5;33mBatchNormalizatio…\u001b[0m │                   │            │                   │\n",
              "├─────────────────────┼───────────────────┼────────────┼───────────────────┤\n",
              "│ user_dropout_2      │ (\u001b[38;5;45mNone\u001b[0m, \u001b[38;5;34m128\u001b[0m)       │          \u001b[38;5;34m0\u001b[0m │ user_bn_2[\u001b[38;5;34m0\u001b[0m][\u001b[38;5;34m0\u001b[0m]   │\n",
              "│ (\u001b[38;5;33mDropout\u001b[0m)           │                   │            │                   │\n",
              "├─────────────────────┼───────────────────┼────────────┼───────────────────┤\n",
              "│ item_dropout_2      │ (\u001b[38;5;45mNone\u001b[0m, \u001b[38;5;34m128\u001b[0m)       │          \u001b[38;5;34m0\u001b[0m │ item_bn_2[\u001b[38;5;34m0\u001b[0m][\u001b[38;5;34m0\u001b[0m]   │\n",
              "│ (\u001b[38;5;33mDropout\u001b[0m)           │                   │            │                   │\n",
              "├─────────────────────┼───────────────────┼────────────┼───────────────────┤\n",
              "│ user_output (\u001b[38;5;33mDense\u001b[0m) │ (\u001b[38;5;45mNone\u001b[0m, \u001b[38;5;34m64\u001b[0m)        │      \u001b[38;5;34m8,256\u001b[0m │ user_dropout_2[\u001b[38;5;34m0\u001b[0m… │\n",
              "├─────────────────────┼───────────────────┼────────────┼───────────────────┤\n",
              "│ item_output (\u001b[38;5;33mDense\u001b[0m) │ (\u001b[38;5;45mNone\u001b[0m, \u001b[38;5;34m64\u001b[0m)        │      \u001b[38;5;34m8,256\u001b[0m │ item_dropout_2[\u001b[38;5;34m0\u001b[0m… │\n",
              "├─────────────────────┼───────────────────┼────────────┼───────────────────┤\n",
              "│ user_norm           │ (\u001b[38;5;45mNone\u001b[0m, \u001b[38;5;34m64\u001b[0m)        │          \u001b[38;5;34m0\u001b[0m │ user_output[\u001b[38;5;34m0\u001b[0m][\u001b[38;5;34m0\u001b[0m] │\n",
              "│ (\u001b[38;5;33mUnitNormalization\u001b[0m) │                   │            │                   │\n",
              "├─────────────────────┼───────────────────┼────────────┼───────────────────┤\n",
              "│ item_norm           │ (\u001b[38;5;45mNone\u001b[0m, \u001b[38;5;34m64\u001b[0m)        │          \u001b[38;5;34m0\u001b[0m │ item_output[\u001b[38;5;34m0\u001b[0m][\u001b[38;5;34m0\u001b[0m] │\n",
              "│ (\u001b[38;5;33mUnitNormalization\u001b[0m) │                   │            │                   │\n",
              "├─────────────────────┼───────────────────┼────────────┼───────────────────┤\n",
              "│ dot_product (\u001b[38;5;33mDot\u001b[0m)   │ (\u001b[38;5;45mNone\u001b[0m, \u001b[38;5;34m1\u001b[0m)         │          \u001b[38;5;34m0\u001b[0m │ user_norm[\u001b[38;5;34m0\u001b[0m][\u001b[38;5;34m0\u001b[0m],  │\n",
              "│                     │                   │            │ item_norm[\u001b[38;5;34m0\u001b[0m][\u001b[38;5;34m0\u001b[0m]   │\n",
              "└─────────────────────┴───────────────────┴────────────┴───────────────────┘\n"
            ],
            "text/html": [
              "<pre style=\"white-space:pre;overflow-x:auto;line-height:normal;font-family:Menlo,'DejaVu Sans Mono',consolas,'Courier New',monospace\">┏━━━━━━━━━━━━━━━━━━━━━┳━━━━━━━━━━━━━━━━━━━┳━━━━━━━━━━━━┳━━━━━━━━━━━━━━━━━━━┓\n",
              "┃<span style=\"font-weight: bold\"> Layer (type)        </span>┃<span style=\"font-weight: bold\"> Output Shape      </span>┃<span style=\"font-weight: bold\">    Param # </span>┃<span style=\"font-weight: bold\"> Connected to      </span>┃\n",
              "┡━━━━━━━━━━━━━━━━━━━━━╇━━━━━━━━━━━━━━━━━━━╇━━━━━━━━━━━━╇━━━━━━━━━━━━━━━━━━━┩\n",
              "│ input_layer_6       │ (<span style=\"color: #00d7ff; text-decoration-color: #00d7ff\">None</span>, <span style=\"color: #00af00; text-decoration-color: #00af00\">15</span>)        │          <span style=\"color: #00af00; text-decoration-color: #00af00\">0</span> │ -                 │\n",
              "│ (<span style=\"color: #0087ff; text-decoration-color: #0087ff\">InputLayer</span>)        │                   │            │                   │\n",
              "├─────────────────────┼───────────────────┼────────────┼───────────────────┤\n",
              "│ input_layer_7       │ (<span style=\"color: #00d7ff; text-decoration-color: #00d7ff\">None</span>, <span style=\"color: #00af00; text-decoration-color: #00af00\">21</span>)        │          <span style=\"color: #00af00; text-decoration-color: #00af00\">0</span> │ -                 │\n",
              "│ (<span style=\"color: #0087ff; text-decoration-color: #0087ff\">InputLayer</span>)        │                   │            │                   │\n",
              "├─────────────────────┼───────────────────┼────────────┼───────────────────┤\n",
              "│ user_dense_0        │ (<span style=\"color: #00d7ff; text-decoration-color: #00d7ff\">None</span>, <span style=\"color: #00af00; text-decoration-color: #00af00\">512</span>)       │      <span style=\"color: #00af00; text-decoration-color: #00af00\">8,192</span> │ input_layer_6[<span style=\"color: #00af00; text-decoration-color: #00af00\">0</span>]… │\n",
              "│ (<span style=\"color: #0087ff; text-decoration-color: #0087ff\">Dense</span>)             │                   │            │                   │\n",
              "├─────────────────────┼───────────────────┼────────────┼───────────────────┤\n",
              "│ item_dense_0        │ (<span style=\"color: #00d7ff; text-decoration-color: #00d7ff\">None</span>, <span style=\"color: #00af00; text-decoration-color: #00af00\">512</span>)       │     <span style=\"color: #00af00; text-decoration-color: #00af00\">11,264</span> │ input_layer_7[<span style=\"color: #00af00; text-decoration-color: #00af00\">0</span>]… │\n",
              "│ (<span style=\"color: #0087ff; text-decoration-color: #0087ff\">Dense</span>)             │                   │            │                   │\n",
              "├─────────────────────┼───────────────────┼────────────┼───────────────────┤\n",
              "│ user_bn_0           │ (<span style=\"color: #00d7ff; text-decoration-color: #00d7ff\">None</span>, <span style=\"color: #00af00; text-decoration-color: #00af00\">512</span>)       │      <span style=\"color: #00af00; text-decoration-color: #00af00\">2,048</span> │ user_dense_0[<span style=\"color: #00af00; text-decoration-color: #00af00\">0</span>][<span style=\"color: #00af00; text-decoration-color: #00af00\">…</span> │\n",
              "│ (<span style=\"color: #0087ff; text-decoration-color: #0087ff\">BatchNormalizatio…</span> │                   │            │                   │\n",
              "├─────────────────────┼───────────────────┼────────────┼───────────────────┤\n",
              "│ item_bn_0           │ (<span style=\"color: #00d7ff; text-decoration-color: #00d7ff\">None</span>, <span style=\"color: #00af00; text-decoration-color: #00af00\">512</span>)       │      <span style=\"color: #00af00; text-decoration-color: #00af00\">2,048</span> │ item_dense_0[<span style=\"color: #00af00; text-decoration-color: #00af00\">0</span>][<span style=\"color: #00af00; text-decoration-color: #00af00\">…</span> │\n",
              "│ (<span style=\"color: #0087ff; text-decoration-color: #0087ff\">BatchNormalizatio…</span> │                   │            │                   │\n",
              "├─────────────────────┼───────────────────┼────────────┼───────────────────┤\n",
              "│ user_dropout_0      │ (<span style=\"color: #00d7ff; text-decoration-color: #00d7ff\">None</span>, <span style=\"color: #00af00; text-decoration-color: #00af00\">512</span>)       │          <span style=\"color: #00af00; text-decoration-color: #00af00\">0</span> │ user_bn_0[<span style=\"color: #00af00; text-decoration-color: #00af00\">0</span>][<span style=\"color: #00af00; text-decoration-color: #00af00\">0</span>]   │\n",
              "│ (<span style=\"color: #0087ff; text-decoration-color: #0087ff\">Dropout</span>)           │                   │            │                   │\n",
              "├─────────────────────┼───────────────────┼────────────┼───────────────────┤\n",
              "│ item_dropout_0      │ (<span style=\"color: #00d7ff; text-decoration-color: #00d7ff\">None</span>, <span style=\"color: #00af00; text-decoration-color: #00af00\">512</span>)       │          <span style=\"color: #00af00; text-decoration-color: #00af00\">0</span> │ item_bn_0[<span style=\"color: #00af00; text-decoration-color: #00af00\">0</span>][<span style=\"color: #00af00; text-decoration-color: #00af00\">0</span>]   │\n",
              "│ (<span style=\"color: #0087ff; text-decoration-color: #0087ff\">Dropout</span>)           │                   │            │                   │\n",
              "├─────────────────────┼───────────────────┼────────────┼───────────────────┤\n",
              "│ user_dense_1        │ (<span style=\"color: #00d7ff; text-decoration-color: #00d7ff\">None</span>, <span style=\"color: #00af00; text-decoration-color: #00af00\">256</span>)       │    <span style=\"color: #00af00; text-decoration-color: #00af00\">131,328</span> │ user_dropout_0[<span style=\"color: #00af00; text-decoration-color: #00af00\">0</span>… │\n",
              "│ (<span style=\"color: #0087ff; text-decoration-color: #0087ff\">Dense</span>)             │                   │            │                   │\n",
              "├─────────────────────┼───────────────────┼────────────┼───────────────────┤\n",
              "│ item_dense_1        │ (<span style=\"color: #00d7ff; text-decoration-color: #00d7ff\">None</span>, <span style=\"color: #00af00; text-decoration-color: #00af00\">256</span>)       │    <span style=\"color: #00af00; text-decoration-color: #00af00\">131,328</span> │ item_dropout_0[<span style=\"color: #00af00; text-decoration-color: #00af00\">0</span>… │\n",
              "│ (<span style=\"color: #0087ff; text-decoration-color: #0087ff\">Dense</span>)             │                   │            │                   │\n",
              "├─────────────────────┼───────────────────┼────────────┼───────────────────┤\n",
              "│ user_bn_1           │ (<span style=\"color: #00d7ff; text-decoration-color: #00d7ff\">None</span>, <span style=\"color: #00af00; text-decoration-color: #00af00\">256</span>)       │      <span style=\"color: #00af00; text-decoration-color: #00af00\">1,024</span> │ user_dense_1[<span style=\"color: #00af00; text-decoration-color: #00af00\">0</span>][<span style=\"color: #00af00; text-decoration-color: #00af00\">…</span> │\n",
              "│ (<span style=\"color: #0087ff; text-decoration-color: #0087ff\">BatchNormalizatio…</span> │                   │            │                   │\n",
              "├─────────────────────┼───────────────────┼────────────┼───────────────────┤\n",
              "│ item_bn_1           │ (<span style=\"color: #00d7ff; text-decoration-color: #00d7ff\">None</span>, <span style=\"color: #00af00; text-decoration-color: #00af00\">256</span>)       │      <span style=\"color: #00af00; text-decoration-color: #00af00\">1,024</span> │ item_dense_1[<span style=\"color: #00af00; text-decoration-color: #00af00\">0</span>][<span style=\"color: #00af00; text-decoration-color: #00af00\">…</span> │\n",
              "│ (<span style=\"color: #0087ff; text-decoration-color: #0087ff\">BatchNormalizatio…</span> │                   │            │                   │\n",
              "├─────────────────────┼───────────────────┼────────────┼───────────────────┤\n",
              "│ user_dropout_1      │ (<span style=\"color: #00d7ff; text-decoration-color: #00d7ff\">None</span>, <span style=\"color: #00af00; text-decoration-color: #00af00\">256</span>)       │          <span style=\"color: #00af00; text-decoration-color: #00af00\">0</span> │ user_bn_1[<span style=\"color: #00af00; text-decoration-color: #00af00\">0</span>][<span style=\"color: #00af00; text-decoration-color: #00af00\">0</span>]   │\n",
              "│ (<span style=\"color: #0087ff; text-decoration-color: #0087ff\">Dropout</span>)           │                   │            │                   │\n",
              "├─────────────────────┼───────────────────┼────────────┼───────────────────┤\n",
              "│ item_dropout_1      │ (<span style=\"color: #00d7ff; text-decoration-color: #00d7ff\">None</span>, <span style=\"color: #00af00; text-decoration-color: #00af00\">256</span>)       │          <span style=\"color: #00af00; text-decoration-color: #00af00\">0</span> │ item_bn_1[<span style=\"color: #00af00; text-decoration-color: #00af00\">0</span>][<span style=\"color: #00af00; text-decoration-color: #00af00\">0</span>]   │\n",
              "│ (<span style=\"color: #0087ff; text-decoration-color: #0087ff\">Dropout</span>)           │                   │            │                   │\n",
              "├─────────────────────┼───────────────────┼────────────┼───────────────────┤\n",
              "│ user_dense_2        │ (<span style=\"color: #00d7ff; text-decoration-color: #00d7ff\">None</span>, <span style=\"color: #00af00; text-decoration-color: #00af00\">128</span>)       │     <span style=\"color: #00af00; text-decoration-color: #00af00\">32,896</span> │ user_dropout_1[<span style=\"color: #00af00; text-decoration-color: #00af00\">0</span>… │\n",
              "│ (<span style=\"color: #0087ff; text-decoration-color: #0087ff\">Dense</span>)             │                   │            │                   │\n",
              "├─────────────────────┼───────────────────┼────────────┼───────────────────┤\n",
              "│ item_dense_2        │ (<span style=\"color: #00d7ff; text-decoration-color: #00d7ff\">None</span>, <span style=\"color: #00af00; text-decoration-color: #00af00\">128</span>)       │     <span style=\"color: #00af00; text-decoration-color: #00af00\">32,896</span> │ item_dropout_1[<span style=\"color: #00af00; text-decoration-color: #00af00\">0</span>… │\n",
              "│ (<span style=\"color: #0087ff; text-decoration-color: #0087ff\">Dense</span>)             │                   │            │                   │\n",
              "├─────────────────────┼───────────────────┼────────────┼───────────────────┤\n",
              "│ user_bn_2           │ (<span style=\"color: #00d7ff; text-decoration-color: #00d7ff\">None</span>, <span style=\"color: #00af00; text-decoration-color: #00af00\">128</span>)       │        <span style=\"color: #00af00; text-decoration-color: #00af00\">512</span> │ user_dense_2[<span style=\"color: #00af00; text-decoration-color: #00af00\">0</span>][<span style=\"color: #00af00; text-decoration-color: #00af00\">…</span> │\n",
              "│ (<span style=\"color: #0087ff; text-decoration-color: #0087ff\">BatchNormalizatio…</span> │                   │            │                   │\n",
              "├─────────────────────┼───────────────────┼────────────┼───────────────────┤\n",
              "│ item_bn_2           │ (<span style=\"color: #00d7ff; text-decoration-color: #00d7ff\">None</span>, <span style=\"color: #00af00; text-decoration-color: #00af00\">128</span>)       │        <span style=\"color: #00af00; text-decoration-color: #00af00\">512</span> │ item_dense_2[<span style=\"color: #00af00; text-decoration-color: #00af00\">0</span>][<span style=\"color: #00af00; text-decoration-color: #00af00\">…</span> │\n",
              "│ (<span style=\"color: #0087ff; text-decoration-color: #0087ff\">BatchNormalizatio…</span> │                   │            │                   │\n",
              "├─────────────────────┼───────────────────┼────────────┼───────────────────┤\n",
              "│ user_dropout_2      │ (<span style=\"color: #00d7ff; text-decoration-color: #00d7ff\">None</span>, <span style=\"color: #00af00; text-decoration-color: #00af00\">128</span>)       │          <span style=\"color: #00af00; text-decoration-color: #00af00\">0</span> │ user_bn_2[<span style=\"color: #00af00; text-decoration-color: #00af00\">0</span>][<span style=\"color: #00af00; text-decoration-color: #00af00\">0</span>]   │\n",
              "│ (<span style=\"color: #0087ff; text-decoration-color: #0087ff\">Dropout</span>)           │                   │            │                   │\n",
              "├─────────────────────┼───────────────────┼────────────┼───────────────────┤\n",
              "│ item_dropout_2      │ (<span style=\"color: #00d7ff; text-decoration-color: #00d7ff\">None</span>, <span style=\"color: #00af00; text-decoration-color: #00af00\">128</span>)       │          <span style=\"color: #00af00; text-decoration-color: #00af00\">0</span> │ item_bn_2[<span style=\"color: #00af00; text-decoration-color: #00af00\">0</span>][<span style=\"color: #00af00; text-decoration-color: #00af00\">0</span>]   │\n",
              "│ (<span style=\"color: #0087ff; text-decoration-color: #0087ff\">Dropout</span>)           │                   │            │                   │\n",
              "├─────────────────────┼───────────────────┼────────────┼───────────────────┤\n",
              "│ user_output (<span style=\"color: #0087ff; text-decoration-color: #0087ff\">Dense</span>) │ (<span style=\"color: #00d7ff; text-decoration-color: #00d7ff\">None</span>, <span style=\"color: #00af00; text-decoration-color: #00af00\">64</span>)        │      <span style=\"color: #00af00; text-decoration-color: #00af00\">8,256</span> │ user_dropout_2[<span style=\"color: #00af00; text-decoration-color: #00af00\">0</span>… │\n",
              "├─────────────────────┼───────────────────┼────────────┼───────────────────┤\n",
              "│ item_output (<span style=\"color: #0087ff; text-decoration-color: #0087ff\">Dense</span>) │ (<span style=\"color: #00d7ff; text-decoration-color: #00d7ff\">None</span>, <span style=\"color: #00af00; text-decoration-color: #00af00\">64</span>)        │      <span style=\"color: #00af00; text-decoration-color: #00af00\">8,256</span> │ item_dropout_2[<span style=\"color: #00af00; text-decoration-color: #00af00\">0</span>… │\n",
              "├─────────────────────┼───────────────────┼────────────┼───────────────────┤\n",
              "│ user_norm           │ (<span style=\"color: #00d7ff; text-decoration-color: #00d7ff\">None</span>, <span style=\"color: #00af00; text-decoration-color: #00af00\">64</span>)        │          <span style=\"color: #00af00; text-decoration-color: #00af00\">0</span> │ user_output[<span style=\"color: #00af00; text-decoration-color: #00af00\">0</span>][<span style=\"color: #00af00; text-decoration-color: #00af00\">0</span>] │\n",
              "│ (<span style=\"color: #0087ff; text-decoration-color: #0087ff\">UnitNormalization</span>) │                   │            │                   │\n",
              "├─────────────────────┼───────────────────┼────────────┼───────────────────┤\n",
              "│ item_norm           │ (<span style=\"color: #00d7ff; text-decoration-color: #00d7ff\">None</span>, <span style=\"color: #00af00; text-decoration-color: #00af00\">64</span>)        │          <span style=\"color: #00af00; text-decoration-color: #00af00\">0</span> │ item_output[<span style=\"color: #00af00; text-decoration-color: #00af00\">0</span>][<span style=\"color: #00af00; text-decoration-color: #00af00\">0</span>] │\n",
              "│ (<span style=\"color: #0087ff; text-decoration-color: #0087ff\">UnitNormalization</span>) │                   │            │                   │\n",
              "├─────────────────────┼───────────────────┼────────────┼───────────────────┤\n",
              "│ dot_product (<span style=\"color: #0087ff; text-decoration-color: #0087ff\">Dot</span>)   │ (<span style=\"color: #00d7ff; text-decoration-color: #00d7ff\">None</span>, <span style=\"color: #00af00; text-decoration-color: #00af00\">1</span>)         │          <span style=\"color: #00af00; text-decoration-color: #00af00\">0</span> │ user_norm[<span style=\"color: #00af00; text-decoration-color: #00af00\">0</span>][<span style=\"color: #00af00; text-decoration-color: #00af00\">0</span>],  │\n",
              "│                     │                   │            │ item_norm[<span style=\"color: #00af00; text-decoration-color: #00af00\">0</span>][<span style=\"color: #00af00; text-decoration-color: #00af00\">0</span>]   │\n",
              "└─────────────────────┴───────────────────┴────────────┴───────────────────┘\n",
              "</pre>\n"
            ]
          },
          "metadata": {}
        },
        {
          "output_type": "display_data",
          "data": {
            "text/plain": [
              "\u001b[1m Total params: \u001b[0m\u001b[38;5;34m1,107,586\u001b[0m (4.23 MB)\n"
            ],
            "text/html": [
              "<pre style=\"white-space:pre;overflow-x:auto;line-height:normal;font-family:Menlo,'DejaVu Sans Mono',consolas,'Courier New',monospace\"><span style=\"font-weight: bold\"> Total params: </span><span style=\"color: #00af00; text-decoration-color: #00af00\">1,107,586</span> (4.23 MB)\n",
              "</pre>\n"
            ]
          },
          "metadata": {}
        },
        {
          "output_type": "display_data",
          "data": {
            "text/plain": [
              "\u001b[1m Trainable params: \u001b[0m\u001b[38;5;34m368,000\u001b[0m (1.40 MB)\n"
            ],
            "text/html": [
              "<pre style=\"white-space:pre;overflow-x:auto;line-height:normal;font-family:Menlo,'DejaVu Sans Mono',consolas,'Courier New',monospace\"><span style=\"font-weight: bold\"> Trainable params: </span><span style=\"color: #00af00; text-decoration-color: #00af00\">368,000</span> (1.40 MB)\n",
              "</pre>\n"
            ]
          },
          "metadata": {}
        },
        {
          "output_type": "display_data",
          "data": {
            "text/plain": [
              "\u001b[1m Non-trainable params: \u001b[0m\u001b[38;5;34m3,584\u001b[0m (14.00 KB)\n"
            ],
            "text/html": [
              "<pre style=\"white-space:pre;overflow-x:auto;line-height:normal;font-family:Menlo,'DejaVu Sans Mono',consolas,'Courier New',monospace\"><span style=\"font-weight: bold\"> Non-trainable params: </span><span style=\"color: #00af00; text-decoration-color: #00af00\">3,584</span> (14.00 KB)\n",
              "</pre>\n"
            ]
          },
          "metadata": {}
        },
        {
          "output_type": "display_data",
          "data": {
            "text/plain": [
              "\u001b[1m Optimizer params: \u001b[0m\u001b[38;5;34m736,002\u001b[0m (2.81 MB)\n"
            ],
            "text/html": [
              "<pre style=\"white-space:pre;overflow-x:auto;line-height:normal;font-family:Menlo,'DejaVu Sans Mono',consolas,'Courier New',monospace\"><span style=\"font-weight: bold\"> Optimizer params: </span><span style=\"color: #00af00; text-decoration-color: #00af00\">736,002</span> (2.81 MB)\n",
              "</pre>\n"
            ]
          },
          "metadata": {}
        }
      ]
    },
    {
      "cell_type": "markdown",
      "source": [
        "#COMPREHENSIVE EVALUATION METRICS"
      ],
      "metadata": {
        "id": "0r4WRMslefJX"
      }
    },
    {
      "cell_type": "code",
      "source": [
        "def calculate_precision_recall_at_k(y_true, y_pred, k=10):\n",
        "    \"\"\"Calculate Precision@K and Recall@K\"\"\"\n",
        "    # Get top-k predictions for each user\n",
        "    top_k_items = np.argsort(y_pred)[::-1][:k]\n",
        "\n",
        "    # Calculate precision and recall\n",
        "    relevant_items = np.where(y_true >= 4.0)[0]  # Items rated 4+ are relevant\n",
        "\n",
        "    if len(relevant_items) == 0:\n",
        "        return 0.0, 0.0\n",
        "\n",
        "    recommended_relevant = len(set(top_k_items) & set(relevant_items))\n",
        "\n",
        "    precision = recommended_relevant / k if k > 0 else 0\n",
        "    recall = recommended_relevant / len(relevant_items) if len(relevant_items) > 0 else 0\n",
        "\n",
        "    return precision, recall\n",
        "def calculate_ndcg_at_k(y_true, y_pred, k=10):\n",
        "    \"\"\"Calculate NDCG@K (Normalized Discounted Cumulative Gain)\"\"\"\n",
        "    # Get top-k predictions\n",
        "    top_k_indices = np.argsort(y_pred)[::-1][:k]\n",
        "\n",
        "    # Calculate DCG@K\n",
        "    dcg = 0.0\n",
        "    for i, idx in enumerate(top_k_indices):\n",
        "        relevance = y_true[idx] if idx < len(y_true) else 0\n",
        "        dcg += (2**relevance - 1) / np.log2(i + 2)\n",
        "\n",
        "    # Calculate IDCG@K (Ideal DCG)\n",
        "    ideal_relevances = sorted(y_true, reverse=True)[:k]\n",
        "    idcg = 0.0\n",
        "    for i, relevance in enumerate(ideal_relevances):\n",
        "        idcg += (2**relevance - 1) / np.log2(i + 2)\n",
        "\n",
        "    # Calculate NDCG\n",
        "    ndcg = dcg / idcg if idcg > 0 else 0.0\n",
        "    return ndcg\n",
        "\n",
        "def evaluate_model_comprehensive(model, X_user, X_item, y_true, y_scaler, model_name=\"Model\"):\n",
        "    \"\"\"Comprehensive model evaluation\"\"\"\n",
        "    print(f\"\\n=== EVALUATING {model_name.upper()} ===\")\n",
        "\n",
        "    # Make predictions\n",
        "    y_pred_norm = model.predict([X_user, X_item], verbose=0)\n",
        "    y_pred = y_scaler.inverse_transform(y_pred_norm)\n",
        "\n",
        "    # Basic metrics\n",
        "    mse = mean_squared_error(y_true, y_pred)\n",
        "    mae = mean_absolute_error(y_true, y_pred)\n",
        "    rmse = np.sqrt(mse)\n",
        "\n",
        "    # Advanced metrics\n",
        "    precision_5, recall_5 = calculate_precision_recall_at_k(y_true.flatten(), y_pred.flatten(), k=5)\n",
        "    precision_10, recall_10 = calculate_precision_recall_at_k(y_true.flatten(), y_pred.flatten(), k=10)\n",
        "    ndcg_5 = calculate_ndcg_at_k(y_true.flatten(), y_pred.flatten(), k=5)\n",
        "    ndcg_10 = calculate_ndcg_at_k(y_true.flatten(), y_pred.flatten(), k=10)\n",
        "\n",
        "    # Coverage and diversity metrics\n",
        "    unique_predictions = len(set(y_pred.flatten()))\n",
        "    total_items = len(y_pred.flatten())\n",
        "    coverage = unique_predictions / total_items\n",
        "\n",
        "    # Create evaluation results\n",
        "    results = {\n",
        "        'MSE': mse,\n",
        "        'MAE': mae,\n",
        "        'RMSE': rmse,\n",
        "        'Precision@5': precision_5,\n",
        "        'Recall@5': recall_5,\n",
        "        'Precision@10': precision_10,\n",
        "        'Recall@10': recall_10,\n",
        "        'NDCG@5': ndcg_5,\n",
        "        'NDCG@10': ndcg_10,\n",
        "        'Coverage': coverage\n",
        "    }\n",
        "\n",
        "    # Print results\n",
        "    for metric, value in results.items():\n",
        "        print(f\"{metric}: {value:.4f}\")\n",
        "\n",
        "    return results, y_pred\n",
        "\n",
        "# Evaluate final model\n",
        "train_results, train_pred = evaluate_model_comprehensive(\n",
        "    final_model,\n",
        "    users_train[user_features],\n",
        "    items_train[item_features],\n",
        "    y_train_true,\n",
        "    y_scaler,\n",
        "    \"Final Model (Training)\"\n",
        ")\n",
        "\n",
        "test_results, test_pred = evaluate_model_comprehensive(\n",
        "    final_model,\n",
        "    users_test[user_features],\n",
        "    items_test[item_features],\n",
        "    y_test_true,\n",
        "    y_scaler,\n",
        "    \"Final Model (Testing)\"\n",
        ")\n"
      ],
      "metadata": {
        "colab": {
          "base_uri": "https://localhost:8080/",
          "height": 0
        },
        "id": "iOyDsew3egh3",
        "outputId": "29397406-a433-4bc7-fd01-1097abe60009"
      },
      "execution_count": 29,
      "outputs": [
        {
          "output_type": "stream",
          "name": "stdout",
          "text": [
            "\n",
            "=== EVALUATING FINAL MODEL (TRAINING) ===\n",
            "MSE: 0.4970\n",
            "MAE: 0.5322\n",
            "RMSE: 0.7050\n",
            "Precision@5: 1.0000\n",
            "Recall@5: 0.0002\n",
            "Precision@10: 1.0000\n",
            "Recall@10: 0.0004\n",
            "NDCG@5: 0.8448\n",
            "NDCG@10: 0.8588\n",
            "Coverage: 0.9962\n",
            "\n",
            "=== EVALUATING FINAL MODEL (TESTING) ===\n",
            "MSE: 0.5351\n",
            "MAE: 0.5510\n",
            "RMSE: 0.7315\n",
            "Precision@5: 1.0000\n",
            "Recall@5: 0.0009\n",
            "Precision@10: 1.0000\n",
            "Recall@10: 0.0017\n",
            "NDCG@5: 1.0000\n",
            "NDCG@10: 0.9313\n",
            "Coverage: 0.9990\n"
          ]
        }
      ]
    },
    {
      "cell_type": "markdown",
      "source": [
        "#BASELINE COMPARISON"
      ],
      "metadata": {
        "id": "ivVJ4hP5e3d9"
      }
    },
    {
      "cell_type": "code",
      "source": [
        "# Create baseline models for comparison\n",
        "print(\"\\n=== TRAINING BASELINE MODELS ===\")\n"
      ],
      "metadata": {
        "colab": {
          "base_uri": "https://localhost:8080/",
          "height": 0
        },
        "id": "bTKcR7XsfL1J",
        "outputId": "7cf1846c-47fc-4216-dde2-4aeb34a819a5"
      },
      "execution_count": 30,
      "outputs": [
        {
          "output_type": "stream",
          "name": "stdout",
          "text": [
            "\n",
            "=== TRAINING BASELINE MODELS ===\n"
          ]
        }
      ]
    },
    {
      "cell_type": "code",
      "source": [
        "random_baseline = DummyRegressor(strategy='median')\n",
        "random_baseline.fit(users_train[user_features], y_train_true.ravel())\n",
        "random_pred = random_baseline.predict(users_test[user_features])\n",
        "\n",
        "#  Mean baseline\n",
        "mean_baseline = DummyRegressor(strategy='mean')\n",
        "mean_baseline.fit(users_train[user_features], y_train_true.ravel())\n",
        "mean_pred = mean_baseline.predict(users_test[user_features])"
      ],
      "metadata": {
        "id": "T7wL-0tDfEVp"
      },
      "execution_count": 31,
      "outputs": []
    },
    {
      "cell_type": "code",
      "source": [
        "#  Simple collaborative filtering baseline\n",
        "def simple_collaborative_filtering(user_item_matrix, user_id, n_recommendations=10):\n",
        "    \"\"\"Simple user-based collaborative filtering\"\"\"\n",
        "    if user_id not in user_item_matrix.index:\n",
        "        return user_item_matrix.mean().sort_values(ascending=False).head(n_recommendations)\n",
        "\n",
        "    user_ratings = user_item_matrix.loc[user_id]\n",
        "    user_similarity = cosine_similarity([user_ratings], user_item_matrix)[0]\n",
        "\n",
        "    # Find similar users\n",
        "    similar_users = np.argsort(user_similarity)[::-1][1:11]  # Top 10 similar users\n",
        "\n",
        "    # Get recommendations\n",
        "    recommendations = user_item_matrix.iloc[similar_users].mean(axis=0)\n",
        "\n",
        "    # Remove already rated items\n",
        "    unrated_items = user_ratings[user_ratings == 0].index\n",
        "    recommendations = recommendations[unrated_items]\n",
        "\n",
        "    return recommendations.sort_values(ascending=False).head(n_recommendations)\n",
        "\n",
        "# Evaluate baselines\n",
        "print(\"\\n=== BASELINE EVALUATION ===\")\n",
        "\n",
        "# Random baseline evaluation\n",
        "random_mse = mean_squared_error(y_test_true, random_pred.reshape(-1, 1))\n",
        "random_mae = mean_absolute_error(y_test_true, random_pred.reshape(-1, 1))\n",
        "print(f\"Random Baseline - MSE: {random_mse:.4f}, MAE: {random_mae:.4f}\")\n",
        "\n",
        "# Mean baseline evaluation\n",
        "mean_mse = mean_squared_error(y_test_true, mean_pred.reshape(-1, 1))\n",
        "mean_mae = mean_absolute_error(y_test_true, mean_pred.reshape(-1, 1))\n",
        "print(f\"Mean Baseline - MSE: {mean_mse:.4f}, MAE: {mean_mae:.4f}\")\n"
      ],
      "metadata": {
        "colab": {
          "base_uri": "https://localhost:8080/",
          "height": 0
        },
        "id": "JWYoev26e4UY",
        "outputId": "d61988ad-349a-4b19-e5fc-42b84ed31ddb"
      },
      "execution_count": 32,
      "outputs": [
        {
          "output_type": "stream",
          "name": "stdout",
          "text": [
            "\n",
            "=== BASELINE EVALUATION ===\n",
            "Random Baseline - MSE: 0.9916, MAE: 0.7758\n",
            "Mean Baseline - MSE: 0.9892, MAE: 0.7769\n"
          ]
        }
      ]
    },
    {
      "cell_type": "markdown",
      "source": [
        "#HYBRID RECOMMENDATION SYSTEM"
      ],
      "metadata": {
        "id": "0nEZe-DxfT-K"
      }
    },
    {
      "cell_type": "code",
      "source": [
        "# HYBRID RECOMMENDATION SYSTEM - FIXED\n",
        "# %%\n",
        "print(\"\\n\" + \"=\"*60)\n",
        "print(\"HYBRID RECOMMENDATION SYSTEM - FIXED\")\n",
        "print(\"=\"*60)\n",
        "\n",
        "# %%\n",
        "# Define the HybridRecommendationSystem class with fixes\n",
        "class HybridRecommendationSystem:\n",
        "    def __init__(self, content_model, collaborative_model, user_item_matrix,\n",
        "                 item_features_df, user_scaler, item_scaler, target_scaler):\n",
        "        self.content_model = content_model\n",
        "        self.collaborative_model = collaborative_model\n",
        "        self.user_item_matrix = user_item_matrix\n",
        "        self.user_scaler = user_scaler\n",
        "        self.item_scaler = item_scaler\n",
        "        self.target_scaler = target_scaler\n",
        "\n",
        "        # Store original item features with movieId for reference\n",
        "        self.item_features_df = item_features_df\n",
        "\n",
        "        # Ensure we're only using the feature columns (excluding ID columns)\n",
        "        if 'movieId' in item_features_df.columns:\n",
        "            self.item_features_only = item_features_df.drop(columns=['movieId'])\n",
        "            self.item_ids = item_features_df['movieId']\n",
        "        else:\n",
        "            self.item_features_only = item_features_df\n",
        "            self.item_ids = item_features_df.index\n",
        "\n",
        "    def get_content_recommendations(self, user_features, n_recommendations=10):\n",
        "        \"\"\"Get recommendations using content-based filtering\"\"\"\n",
        "        recommendations = []\n",
        "\n",
        "        # Scale user features - remove userId from features if it exists\n",
        "        user_features_for_model = user_features[1:] if len(user_features) > len(self.user_scaler.feature_names_in_ if hasattr(self.user_scaler, 'feature_names_in_') else []) else user_features\n",
        "        user_features_array = np.array(user_features_for_model).reshape(1, -1)\n",
        "\n",
        "        # Only scale if scaler is available\n",
        "        if self.user_scaler is not None:\n",
        "            user_features_scaled = self.user_scaler.transform(user_features_array)\n",
        "        else:\n",
        "            user_features_scaled = user_features_array\n",
        "\n",
        "        # Get predictions for all items\n",
        "        for idx, (_, item_row) in enumerate(self.item_features_only.iterrows()):\n",
        "            try:\n",
        "                # Get item features as array\n",
        "                item_features_array = item_row.values.reshape(1, -1)\n",
        "\n",
        "                # Only scale if scaler is available\n",
        "                if self.item_scaler is not None:\n",
        "                    item_features_scaled = self.item_scaler.transform(item_features_array)\n",
        "                else:\n",
        "                    item_features_scaled = item_features_array\n",
        "\n",
        "                # Predict rating\n",
        "                pred_norm = self.content_model.predict([user_features_scaled, item_features_scaled], verbose=0)\n",
        "                pred_rating = self.target_scaler.inverse_transform(pred_norm)[0][0]\n",
        "\n",
        "                recommendations.append({\n",
        "                    'movieId': int(self.item_ids.iloc[idx]),\n",
        "                    'predicted_rating': pred_rating,\n",
        "                    'method': 'content'\n",
        "                })\n",
        "            except Exception as e:\n",
        "                print(f\"Warning: Error processing item at index {idx}: {e}\")\n",
        "                continue\n",
        "\n",
        "        # Sort by predicted rating\n",
        "        recommendations.sort(key=lambda x: x['predicted_rating'], reverse=True)\n",
        "        return recommendations[:n_recommendations]\n",
        "\n",
        "    def get_collaborative_recommendations(self, user_id, n_recommendations=10):\n",
        "        \"\"\"Get recommendations using collaborative filtering\"\"\"\n",
        "        if user_id not in self.user_item_matrix.index:\n",
        "            # Cold start problem - return popular items\n",
        "            popular_items = self.user_item_matrix.mean().sort_values(ascending=False)\n",
        "            return [{'movieId': int(movie_id), 'predicted_rating': rating, 'method': 'popular'}\n",
        "                    for movie_id, rating in popular_items.head(n_recommendations).items()]\n",
        "\n",
        "        # Get user-based collaborative filtering recommendations\n",
        "        user_ratings = self.user_item_matrix.loc[user_id]\n",
        "        unrated_items = user_ratings[user_ratings == 0].index\n",
        "\n",
        "        recommendations = []\n",
        "        for movie_id in unrated_items:\n",
        "            try:\n",
        "                # Ensure movie_id exists in user_item_matrix columns before getting location\n",
        "                if movie_id in self.user_item_matrix.columns:\n",
        "                    movie_idx = self.user_item_matrix.columns.get_loc(movie_id)\n",
        "                    user_idx = self.user_item_matrix.index.get_loc(user_id)\n",
        "\n",
        "                    pred_rating = self.collaborative_model.predict_user_based(user_idx, movie_idx)\n",
        "                    recommendations.append({\n",
        "                        'movieId': int(movie_id),\n",
        "                        'predicted_rating': pred_rating,\n",
        "                        'method': 'collaborative'\n",
        "                    })\n",
        "                else:\n",
        "                    print(f\"Warning: Movie ID {movie_id} not found in user_item_matrix columns.\")\n",
        "            except Exception as e:\n",
        "                print(f\"Error during collaborative prediction for movie {movie_id}: {e}\")\n",
        "                continue\n",
        "\n",
        "        # Sort by predicted rating\n",
        "        recommendations.sort(key=lambda x: x['predicted_rating'], reverse=True)\n",
        "        return recommendations[:n_recommendations]\n",
        "\n",
        "    def get_hybrid_recommendations(self, user_id, user_features, n_recommendations=10,\n",
        "                                   content_weight=0.6, collaborative_weight=0.4):\n",
        "        \"\"\"Get hybrid recommendations combining both methods\"\"\"\n",
        "        # Get recommendations from both methods\n",
        "        content_recs = self.get_content_recommendations(user_features, n_recommendations*2)\n",
        "        collab_recs = self.get_collaborative_recommendations(user_id, n_recommendations*2)\n",
        "\n",
        "        # Combine recommendations with weighted scores\n",
        "        hybrid_scores = {}\n",
        "\n",
        "        # Add content-based scores\n",
        "        for rec in content_recs:\n",
        "            movie_id = rec['movieId']\n",
        "            hybrid_scores[movie_id] = {\n",
        "                'content_score': rec['predicted_rating'],\n",
        "                'collaborative_score': 0,\n",
        "                'hybrid_score': rec['predicted_rating'] * content_weight\n",
        "            }\n",
        "\n",
        "        # Add collaborative scores\n",
        "        for rec in collab_recs:\n",
        "            movie_id = rec['movieId']\n",
        "            if movie_id in hybrid_scores:\n",
        "                hybrid_scores[movie_id]['collaborative_score'] = rec['predicted_rating']\n",
        "                hybrid_scores[movie_id]['hybrid_score'] += rec['predicted_rating'] * collaborative_weight\n",
        "            else:\n",
        "                hybrid_scores[movie_id] = {\n",
        "                    'content_score': 0,\n",
        "                    'collaborative_score': rec['predicted_rating'],\n",
        "                    'hybrid_score': rec['predicted_rating'] * collaborative_weight\n",
        "                }\n",
        "\n",
        "        # Sort by hybrid score\n",
        "        sorted_recommendations = sorted(\n",
        "            hybrid_scores.items(),\n",
        "            key=lambda x: x[1]['hybrid_score'],\n",
        "            reverse=True\n",
        "        )\n",
        "\n",
        "        # Format final recommendations\n",
        "        final_recommendations = []\n",
        "        for movie_id, scores in sorted_recommendations[:n_recommendations]:\n",
        "            # Retrieve movie title from movie_list\n",
        "            movie_title = movie_list[movie_list['movieId'] == movie_id]['title'].iloc[0] if movie_id in movie_list['movieId'].values else \"Unknown Title\"\n",
        "\n",
        "            final_recommendations.append({\n",
        "                'movieId': movie_id,\n",
        "                'title': movie_title,\n",
        "                'content_score': scores['content_score'],\n",
        "                'collaborative_score': scores['collaborative_score'],\n",
        "                'hybrid_score': scores['hybrid_score'],\n",
        "                'method': 'hybrid'\n",
        "            })\n",
        "\n",
        "        return final_recommendations\n",
        "\n",
        "\n",
        "# Initialize hybrid system with fixed parameters\n",
        "hybrid_system = HybridRecommendationSystem(\n",
        "    content_model=final_model,\n",
        "    collaborative_model=cf_model,\n",
        "    user_item_matrix=user_item_df,\n",
        "    item_features_df=items_normalized,\n",
        "    user_scaler=scaler_users if 'scaledata' in globals() and scaledata else None,\n",
        "    item_scaler=scaler_items if 'scaledata' in globals() and scaledata else None,\n",
        "    target_scaler=y_scaler\n",
        ")\n",
        "\n"
      ],
      "metadata": {
        "colab": {
          "base_uri": "https://localhost:8080/",
          "height": 0
        },
        "id": "DJxqcocofmfy",
        "outputId": "25149884-8964-415a-d3ce-7a2dfc18b121"
      },
      "execution_count": 33,
      "outputs": [
        {
          "output_type": "stream",
          "name": "stdout",
          "text": [
            "\n",
            "============================================================\n",
            "HYBRID RECOMMENDATION SYSTEM - FIXED\n",
            "============================================================\n"
          ]
        }
      ]
    },
    {
      "cell_type": "markdown",
      "source": [
        "#DEMONSTRATION & TESTING"
      ],
      "metadata": {
        "id": "LRm-Gr7Mf5OY"
      }
    },
    {
      "cell_type": "code",
      "source": [
        "# Test hybrid system with sample user - FIXED VERSION\n",
        "sample_user_id = list(user_to_genre.keys())[0]\n",
        "sample_user_data = user_to_genre[sample_user_id]\n",
        "\n",
        "print(f\"\\n=== TESTING WITH USER {sample_user_id} ===\")\n",
        "print(f\"User rating count: {sample_user_data['rating_count']}\")\n",
        "print(f\"User average rating: {sample_user_data['rating_ave']:.2f}\")\n",
        "\n",
        "# Create user feature vector for testing - EXCLUDE userId for model prediction\n",
        "sample_user_features = np.array([\n",
        "    sample_user_data['rating_count'],\n",
        "    sample_user_data['rating_ave']\n",
        "] + sample_user_data['glist'][0].tolist())\n",
        "\n",
        "# Get recommendations using different methods\n",
        "print(\"\\n=== CONTENT-BASED RECOMMENDATIONS ===\")\n",
        "try:\n",
        "    content_recs = hybrid_system.get_content_recommendations(sample_user_features, 5)\n",
        "    for i, rec in enumerate(content_recs, 1):\n",
        "        movie_info = movie_list[movie_list['movieId'] == rec['movieId']]\n",
        "        if not movie_info.empty:\n",
        "            title = movie_info.iloc[0]['title']\n",
        "            print(f\"{i}. {title} (Score: {rec['predicted_rating']:.2f})\")\n",
        "        else:\n",
        "            print(f\"{i}. Movie ID {rec['movieId']} (Score: {rec['predicted_rating']:.2f})\")\n",
        "except Exception as e:\n",
        "    print(f\"Error in content-based recommendations: {e}\")\n",
        "\n",
        "print(\"\\n=== COLLABORATIVE FILTERING RECOMMENDATIONS ===\")\n",
        "try:\n",
        "    collab_recs = hybrid_system.get_collaborative_recommendations(sample_user_id, 5)\n",
        "    for i, rec in enumerate(collab_recs, 1):\n",
        "        movie_info = movie_list[movie_list['movieId'] == rec['movieId']]\n",
        "        if not movie_info.empty:\n",
        "            title = movie_info.iloc[0]['title']\n",
        "            print(f\"{i}. {title} (Score: {rec['predicted_rating']:.2f})\")\n",
        "        else:\n",
        "            print(f\"{i}. Movie ID {rec['movieId']} (Score: {rec['predicted_rating']:.2f})\")\n",
        "except Exception as e:\n",
        "    print(f\"Error in collaborative filtering recommendations: {e}\")\n",
        "\n",
        "print(\"\\n=== HYBRID RECOMMENDATIONS ===\")\n",
        "try:\n",
        "    hybrid_recs = hybrid_system.get_hybrid_recommendations(sample_user_id, sample_user_features, 5)\n",
        "    for i, rec in enumerate(hybrid_recs, 1):\n",
        "        print(f\"{i}. {rec['title']}\")\n",
        "        print(f\"   Content Score: {rec['content_score']:.2f}\")\n",
        "        print(f\"   Collaborative Score: {rec['collaborative_score']:.2f}\")\n",
        "        print(f\"   Hybrid Score: {rec['hybrid_score']:.2f}\")\n",
        "except Exception as e:\n",
        "    print(f\"Error in hybrid recommendations: {e}\")"
      ],
      "metadata": {
        "colab": {
          "base_uri": "https://localhost:8080/",
          "height": 0
        },
        "id": "SSwmr0Bcf6mM",
        "outputId": "e98c2f3e-d22a-48c6-b6f1-72cc7d9bec13"
      },
      "execution_count": 34,
      "outputs": [
        {
          "output_type": "stream",
          "name": "stdout",
          "text": [
            "\n",
            "=== TESTING WITH USER 2 ===\n",
            "User rating count: 16\n",
            "User average rating: 4.06\n",
            "\n",
            "=== CONTENT-BASED RECOMMENDATIONS ===\n",
            "Error in content-based recommendations: X has 16 features, but StandardScaler is expecting 17 features as input.\n",
            "\n",
            "=== COLLABORATIVE FILTERING RECOMMENDATIONS ===\n",
            "1. Limitless (2011) (Score: 5.00)\n",
            "2. Elite Squad (Tropa de Elite) (2007) (Score: 5.00)\n",
            "3. Ocean's Eleven (2001) (Score: 5.00)\n",
            "4. Catch Me If You Can (2002) (Score: 5.00)\n",
            "5. Notebook, The (2004) (Score: 5.00)\n",
            "\n",
            "=== HYBRID RECOMMENDATIONS ===\n",
            "Error in hybrid recommendations: X has 16 features, but StandardScaler is expecting 17 features as input.\n"
          ]
        }
      ]
    },
    {
      "cell_type": "markdown",
      "source": [
        "#COMPREHENSIVE VISUALIZATION"
      ],
      "metadata": {
        "id": "4TjnEw0ngOI1"
      }
    },
    {
      "cell_type": "code",
      "source": [
        "# Training history visualization\n",
        "plt.figure(figsize=(15, 10))\n",
        "\n",
        "# Plot 1: Training/Validation Loss\n",
        "plt.subplot(2, 3, 1)\n",
        "plt.plot(history.history['loss'], label='Training Loss')\n",
        "plt.plot(history.history['val_loss'], label='Validation Loss')\n",
        "plt.title('Model Loss Over Time')\n",
        "plt.xlabel('Epoch')\n",
        "plt.ylabel('Loss')\n",
        "plt.legend()"
      ],
      "metadata": {
        "id": "lMTIS_yngQAj",
        "colab": {
          "base_uri": "https://localhost:8080/",
          "height": 469
        },
        "outputId": "ef47922f-65a4-4a6b-a10d-5bbe1b229b3d"
      },
      "execution_count": 35,
      "outputs": [
        {
          "output_type": "execute_result",
          "data": {
            "text/plain": [
              "<matplotlib.legend.Legend at 0x799b14a39150>"
            ]
          },
          "metadata": {},
          "execution_count": 35
        },
        {
          "output_type": "display_data",
          "data": {
            "text/plain": [
              "<Figure size 1500x1000 with 1 Axes>"
            ],
            "image/png": "[encoded data removed]"
          },
          "metadata": {}
        }
      ]
    },
    {
      "cell_type": "code",
      "source": [
        "# Plot 2: Training/Validation MAE\n",
        "plt.subplot(2, 3, 2)\n",
        "plt.plot(history.history['mae'], label='Training MAE')\n",
        "plt.plot(history.history['val_mae'], label='Validation MAE')\n",
        "plt.title('Model MAE Over Time')\n",
        "plt.xlabel('Epoch')\n",
        "plt.ylabel('MAE')\n",
        "plt.legend()"
      ],
      "metadata": {
        "id": "pAQd6V8XgYZ3",
        "colab": {
          "base_uri": "https://localhost:8080/",
          "height": 287
        },
        "outputId": "18a82569-0999-4d49-b34f-788b108d6187"
      },
      "execution_count": 36,
      "outputs": [
        {
          "output_type": "execute_result",
          "data": {
            "text/plain": [
              "<matplotlib.legend.Legend at 0x799b19223150>"
            ]
          },
          "metadata": {},
          "execution_count": 36
        },
        {
          "output_type": "display_data",
          "data": {
            "text/plain": [
              "<Figure size 640x480 with 1 Axes>"
            ],
            "image/png": "[encoded data removed]"
          },
          "metadata": {}
        }
      ]
    },
    {
      "cell_type": "code",
      "source": [
        "# Plot 3: Prediction vs Actual (Test Set)\n",
        "plt.subplot(2, 3, 3)\n",
        "plt.scatter(y_test_true, test_pred, alpha=0.5)\n",
        "plt.plot([y_test_true.min(), y_test_true.max()], [y_test_true.min(), y_test_true.max()], 'r--', lw=2)\n",
        "plt.xlabel('Actual Ratings')\n",
        "plt.ylabel('Predicted Ratings')\n",
        "plt.title('Predicted vs Actual Ratings')"
      ],
      "metadata": {
        "id": "c2J4Q2nzgbmt",
        "colab": {
          "base_uri": "https://localhost:8080/",
          "height": 287
        },
        "outputId": "97a1ca78-7cfb-4400-bae3-e047e851d31f"
      },
      "execution_count": 37,
      "outputs": [
        {
          "output_type": "execute_result",
          "data": {
            "text/plain": [
              "Text(0.5, 1.0, 'Predicted vs Actual Ratings')"
            ]
          },
          "metadata": {},
          "execution_count": 37
        },
        {
          "output_type": "display_data",
          "data": {
            "text/plain": [
              "<Figure size 640x480 with 1 Axes>"
            ],
            "image/png": "[encoded data removed]"
          },
          "metadata": {}
        }
      ]
    },
    {
      "cell_type": "code",
      "source": [
        "# Plot 4: Model Comparison\n",
        "plt.subplot(2, 3, 5)\n",
        "methods = ['Random', 'Mean', 'Our Model']\n",
        "mse_scores = [random_mse, mean_mse, test_results['MSE']]\n",
        "plt.bar(methods, mse_scores)\n",
        "plt.title('MSE Comparison')\n",
        "plt.ylabel('MSE')"
      ],
      "metadata": {
        "id": "IY4JEzDygflH",
        "colab": {
          "base_uri": "https://localhost:8080/",
          "height": 268
        },
        "outputId": "e42d58cc-fe7f-4718-acd1-5319bf5f315e"
      },
      "execution_count": 38,
      "outputs": [
        {
          "output_type": "execute_result",
          "data": {
            "text/plain": [
              "Text(0, 0.5, 'MSE')"
            ]
          },
          "metadata": {},
          "execution_count": 38
        },
        {
          "output_type": "display_data",
          "data": {
            "text/plain": [
              "<Figure size 640x480 with 1 Axes>"
            ],
            "image/png": "[encoded data removed]"
          },
          "metadata": {}
        }
      ]
    },
    {
      "cell_type": "code",
      "source": [
        "# Plot 5: Hyperparameter Tuning Results\n",
        "plt.subplot(2, 3, 5)\n",
        "tuning_scores = [result['cv_score'] for result in tuning_results]\n",
        "config_names = [f\"Config {i+1}\" for i in range(len(tuning_results))]\n",
        "plt.bar(config_names, tuning_scores)\n",
        "plt.title('Hyperparameter Tuning Results')\n",
        "plt.ylabel('CV Score')\n",
        "plt.xticks(rotation=45)"
      ],
      "metadata": {
        "id": "mLyY91kIginJ",
        "colab": {
          "base_uri": "https://localhost:8080/",
          "height": 322
        },
        "outputId": "82a8c4f4-c17d-40e0-b684-a9bdb1c35976"
      },
      "execution_count": 39,
      "outputs": [
        {
          "output_type": "execute_result",
          "data": {
            "text/plain": [
              "([0, 1, 2],\n",
              " [Text(0, 0, 'Config 1'), Text(1, 0, 'Config 2'), Text(2, 0, 'Config 3')])"
            ]
          },
          "metadata": {},
          "execution_count": 39
        },
        {
          "output_type": "display_data",
          "data": {
            "text/plain": [
              "<Figure size 640x480 with 1 Axes>"
            ],
            "image/png": "[encoded data removed]"
          },
          "metadata": {}
        }
      ]
    },
    {
      "cell_type": "code",
      "source": [
        "# Plot 6: Feature Importance (User vs Item)\n",
        "plt.subplot(2, 3, 6)\n",
        "user_importance = np.mean(np.abs(final_model.get_layer('user_dense_0').get_weights()[0]), axis=1)\n",
        "item_importance = np.mean(np.abs(final_model.get_layer('item_dense_0').get_weights()[0]), axis=1)\n",
        "\n",
        "plt.bar(range(len(user_importance)), user_importance, alpha=0.7, label='User Features')\n",
        "plt.bar(range(len(item_importance)), item_importance, alpha=0.7, label='Item Features')\n",
        "plt.title('Feature Importance')\n",
        "plt.xlabel('Feature Index')\n",
        "plt.ylabel('Average Weight Magnitude')\n",
        "plt.legend()\n",
        "\n",
        "plt.tight_layout()\n",
        "plt.show()"
      ],
      "metadata": {
        "id": "HxCY35gcglHY",
        "colab": {
          "base_uri": "https://localhost:8080/",
          "height": 287
        },
        "outputId": "a5ed1833-f333-471e-9cbe-245a0813dcf8"
      },
      "execution_count": 40,
      "outputs": [
        {
          "output_type": "display_data",
          "data": {
            "text/plain": [
              "<Figure size 640x480 with 1 Axes>"
            ],
            "image/png": "[encoded data removed]"
          },
          "metadata": {}
        }
      ]
    },
    {
      "cell_type": "markdown",
      "source": [
        "#FINAL PERFORMANCE SUMMARY"
      ],
      "metadata": {
        "id": "rJaRR9MqgyFu"
      }
    },
    {
      "cell_type": "code",
      "source": [
        "# Create comprehensive performance report\n",
        "performance_summary = {\n",
        "    'Model Architecture': {\n",
        "        'Type': 'Hybrid (Content-Based + Collaborative)',\n",
        "        'User Hidden Units': best_config['user_hidden_units'],\n",
        "        'Item Hidden Units': best_config['item_hidden_units'],\n",
        "        'Output Dimensions': best_config['num_outputs'],\n",
        "        'Dropout Rate': best_config['dropout_rate'],\n",
        "        'Activation': best_config['activation']\n",
        "    },\n",
        "    'Training Results': train_results,\n",
        "    'Test Results': test_results,\n",
        "    'Baseline Comparison': {\n",
        "        'Random Baseline MSE': random_mse,\n",
        "        'Mean Baseline MSE': mean_mse,\n",
        "        'Our Model MSE': test_results['MSE'],\n",
        "        'Improvement over Random': (random_mse - test_results['MSE']) / random_mse * 100,\n",
        "        'Improvement over Mean': (mean_mse - test_results['MSE']) / mean_mse * 100\n",
        "    }\n",
        "}\n",
        "\n",
        "print(\"\\n=== MODEL ARCHITECTURE ===\")\n",
        "for key, value in performance_summary['Model Architecture'].items():\n",
        "    print(f\"{key}: {value}\")\n",
        "\n",
        "print(\"\\n=== PERFORMANCE METRICS ===\")\n",
        "print(\"Training Performance:\")\n",
        "for metric, value in performance_summary['Training Results'].items():\n",
        "    print(f\"  {metric}: {value:.4f}\")\n",
        "\n",
        "print(\"\\nTesting Performance:\")\n",
        "for metric, value in performance_summary['Test Results'].items():\n",
        "    print(f\"  {metric}: {value:.4f}\")\n",
        "\n",
        "print(\"\\n=== BASELINE COMPARISON ===\")\n",
        "for key, value in performance_summary['Baseline Comparison'].items():\n",
        "    if 'Improvement' in key:\n",
        "        print(f\"{key}: {value:.2f}%\")\n",
        "    else:\n",
        "        print(f\"{key}: {value:.4f}\")\n"
      ],
      "metadata": {
        "id": "HJzSf1QEgzmt",
        "colab": {
          "base_uri": "https://localhost:8080/",
          "height": 0
        },
        "outputId": "2aad7894-86a0-4280-d275-1cf74f276289"
      },
      "execution_count": 41,
      "outputs": [
        {
          "output_type": "stream",
          "name": "stdout",
          "text": [
            "\n",
            "=== MODEL ARCHITECTURE ===\n",
            "Type: Hybrid (Content-Based + Collaborative)\n",
            "User Hidden Units: [512, 256, 128]\n",
            "Item Hidden Units: [512, 256, 128]\n",
            "Output Dimensions: 64\n",
            "Dropout Rate: 0.3\n",
            "Activation: relu\n",
            "\n",
            "=== PERFORMANCE METRICS ===\n",
            "Training Performance:\n",
            "  MSE: 0.4970\n",
            "  MAE: 0.5322\n",
            "  RMSE: 0.7050\n",
            "  Precision@5: 1.0000\n",
            "  Recall@5: 0.0002\n",
            "  Precision@10: 1.0000\n",
            "  Recall@10: 0.0004\n",
            "  NDCG@5: 0.8448\n",
            "  NDCG@10: 0.8588\n",
            "  Coverage: 0.9962\n",
            "\n",
            "Testing Performance:\n",
            "  MSE: 0.5351\n",
            "  MAE: 0.5510\n",
            "  RMSE: 0.7315\n",
            "  Precision@5: 1.0000\n",
            "  Recall@5: 0.0009\n",
            "  Precision@10: 1.0000\n",
            "  Recall@10: 0.0017\n",
            "  NDCG@5: 1.0000\n",
            "  NDCG@10: 0.9313\n",
            "  Coverage: 0.9990\n",
            "\n",
            "=== BASELINE COMPARISON ===\n",
            "Random Baseline MSE: 0.9916\n",
            "Mean Baseline MSE: 0.9892\n",
            "Our Model MSE: 0.5351\n",
            "Improvement over Random: 46.03%\n",
            "Improvement over Mean: 45.90%\n"
          ]
        }
      ]
    }
  ]
}